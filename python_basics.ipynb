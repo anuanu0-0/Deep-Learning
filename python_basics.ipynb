{
  "nbformat": 4,
  "nbformat_minor": 0,
  "metadata": {
    "colab": {
      "name": "python_basics.ipynb",
      "provenance": [],
      "collapsed_sections": [
        "LiOjiq-DqTkq",
        "QDJ-J-2nbJeA",
        "NjA_Bg-kf1XE",
        "GFxRXKwxwUbC",
        "V7BfoiQfLfnj"
      ],
      "toc_visible": true,
      "authorship_tag": "ABX9TyPJFvQ4kIbI3X+W9btlz0BA",
      "include_colab_link": true
    },
    "kernelspec": {
      "name": "python3",
      "display_name": "Python 3"
    }
  },
  "cells": [
    {
      "cell_type": "markdown",
      "metadata": {
        "id": "view-in-github",
        "colab_type": "text"
      },
      "source": [
        "<a href=\"https://colab.research.google.com/github/anuanu0-0/Deep-Learning/blob/master/python_basics.ipynb\" target=\"_parent\"><img src=\"https://colab.research.google.com/assets/colab-badge.svg\" alt=\"Open In Colab\"/></a>"
      ]
    },
    {
      "cell_type": "markdown",
      "metadata": {
        "id": "vCtyQ-1JoU6U",
        "colab_type": "text"
      },
      "source": [
        "\n",
        "# Simple data types and operators\n"
      ]
    },
    {
      "cell_type": "code",
      "metadata": {
        "id": "CZN3hP8Enrd7",
        "colab_type": "code",
        "outputId": "f9c8cbf1-7d68-4a60-db2f-948f01eeb847",
        "colab": {
          "base_uri": "https://localhost:8080/",
          "height": 35
        }
      },
      "source": [
        "name = 'Hello World'\n",
        "type(name)\n"
      ],
      "execution_count": 10,
      "outputs": [
        {
          "output_type": "execute_result",
          "data": {
            "text/plain": [
              "str"
            ]
          },
          "metadata": {
            "tags": []
          },
          "execution_count": 10
        }
      ]
    },
    {
      "cell_type": "code",
      "metadata": {
        "id": "41AZlYAjocqx",
        "colab_type": "code",
        "outputId": "7544d38b-7669-48a8-b15e-5c549840c53c",
        "colab": {
          "base_uri": "https://localhost:8080/",
          "height": 35
        }
      },
      "source": [
        "print(name)"
      ],
      "execution_count": 11,
      "outputs": [
        {
          "output_type": "stream",
          "text": [
            "Hello World\n"
          ],
          "name": "stdout"
        }
      ]
    },
    {
      "cell_type": "code",
      "metadata": {
        "id": "Cx_VPH9uoifw",
        "colab_type": "code",
        "outputId": "bddeeacd-6c0c-49b2-b9c4-40a1d14d23c3",
        "colab": {
          "base_uri": "https://localhost:8080/",
          "height": 35
        }
      },
      "source": [
        "size = 12.22\n",
        "type(size)"
      ],
      "execution_count": 12,
      "outputs": [
        {
          "output_type": "execute_result",
          "data": {
            "text/plain": [
              "float"
            ]
          },
          "metadata": {
            "tags": []
          },
          "execution_count": 12
        }
      ]
    },
    {
      "cell_type": "code",
      "metadata": {
        "id": "fU16mjuCop99",
        "colab_type": "code",
        "outputId": "7b55d217-2fea-46fa-8acf-96673c778647",
        "colab": {
          "base_uri": "https://localhost:8080/",
          "height": 35
        }
      },
      "source": [
        "num = 2\n",
        "type(num)"
      ],
      "execution_count": 13,
      "outputs": [
        {
          "output_type": "execute_result",
          "data": {
            "text/plain": [
              "int"
            ]
          },
          "metadata": {
            "tags": []
          },
          "execution_count": 13
        }
      ]
    },
    {
      "cell_type": "code",
      "metadata": {
        "id": "9sCCj-olozyk",
        "colab_type": "code",
        "outputId": "e03288a2-3e97-4632-e122-2472fa8a1b65",
        "colab": {
          "base_uri": "https://localhost:8080/",
          "height": 35
        }
      },
      "source": [
        "print('Its just a ' + name + ' program')"
      ],
      "execution_count": 14,
      "outputs": [
        {
          "output_type": "stream",
          "text": [
            "Its just a Hello World program\n"
          ],
          "name": "stdout"
        }
      ]
    },
    {
      "cell_type": "code",
      "metadata": {
        "id": "tjjjs5Zqo-mu",
        "colab_type": "code",
        "outputId": "6d6ebee9-ddd9-480b-8740-8c8922146112",
        "colab": {
          "base_uri": "https://localhost:8080/",
          "height": 35
        }
      },
      "source": [
        "a = 1\n",
        "b = 6\n",
        "print(a*b, a/b, a+b, a-b, a**b, a//b)"
      ],
      "execution_count": 15,
      "outputs": [
        {
          "output_type": "stream",
          "text": [
            "6 0.16666666666666666 7 -5 1 0\n"
          ],
          "name": "stdout"
        }
      ]
    },
    {
      "cell_type": "code",
      "metadata": {
        "id": "uq1VNUMdpae7",
        "colab_type": "code",
        "outputId": "7e16fa72-4ce7-4b89-f361-1baa91795f01",
        "colab": {
          "base_uri": "https://localhost:8080/",
          "height": 35
        }
      },
      "source": [
        "is_android = False\n",
        "type(is_android)\n"
      ],
      "execution_count": 16,
      "outputs": [
        {
          "output_type": "execute_result",
          "data": {
            "text/plain": [
              "bool"
            ]
          },
          "metadata": {
            "tags": []
          },
          "execution_count": 16
        }
      ]
    },
    {
      "cell_type": "code",
      "metadata": {
        "id": "yN15BumXqAB_",
        "colab_type": "code",
        "outputId": "8df7c150-a991-4138-900a-c4f1f73cba41",
        "colab": {
          "base_uri": "https://localhost:8080/",
          "height": 53
        }
      },
      "source": [
        "print (is_android == True and num > 1)\n",
        "print (is_android == True or num > 1)"
      ],
      "execution_count": 17,
      "outputs": [
        {
          "output_type": "stream",
          "text": [
            "False\n",
            "True\n"
          ],
          "name": "stdout"
        }
      ]
    },
    {
      "cell_type": "markdown",
      "metadata": {
        "id": "LiOjiq-DqTkq",
        "colab_type": "text"
      },
      "source": [
        "# Blocks -If, For, While\n"
      ]
    },
    {
      "cell_type": "code",
      "metadata": {
        "id": "aI2CWN_lqaol",
        "colab_type": "code",
        "outputId": "b2984736-5766-4643-f550-a14b8cc307ad",
        "colab": {
          "base_uri": "https://localhost:8080/",
          "height": 0
        }
      },
      "source": [
        "if is_android == True:\n",
        "  print('Hello there')\n",
        "  # Try to make is_android = true while declaration\n",
        "print ('I always run') "
      ],
      "execution_count": 18,
      "outputs": [
        {
          "output_type": "stream",
          "text": [
            "I always run\n"
          ],
          "name": "stdout"
        }
      ]
    },
    {
      "cell_type": "code",
      "metadata": {
        "colab_type": "code",
        "outputId": "3f859a53-dfbe-406e-deb5-ffea080ad775",
        "id": "8kSCEtucar5e",
        "colab": {
          "base_uri": "https://localhost:8080/",
          "height": 0
        }
      },
      "source": [
        "for i in range(2, 5):\n",
        "  print (i, i**2)"
      ],
      "execution_count": 19,
      "outputs": [
        {
          "output_type": "stream",
          "text": [
            "2 4\n",
            "3 9\n",
            "4 16\n"
          ],
          "name": "stdout"
        }
      ]
    },
    {
      "cell_type": "code",
      "metadata": {
        "id": "6bw6i0Uzatbf",
        "colab_type": "code",
        "colab": {}
      },
      "source": [
        "range?\n"
      ],
      "execution_count": 0,
      "outputs": []
    },
    {
      "cell_type": "code",
      "metadata": {
        "id": "7AXVr6yna41o",
        "colab_type": "code",
        "outputId": "18931db1-4c88-4bb6-9f3a-a86d83c3c7cd",
        "colab": {
          "base_uri": "https://localhost:8080/",
          "height": 0
        }
      },
      "source": [
        "i = 0\n",
        "while i < 5:\n",
        "  print (i, i**2)\n",
        "  i += 1"
      ],
      "execution_count": 21,
      "outputs": [
        {
          "output_type": "stream",
          "text": [
            "0 0\n",
            "1 1\n",
            "2 4\n",
            "3 9\n",
            "4 16\n"
          ],
          "name": "stdout"
        }
      ]
    },
    {
      "cell_type": "markdown",
      "metadata": {
        "id": "QDJ-J-2nbJeA",
        "colab_type": "text"
      },
      "source": [
        "# Functions\n"
      ]
    },
    {
      "cell_type": "code",
      "metadata": {
        "colab_type": "code",
        "id": "TTv19F1ybqqy",
        "colab": {}
      },
      "source": [
        "def print_square(stop_val):\n",
        "  for i in range(stop_val):\n",
        "    print (i, i**2)"
      ],
      "execution_count": 0,
      "outputs": []
    },
    {
      "cell_type": "code",
      "metadata": {
        "id": "Zt4g5iTbbsxg",
        "colab_type": "code",
        "outputId": "ea153d81-455e-4008-8059-65080eb0f3f1",
        "colab": {
          "base_uri": "https://localhost:8080/",
          "height": 0
        }
      },
      "source": [
        "print_square(5)"
      ],
      "execution_count": 23,
      "outputs": [
        {
          "output_type": "stream",
          "text": [
            "0 0\n",
            "1 1\n",
            "2 4\n",
            "3 9\n",
            "4 16\n"
          ],
          "name": "stdout"
        }
      ]
    },
    {
      "cell_type": "code",
      "metadata": {
        "id": "wrF17w7abzYf",
        "colab_type": "code",
        "colab": {}
      },
      "source": [
        "\n",
        "def print_square_sum(stop_val):\n",
        "  sum_ = 0\n",
        "  for i in range(stop_val):\n",
        "    sum_ += i ** 2\n",
        "  return sum_"
      ],
      "execution_count": 0,
      "outputs": []
    },
    {
      "cell_type": "code",
      "metadata": {
        "id": "C4np19hkepYP",
        "colab_type": "code",
        "outputId": "386c5905-f08d-48fb-e389-8f12d4089af2",
        "colab": {
          "base_uri": "https://localhost:8080/",
          "height": 0
        }
      },
      "source": [
        "print_square_sum(5)"
      ],
      "execution_count": 25,
      "outputs": [
        {
          "output_type": "execute_result",
          "data": {
            "text/plain": [
              "30"
            ]
          },
          "metadata": {
            "tags": []
          },
          "execution_count": 25
        }
      ]
    },
    {
      "cell_type": "code",
      "metadata": {
        "colab_type": "code",
        "id": "qOIOvXw2dsoe",
        "colab": {}
      },
      "source": [
        "def print_squares_with_startval(stop_val , start_val = 0):\n",
        "    for i in range(start_val, stop_val):\n",
        "      print (i , i**2)"
      ],
      "execution_count": 0,
      "outputs": []
    },
    {
      "cell_type": "code",
      "metadata": {
        "colab_type": "code",
        "outputId": "b0f349d6-5b9c-4c80-a73b-8c5610d615b6",
        "id": "G1vsjp5GfpNz",
        "colab": {
          "base_uri": "https://localhost:8080/",
          "height": 0
        }
      },
      "source": [
        "print_squares_with_startval(4, 2)"
      ],
      "execution_count": 27,
      "outputs": [
        {
          "output_type": "stream",
          "text": [
            "2 4\n",
            "3 9\n"
          ],
          "name": "stdout"
        }
      ]
    },
    {
      "cell_type": "code",
      "metadata": {
        "id": "hMELpU3_fp-V",
        "colab_type": "code",
        "colab": {}
      },
      "source": [
        "print_squares_with_startval?"
      ],
      "execution_count": 0,
      "outputs": []
    },
    {
      "cell_type": "markdown",
      "metadata": {
        "id": "NjA_Bg-kf1XE",
        "colab_type": "text"
      },
      "source": [
        "# Lists\n"
      ]
    },
    {
      "cell_type": "code",
      "metadata": {
        "id": "B-qLGgKwf0U8",
        "colab_type": "code",
        "outputId": "0fa461e5-f965-48fe-e037-734d31d0cc48",
        "colab": {
          "base_uri": "https://localhost:8080/",
          "height": 0
        }
      },
      "source": [
        "my_life = [name, is_android, size]\n",
        "print (my_life)"
      ],
      "execution_count": 29,
      "outputs": [
        {
          "output_type": "stream",
          "text": [
            "['Hello World', False, 12.22]\n"
          ],
          "name": "stdout"
        }
      ]
    },
    {
      "cell_type": "code",
      "metadata": {
        "id": "cARTf2cYk1i0",
        "colab_type": "code",
        "outputId": "8b982840-b201-4984-d8c7-533bba06f7ed",
        "colab": {
          "base_uri": "https://localhost:8080/",
          "height": 0
        }
      },
      "source": [
        "type(my_life)"
      ],
      "execution_count": 30,
      "outputs": [
        {
          "output_type": "execute_result",
          "data": {
            "text/plain": [
              "list"
            ]
          },
          "metadata": {
            "tags": []
          },
          "execution_count": 30
        }
      ]
    },
    {
      "cell_type": "code",
      "metadata": {
        "id": "2Z8jyu4sk_EJ",
        "colab_type": "code",
        "outputId": "a030e07c-b089-4df2-d591-24e323154c20",
        "colab": {
          "base_uri": "https://localhost:8080/",
          "height": 0
        }
      },
      "source": [
        "my_life[2]"
      ],
      "execution_count": 31,
      "outputs": [
        {
          "output_type": "execute_result",
          "data": {
            "text/plain": [
              "12.22"
            ]
          },
          "metadata": {
            "tags": []
          },
          "execution_count": 31
        }
      ]
    },
    {
      "cell_type": "code",
      "metadata": {
        "id": "two03cbulBqz",
        "colab_type": "code",
        "outputId": "8d2ed6f0-6b95-4b85-e852-f3f6e0936546",
        "colab": {
          "base_uri": "https://localhost:8080/",
          "height": 0
        }
      },
      "source": [
        "my_life[1:3]"
      ],
      "execution_count": 32,
      "outputs": [
        {
          "output_type": "execute_result",
          "data": {
            "text/plain": [
              "[False, 12.22]"
            ]
          },
          "metadata": {
            "tags": []
          },
          "execution_count": 32
        }
      ]
    },
    {
      "cell_type": "code",
      "metadata": {
        "id": "ShDA7e9rlGf4",
        "colab_type": "code",
        "colab": {}
      },
      "source": [
        "my_other_life = my_life\n",
        "my_secondOther_life = list(my_life)"
      ],
      "execution_count": 0,
      "outputs": []
    },
    {
      "cell_type": "code",
      "metadata": {
        "id": "YlNj1LbDlQ7q",
        "colab_type": "code",
        "outputId": "c565b18b-309a-427c-b198-a2f79ed0fc86",
        "colab": {
          "base_uri": "https://localhost:8080/",
          "height": 0
        }
      },
      "source": [
        "print (my_other_life)\n",
        "print (my_secondOther_life)"
      ],
      "execution_count": 34,
      "outputs": [
        {
          "output_type": "stream",
          "text": [
            "['Hello World', False, 12.22]\n",
            "['Hello World', False, 12.22]\n"
          ],
          "name": "stdout"
        }
      ]
    },
    {
      "cell_type": "code",
      "metadata": {
        "id": "VOK3dL-wls--",
        "colab_type": "code",
        "outputId": "039ec0b8-e8b2-44f0-eba0-cfe95370b55c",
        "colab": {
          "base_uri": "https://localhost:8080/",
          "height": 0
        }
      },
      "source": [
        "my_life[2] = 1001.1001\n",
        "print (my_life)"
      ],
      "execution_count": 35,
      "outputs": [
        {
          "output_type": "stream",
          "text": [
            "['Hello World', False, 1001.1001]\n"
          ],
          "name": "stdout"
        }
      ]
    },
    {
      "cell_type": "code",
      "metadata": {
        "id": "2UPrAcVsl7Ym",
        "colab_type": "code",
        "outputId": "7120539d-190f-4a0c-cb6a-35a0479e8e52",
        "colab": {
          "base_uri": "https://localhost:8080/",
          "height": 0
        }
      },
      "source": [
        "len (my_life)"
      ],
      "execution_count": 36,
      "outputs": [
        {
          "output_type": "execute_result",
          "data": {
            "text/plain": [
              "3"
            ]
          },
          "metadata": {
            "tags": []
          },
          "execution_count": 36
        }
      ]
    },
    {
      "cell_type": "code",
      "metadata": {
        "id": "eVw_EDrXmXFr",
        "colab_type": "code",
        "colab": {}
      },
      "source": [
        "len?"
      ],
      "execution_count": 0,
      "outputs": []
    },
    {
      "cell_type": "code",
      "metadata": {
        "id": "WkN74iMNmeOn",
        "colab_type": "code",
        "outputId": "3cbefb58-7b42-4aef-a46f-b972e99f4272",
        "colab": {
          "base_uri": "https://localhost:8080/",
          "height": 0
        }
      },
      "source": [
        "my_life.append('Coding')\n",
        "print (my_life)"
      ],
      "execution_count": 38,
      "outputs": [
        {
          "output_type": "stream",
          "text": [
            "['Hello World', False, 1001.1001, 'Coding']\n"
          ],
          "name": "stdout"
        }
      ]
    },
    {
      "cell_type": "code",
      "metadata": {
        "id": "cE3xicq0mxGe",
        "colab_type": "code",
        "outputId": "cc13d241-6a99-4849-f4b5-f25b4684121d",
        "colab": {
          "base_uri": "https://localhost:8080/",
          "height": 0
        }
      },
      "source": [
        "pro = ['backtracking', 101]\n",
        "my_life = my_life + pro\n",
        "print (my_life)"
      ],
      "execution_count": 39,
      "outputs": [
        {
          "output_type": "stream",
          "text": [
            "['Hello World', False, 1001.1001, 'Coding', 'backtracking', 101]\n"
          ],
          "name": "stdout"
        }
      ]
    },
    {
      "cell_type": "code",
      "metadata": {
        "id": "perht4cLnhj-",
        "colab_type": "code",
        "outputId": "e92737ed-36ba-484a-a9bc-3ee1e9c6077e",
        "colab": {
          "base_uri": "https://localhost:8080/",
          "height": 0
        }
      },
      "source": [
        "for data in my_life:\n",
        "  print (data)"
      ],
      "execution_count": 40,
      "outputs": [
        {
          "output_type": "stream",
          "text": [
            "Hello World\n",
            "False\n",
            "1001.1001\n",
            "Coding\n",
            "backtracking\n",
            "101\n"
          ],
          "name": "stdout"
        }
      ]
    },
    {
      "cell_type": "code",
      "metadata": {
        "id": "Q90Yh8N1nse9",
        "colab_type": "code",
        "outputId": "e29488a4-048c-4d72-82a3-4d2b4a4560ac",
        "colab": {
          "base_uri": "https://localhost:8080/",
          "height": 0
        }
      },
      "source": [
        "range(5)"
      ],
      "execution_count": 41,
      "outputs": [
        {
          "output_type": "execute_result",
          "data": {
            "text/plain": [
              "range(0, 5)"
            ]
          },
          "metadata": {
            "tags": []
          },
          "execution_count": 41
        }
      ]
    },
    {
      "cell_type": "code",
      "metadata": {
        "id": "Wl_Mg4L_nxVq",
        "colab_type": "code",
        "outputId": "c4bfdf83-eb98-473c-a843-40ffdc2476e0",
        "colab": {
          "base_uri": "https://localhost:8080/",
          "height": 0
        }
      },
      "source": [
        "print (list(range(5)))"
      ],
      "execution_count": 42,
      "outputs": [
        {
          "output_type": "stream",
          "text": [
            "[0, 1, 2, 3, 4]\n"
          ],
          "name": "stdout"
        }
      ]
    },
    {
      "cell_type": "code",
      "metadata": {
        "id": "O9pvyWdmoBT5",
        "colab_type": "code",
        "outputId": "a637c278-b884-4e8a-d38b-80731fdc69ea",
        "colab": {
          "base_uri": "https://localhost:8080/",
          "height": 0
        }
      },
      "source": [
        "a = list(range(5))\n",
        "print (a)"
      ],
      "execution_count": 43,
      "outputs": [
        {
          "output_type": "stream",
          "text": [
            "[0, 1, 2, 3, 4]\n"
          ],
          "name": "stdout"
        }
      ]
    },
    {
      "cell_type": "code",
      "metadata": {
        "id": "ayy2g16kotxF",
        "colab_type": "code",
        "colab": {}
      },
      "source": [
        "map?"
      ],
      "execution_count": 0,
      "outputs": []
    },
    {
      "cell_type": "code",
      "metadata": {
        "id": "8i_YsgJqo5Eh",
        "colab_type": "code",
        "outputId": "aaadde53-ab7f-49c0-cac5-a53c37e38fc1",
        "colab": {
          "base_uri": "https://localhost:8080/",
          "height": 0
        }
      },
      "source": [
        "z = [1,2,3,4,5]\n",
        "test = list(map(lambda x: x * 2, z))\n",
        "print(test)"
      ],
      "execution_count": 45,
      "outputs": [
        {
          "output_type": "stream",
          "text": [
            "[2, 4, 6, 8, 10]\n"
          ],
          "name": "stdout"
        }
      ]
    },
    {
      "cell_type": "code",
      "metadata": {
        "id": "3sFpbPUtoS5s",
        "colab_type": "code",
        "outputId": "5dc5977f-8a7b-4ff8-99c9-6bd92fbccc77",
        "colab": {
          "base_uri": "https://localhost:8080/",
          "height": 0
        }
      },
      "source": [
        "b = list(map(lambda x: x**2, a))\n",
        "print (b)"
      ],
      "execution_count": 46,
      "outputs": [
        {
          "output_type": "stream",
          "text": [
            "[0, 1, 4, 9, 16]\n"
          ],
          "name": "stdout"
        }
      ]
    },
    {
      "cell_type": "code",
      "metadata": {
        "id": "AOcijTVIn1R-",
        "colab_type": "code",
        "outputId": "50b357c6-570f-4af3-a9d2-84b984987a35",
        "colab": {
          "base_uri": "https://localhost:8080/",
          "height": 0
        }
      },
      "source": [
        "c = list(filter(lambda x: x % 2 != 0, b))\n",
        "print(c)"
      ],
      "execution_count": 47,
      "outputs": [
        {
          "output_type": "stream",
          "text": [
            "[1, 9]\n"
          ],
          "name": "stdout"
        }
      ]
    },
    {
      "cell_type": "markdown",
      "metadata": {
        "id": "3bc9v0fEokRA",
        "colab_type": "text"
      },
      "source": [
        "# Tuples, Sets and Dicts"
      ]
    },
    {
      "cell_type": "code",
      "metadata": {
        "id": "a9RWBvdiofaT",
        "colab_type": "code",
        "outputId": "674af52e-3053-418f-e0cb-21fe87b8be24",
        "colab": {
          "base_uri": "https://localhost:8080/",
          "height": 53
        }
      },
      "source": [
        "my_work_tuple = ('StartUp', True, 11.54)\n",
        "print(my_work_tuple)\n",
        "type (my_work_tuple)"
      ],
      "execution_count": 48,
      "outputs": [
        {
          "output_type": "stream",
          "text": [
            "('StartUp', True, 11.54)\n"
          ],
          "name": "stdout"
        },
        {
          "output_type": "execute_result",
          "data": {
            "text/plain": [
              "tuple"
            ]
          },
          "metadata": {
            "tags": []
          },
          "execution_count": 48
        }
      ]
    },
    {
      "cell_type": "code",
      "metadata": {
        "id": "7tQgaEZtpie7",
        "colab_type": "code",
        "outputId": "214600d9-9a77-4d04-ffaa-0d0b1de964dd",
        "colab": {
          "base_uri": "https://localhost:8080/",
          "height": 35
        }
      },
      "source": [
        "my_work_tuple[1:3]"
      ],
      "execution_count": 49,
      "outputs": [
        {
          "output_type": "execute_result",
          "data": {
            "text/plain": [
              "(True, 11.54)"
            ]
          },
          "metadata": {
            "tags": []
          },
          "execution_count": 49
        }
      ]
    },
    {
      "cell_type": "code",
      "metadata": {
        "id": "2HLf0ZIOprOg",
        "colab_type": "code",
        "outputId": "2026f7e4-e446-4097-8d1a-cf3d14bae9ef",
        "colab": {
          "base_uri": "https://localhost:8080/",
          "height": 71
        }
      },
      "source": [
        "for data in my_work_tuple:\n",
        "  print(data)"
      ],
      "execution_count": 50,
      "outputs": [
        {
          "output_type": "stream",
          "text": [
            "StartUp\n",
            "True\n",
            "11.54\n"
          ],
          "name": "stdout"
        }
      ]
    },
    {
      "cell_type": "code",
      "metadata": {
        "id": "pJm88JeNpy37",
        "colab_type": "code",
        "outputId": "cb4e6682-5b31-4b3e-a3b1-3e0556c78edf",
        "colab": {
          "base_uri": "https://localhost:8080/",
          "height": 172
        }
      },
      "source": [
        "my_work_tuple[2] = 1"
      ],
      "execution_count": 51,
      "outputs": [
        {
          "output_type": "error",
          "ename": "TypeError",
          "evalue": "ignored",
          "traceback": [
            "\u001b[0;31m---------------------------------------------------------------------------\u001b[0m",
            "\u001b[0;31mTypeError\u001b[0m                                 Traceback (most recent call last)",
            "\u001b[0;32m<ipython-input-51-eaa5bcaef4ae>\u001b[0m in \u001b[0;36m<module>\u001b[0;34m()\u001b[0m\n\u001b[0;32m----> 1\u001b[0;31m \u001b[0mmy_work_tuple\u001b[0m\u001b[0;34m[\u001b[0m\u001b[0;36m2\u001b[0m\u001b[0;34m]\u001b[0m \u001b[0;34m=\u001b[0m \u001b[0;36m1\u001b[0m\u001b[0;34m\u001b[0m\u001b[0;34m\u001b[0m\u001b[0m\n\u001b[0m",
            "\u001b[0;31mTypeError\u001b[0m: 'tuple' object does not support item assignment"
          ]
        }
      ]
    },
    {
      "cell_type": "code",
      "metadata": {
        "id": "puQJCdV1p3_4",
        "colab_type": "code",
        "colab": {}
      },
      "source": [
        "import time\n",
        "tic = time.time()\n",
        "print(tic)"
      ],
      "execution_count": 0,
      "outputs": []
    },
    {
      "cell_type": "code",
      "metadata": {
        "id": "YhGlCEc3qGwh",
        "colab_type": "code",
        "colab": {}
      },
      "source": [
        "time.time?"
      ],
      "execution_count": 0,
      "outputs": []
    },
    {
      "cell_type": "code",
      "metadata": {
        "id": "iFMj-efFqeJu",
        "colab_type": "code",
        "colab": {}
      },
      "source": [
        "tic = time.time()\n",
        "# Time elapsed in this comment is the difference between tic and toc\n",
        "toc = time.time()\n",
        "print('Elapsed time' , toc - tic)"
      ],
      "execution_count": 0,
      "outputs": []
    },
    {
      "cell_type": "code",
      "metadata": {
        "id": "H_qBUxFzq8ic",
        "colab_type": "code",
        "colab": {}
      },
      "source": [
        "my_list = list(range(1000000))\n",
        "tic = time.time()\n",
        "my_list_squared = map(lambda i: i**2, my_list)\n",
        "toc = time.time()\n",
        "print('Elapsed time in sec' , toc - tic)"
      ],
      "execution_count": 0,
      "outputs": []
    },
    {
      "cell_type": "code",
      "metadata": {
        "id": "X7w8cPnCrjqU",
        "colab_type": "code",
        "colab": {}
      },
      "source": [
        "my_tuple = tuple(range(1000000))\n",
        "tic = time.time()\n",
        "my_tuple_squared = map(lambda i: i**2, my_tuple)\n",
        "toc = time.time()\n",
        "print('Elapsed time in sec' , toc - tic)\n",
        "# Time taken in a tuple manipulation is less than the list manipulation\n"
      ],
      "execution_count": 0,
      "outputs": []
    },
    {
      "cell_type": "code",
      "metadata": {
        "id": "w0iyFw7nsQ1D",
        "colab_type": "code",
        "colab": {}
      },
      "source": [
        "my_set = set(my_life)\n",
        "print(my_set)"
      ],
      "execution_count": 0,
      "outputs": []
    },
    {
      "cell_type": "code",
      "metadata": {
        "id": "t4UlmM7FssS7",
        "colab_type": "code",
        "colab": {}
      },
      "source": [
        "my_list = list(range(1000000))\n",
        "tic = time.time()\n",
        "print (98731 in my_list)\n",
        "print (131581 in my_list)\n",
        "print (111111111111111 in my_list)\n",
        "toc = time.time()\n",
        "print('Elapsed time in sec' , toc - tic)"
      ],
      "execution_count": 0,
      "outputs": []
    },
    {
      "cell_type": "code",
      "metadata": {
        "id": "YYhnvRKPt056",
        "colab_type": "code",
        "colab": {}
      },
      "source": [
        "my_set = set(range(1000000))\n",
        "tic = time.time()\n",
        "print (98731 in my_list)\n",
        "print (131581 in my_list)\n",
        "print (111111111111111 in my_list)\n",
        "toc = time.time()\n",
        "print('Elapsed time in sec' , toc - tic)"
      ],
      "execution_count": 0,
      "outputs": []
    },
    {
      "cell_type": "code",
      "metadata": {
        "id": "8G2QRlDouaJj",
        "colab_type": "code",
        "colab": {}
      },
      "source": [
        "my_work_dict = {}\n",
        "type (my_work_dict)"
      ],
      "execution_count": 0,
      "outputs": []
    },
    {
      "cell_type": "code",
      "metadata": {
        "id": "PWwpswAkul1q",
        "colab_type": "code",
        "colab": {}
      },
      "source": [
        "my_work_dict['name'] = 'coding'\n",
        "my_work_dict['isActive'] = True\n",
        "my_work_dict['timeStamp'] =  12.19\n",
        "print(my_work_dict)"
      ],
      "execution_count": 0,
      "outputs": []
    },
    {
      "cell_type": "code",
      "metadata": {
        "id": "5nnWHF2gvGs1",
        "colab_type": "code",
        "colab": {}
      },
      "source": [
        "my_work_dict['name']"
      ],
      "execution_count": 0,
      "outputs": []
    },
    {
      "cell_type": "code",
      "metadata": {
        "id": "vczL_tbHvQKw",
        "colab_type": "code",
        "colab": {}
      },
      "source": [
        "print(my_work_dict.keys())\n",
        "print (my_work_dict.values())\n",
        "print(my_work_dict.items())"
      ],
      "execution_count": 0,
      "outputs": []
    },
    {
      "cell_type": "code",
      "metadata": {
        "id": "jWmRDa_yvmTC",
        "colab_type": "code",
        "colab": {}
      },
      "source": [
        "for key in my_work_dict.keys():\n",
        "  print(key, ':', my_work_dict[key])"
      ],
      "execution_count": 0,
      "outputs": []
    },
    {
      "cell_type": "markdown",
      "metadata": {
        "id": "E0rBsRVuwSNR",
        "colab_type": "text"
      },
      "source": [
        ""
      ]
    },
    {
      "cell_type": "markdown",
      "metadata": {
        "id": "GFxRXKwxwUbC",
        "colab_type": "text"
      },
      "source": [
        "# Python Packages\n",
        "\n"
      ]
    },
    {
      "cell_type": "code",
      "metadata": {
        "id": "Xhrqn1Dawhcj",
        "colab_type": "code",
        "colab": {}
      },
      "source": [
        "import math \n",
        "a = math.sqrt(100)\n",
        "print(a)"
      ],
      "execution_count": 0,
      "outputs": []
    },
    {
      "cell_type": "code",
      "metadata": {
        "id": "U6GdMp1hws-0",
        "colab_type": "code",
        "colab": {}
      },
      "source": [
        "a = math.pow(100, 0.5)\n",
        "print(a)"
      ],
      "execution_count": 0,
      "outputs": []
    },
    {
      "cell_type": "code",
      "metadata": {
        "id": "R93_vkwDw0is",
        "colab_type": "code",
        "colab": {}
      },
      "source": [
        "x = 100\n",
        "y = 1\n",
        "for i in range(1, x):\n",
        "  y *= i\n",
        "print('Factorial of', x, 'is', y)"
      ],
      "execution_count": 0,
      "outputs": []
    },
    {
      "cell_type": "code",
      "metadata": {
        "id": "bMffiBOXxQbM",
        "colab_type": "code",
        "colab": {}
      },
      "source": [
        "y = math.factorial(x)"
      ],
      "execution_count": 0,
      "outputs": []
    },
    {
      "cell_type": "code",
      "metadata": {
        "id": "TTa2HCXOxaVm",
        "colab_type": "code",
        "colab": {}
      },
      "source": [
        "import math as m \n",
        "y = m.factorial(x)"
      ],
      "execution_count": 0,
      "outputs": []
    },
    {
      "cell_type": "code",
      "metadata": {
        "id": "xxMcLE89xmBT",
        "colab_type": "code",
        "colab": {}
      },
      "source": [
        "from math import factorial\n",
        "y = factorial(x)"
      ],
      "execution_count": 0,
      "outputs": []
    },
    {
      "cell_type": "code",
      "metadata": {
        "id": "vg98Y5zwx6Ob",
        "colab_type": "code",
        "colab": {}
      },
      "source": [
        "val = list(range(1, 5))\n",
        "tic = time.time()\n",
        "y = 1\n",
        "for x in val:\n",
        "  y *= x\n",
        "  print (y) \n",
        "  toc = time.time()\n",
        "print('Elapsed time is ' , toc - tic) \n",
        "tic = time.time()\n",
        "# See the difference in time intervals\n",
        "for x in val:  \n",
        "  y1 = math.factorial(x)  \n",
        "  print(y1)\n",
        "  toc = time.time()\n",
        "print('Elapsed time is ' , toc - tic) \n"
      ],
      "execution_count": 0,
      "outputs": []
    },
    {
      "cell_type": "code",
      "metadata": {
        "id": "JMAN6Iie1ZBQ",
        "colab_type": "code",
        "colab": {}
      },
      "source": [
        "!echo 'def hello():' > my_first_module.py\n",
        "!echo '    print(\"Hello there.  It is another file\")' >> my_first_module.py\n",
        "!cat my_first_module.py"
      ],
      "execution_count": 0,
      "outputs": []
    },
    {
      "cell_type": "code",
      "metadata": {
        "id": "gJ02RK3M2Ezt",
        "colab_type": "code",
        "colab": {}
      },
      "source": [
        ""
      ],
      "execution_count": 0,
      "outputs": []
    },
    {
      "cell_type": "code",
      "metadata": {
        "id": "DCP5dVLR18si",
        "colab_type": "code",
        "colab": {}
      },
      "source": [
        "import my_first_module\n",
        "my_first_module.hello()"
      ],
      "execution_count": 0,
      "outputs": []
    },
    {
      "cell_type": "code",
      "metadata": {
        "id": "XU2q457-2Jh2",
        "colab_type": "code",
        "colab": {}
      },
      "source": [
        "from my_first_module import hello\n",
        "hello()"
      ],
      "execution_count": 0,
      "outputs": []
    },
    {
      "cell_type": "markdown",
      "metadata": {
        "id": "V7BfoiQfLfnj",
        "colab_type": "text"
      },
      "source": [
        "# File Handling"
      ]
    },
    {
      "cell_type": "code",
      "metadata": {
        "id": "2Km8TW-GLjz5",
        "colab_type": "code",
        "colab": {}
      },
      "source": [
        "!wget https://drive.google.com/drive/u/0/folders/1lDUKRkmRvtgMw2ihD8VZzT2ju8tjM6iN"
      ],
      "execution_count": 0,
      "outputs": []
    },
    {
      "cell_type": "code",
      "metadata": {
        "id": "hpNxFwH-MqAP",
        "colab_type": "code",
        "colab": {}
      },
      "source": [
        "!ls\n"
      ],
      "execution_count": 0,
      "outputs": []
    },
    {
      "cell_type": "code",
      "metadata": {
        "id": "Ulfn-c0TMzMZ",
        "colab_type": "code",
        "colab": {}
      },
      "source": [
        "!wget /content/sample_data/california_housing_test.csv"
      ],
      "execution_count": 0,
      "outputs": []
    },
    {
      "cell_type": "code",
      "metadata": {
        "id": "sPkknke8NCW7",
        "colab_type": "code",
        "colab": {}
      },
      "source": [
        "!ls"
      ],
      "execution_count": 0,
      "outputs": []
    },
    {
      "cell_type": "code",
      "metadata": {
        "id": "P7Zxad9yNG8Y",
        "colab_type": "code",
        "colab": {}
      },
      "source": [
        "file = open('california_housing_test.csv', 'r')"
      ],
      "execution_count": 0,
      "outputs": []
    },
    {
      "cell_type": "code",
      "metadata": {
        "id": "XjujjwWrNU73",
        "colab_type": "code",
        "colab": {}
      },
      "source": [
        "s = file.readline()"
      ],
      "execution_count": 0,
      "outputs": []
    },
    {
      "cell_type": "code",
      "metadata": {
        "id": "fGaF5FL_NZFv",
        "colab_type": "code",
        "colab": {}
      },
      "source": [
        "!wget https://drive.google.com/drive/u/0/folders/1lDUKRkmRvtgMw2ihD8VZzT2ju8tjM6iN"
      ],
      "execution_count": 0,
      "outputs": []
    },
    {
      "cell_type": "markdown",
      "metadata": {
        "id": "l6SJ_7sKOdHE",
        "colab_type": "text"
      },
      "source": [
        ""
      ]
    },
    {
      "cell_type": "markdown",
      "metadata": {
        "id": "PK4oy8sQOgNe",
        "colab_type": "text"
      },
      "source": [
        "# Python Classes"
      ]
    },
    {
      "cell_type": "code",
      "metadata": {
        "id": "fdSaIoAWOlNV",
        "colab_type": "code",
        "colab": {}
      },
      "source": [
        "\"\"\"class Test:\n",
        "  def __init__(self, name, is_work = False, size = 4.3 ):\n",
        "    self.name = name\n",
        "    self\n",
        "    \"\"\""
      ],
      "execution_count": 0,
      "outputs": []
    },
    {
      "cell_type": "markdown",
      "metadata": {
        "id": "6bY-DYdaPPKf",
        "colab_type": "text"
      },
      "source": [
        "# NumPy"
      ]
    },
    {
      "cell_type": "code",
      "metadata": {
        "id": "IQQp6B39PTIH",
        "colab_type": "code",
        "colab": {
          "base_uri": "https://localhost:8080/",
          "height": 35
        },
        "outputId": "7ffa1d95-1277-4257-ef05-6403cbfd055a"
      },
      "source": [
        "import numpy as np\n",
        "X = np.array([1, 2, 3])\n",
        "print (X)"
      ],
      "execution_count": 52,
      "outputs": [
        {
          "output_type": "stream",
          "text": [
            "[1 2 3]\n"
          ],
          "name": "stdout"
        }
      ]
    },
    {
      "cell_type": "code",
      "metadata": {
        "id": "sLBczYLYPlYQ",
        "colab_type": "code",
        "colab": {
          "base_uri": "https://localhost:8080/",
          "height": 35
        },
        "outputId": "63d49234-c676-4b82-d5a2-b03acccea52b"
      },
      "source": [
        "type(X)"
      ],
      "execution_count": 53,
      "outputs": [
        {
          "output_type": "execute_result",
          "data": {
            "text/plain": [
              "numpy.ndarray"
            ]
          },
          "metadata": {
            "tags": []
          },
          "execution_count": 53
        }
      ]
    },
    {
      "cell_type": "code",
      "metadata": {
        "id": "RubbygWAPoMz",
        "colab_type": "code",
        "colab": {
          "base_uri": "https://localhost:8080/",
          "height": 35
        },
        "outputId": "33e43df3-9273-4732-fbe0-8e67e8265283"
      },
      "source": [
        "L = [400, 510, 6]\n",
        "X = np.asarray(L)\n",
        "type(X)"
      ],
      "execution_count": 64,
      "outputs": [
        {
          "output_type": "execute_result",
          "data": {
            "text/plain": [
              "numpy.ndarray"
            ]
          },
          "metadata": {
            "tags": []
          },
          "execution_count": 64
        }
      ]
    },
    {
      "cell_type": "code",
      "metadata": {
        "id": "E33qyoROP9pQ",
        "colab_type": "code",
        "colab": {
          "base_uri": "https://localhost:8080/",
          "height": 35
        },
        "outputId": "6b6e9c1c-d767-403c-a4c4-8a8ac73981ba"
      },
      "source": [
        "print(X)"
      ],
      "execution_count": 65,
      "outputs": [
        {
          "output_type": "stream",
          "text": [
            "[400 510   6]\n"
          ],
          "name": "stdout"
        }
      ]
    },
    {
      "cell_type": "code",
      "metadata": {
        "id": "7rSUGWu8QICv",
        "colab_type": "code",
        "colab": {}
      },
      "source": [
        "np.asarray?"
      ],
      "execution_count": 0,
      "outputs": []
    },
    {
      "cell_type": "code",
      "metadata": {
        "id": "QJm2pfqOQg7S",
        "colab_type": "code",
        "colab": {
          "base_uri": "https://localhost:8080/",
          "height": 35
        },
        "outputId": "a7f831e6-dde1-43c0-c09b-1947aea9f931"
      },
      "source": [
        "X = np.asarray(L, dtype=float )\n",
        "print(X)"
      ],
      "execution_count": 73,
      "outputs": [
        {
          "output_type": "stream",
          "text": [
            "[400. 510.   6.]\n"
          ],
          "name": "stdout"
        }
      ]
    },
    {
      "cell_type": "code",
      "metadata": {
        "id": "N1R_5HrRR1As",
        "colab_type": "code",
        "colab": {
          "base_uri": "https://localhost:8080/",
          "height": 35
        },
        "outputId": "a6a64d2a-9510-4419-8161-f86a97c31b1a"
      },
      "source": [
        "X.shape"
      ],
      "execution_count": 68,
      "outputs": [
        {
          "output_type": "execute_result",
          "data": {
            "text/plain": [
              "(3,)"
            ]
          },
          "metadata": {
            "tags": []
          },
          "execution_count": 68
        }
      ]
    },
    {
      "cell_type": "code",
      "metadata": {
        "id": "9oprwMfeR7Nq",
        "colab_type": "code",
        "colab": {}
      },
      "source": [
        "X.shape?\n"
      ],
      "execution_count": 0,
      "outputs": []
    },
    {
      "cell_type": "code",
      "metadata": {
        "id": "dnWTIIFRSJZl",
        "colab_type": "code",
        "colab": {}
      },
      "source": [
        "np.array?"
      ],
      "execution_count": 0,
      "outputs": []
    },
    {
      "cell_type": "code",
      "metadata": {
        "id": "9xy5swEGSN0U",
        "colab_type": "code",
        "colab": {
          "base_uri": "https://localhost:8080/",
          "height": 89
        },
        "outputId": "e39fd39f-bfb5-4d9c-bc0b-674c4ef8ad63"
      },
      "source": [
        "X = np.array([[0,1,2,3],[1,4,5,6], [2,7,8,9]])\n",
        "print(X)\n",
        "X.shape"
      ],
      "execution_count": 78,
      "outputs": [
        {
          "output_type": "stream",
          "text": [
            "[[0 1 2 3]\n",
            " [1 4 5 6]\n",
            " [2 7 8 9]]\n"
          ],
          "name": "stdout"
        },
        {
          "output_type": "execute_result",
          "data": {
            "text/plain": [
              "(3, 4)"
            ]
          },
          "metadata": {
            "tags": []
          },
          "execution_count": 78
        }
      ]
    },
    {
      "cell_type": "code",
      "metadata": {
        "id": "YnlK1pZ9S7ox",
        "colab_type": "code",
        "colab": {
          "base_uri": "https://localhost:8080/",
          "height": 35
        },
        "outputId": "248edbdb-140c-4f9e-f6f1-ee2008fbb0b8"
      },
      "source": [
        "X[1,2]+X[2,0]"
      ],
      "execution_count": 81,
      "outputs": [
        {
          "output_type": "execute_result",
          "data": {
            "text/plain": [
              "7"
            ]
          },
          "metadata": {
            "tags": []
          },
          "execution_count": 81
        }
      ]
    },
    {
      "cell_type": "code",
      "metadata": {
        "id": "nTGrPae-TJyR",
        "colab_type": "code",
        "colab": {
          "base_uri": "https://localhost:8080/",
          "height": 35
        },
        "outputId": "a0a098fd-8547-408f-8f6f-c94d34fdc1b0"
      },
      "source": [
        "X[0, 0:2]"
      ],
      "execution_count": 84,
      "outputs": [
        {
          "output_type": "execute_result",
          "data": {
            "text/plain": [
              "array([0, 1])"
            ]
          },
          "metadata": {
            "tags": []
          },
          "execution_count": 84
        }
      ]
    },
    {
      "cell_type": "code",
      "metadata": {
        "id": "m_10dy1YTarx",
        "colab_type": "code",
        "colab": {
          "base_uri": "https://localhost:8080/",
          "height": 35
        },
        "outputId": "4dc32515-22a3-4de5-b6bf-585fecb9130c"
      },
      "source": [
        "X[1, 0:2]"
      ],
      "execution_count": 85,
      "outputs": [
        {
          "output_type": "execute_result",
          "data": {
            "text/plain": [
              "array([1, 4])"
            ]
          },
          "metadata": {
            "tags": []
          },
          "execution_count": 85
        }
      ]
    },
    {
      "cell_type": "code",
      "metadata": {
        "id": "Fif7nvQ9Td7Y",
        "colab_type": "code",
        "colab": {
          "base_uri": "https://localhost:8080/",
          "height": 35
        },
        "outputId": "515e100f-ef5b-430b-f049-a4cfee96e049"
      },
      "source": [
        "X[0,:]"
      ],
      "execution_count": 87,
      "outputs": [
        {
          "output_type": "execute_result",
          "data": {
            "text/plain": [
              "array([0, 1, 2, 3])"
            ]
          },
          "metadata": {
            "tags": []
          },
          "execution_count": 87
        }
      ]
    },
    {
      "cell_type": "code",
      "metadata": {
        "id": "O4GTkEM5Tlbz",
        "colab_type": "code",
        "colab": {
          "base_uri": "https://localhost:8080/",
          "height": 71
        },
        "outputId": "ea0e6466-4e27-4a68-a8bc-0d2c7f9555ff"
      },
      "source": [
        "X[0:]"
      ],
      "execution_count": 88,
      "outputs": [
        {
          "output_type": "execute_result",
          "data": {
            "text/plain": [
              "array([[0, 1, 2, 3],\n",
              "       [1, 4, 5, 6],\n",
              "       [2, 7, 8, 9]])"
            ]
          },
          "metadata": {
            "tags": []
          },
          "execution_count": 88
        }
      ]
    },
    {
      "cell_type": "code",
      "metadata": {
        "id": "7jPczlwHTnsv",
        "colab_type": "code",
        "colab": {
          "base_uri": "https://localhost:8080/",
          "height": 71
        },
        "outputId": "637962e7-6b4c-4e94-ab45-1d387b65116f"
      },
      "source": [
        "X[:3]"
      ],
      "execution_count": 90,
      "outputs": [
        {
          "output_type": "execute_result",
          "data": {
            "text/plain": [
              "array([[0, 1, 2, 3],\n",
              "       [1, 4, 5, 6],\n",
              "       [2, 7, 8, 9]])"
            ]
          },
          "metadata": {
            "tags": []
          },
          "execution_count": 90
        }
      ]
    },
    {
      "cell_type": "code",
      "metadata": {
        "id": "eeuZP1R9Tz-O",
        "colab_type": "code",
        "colab": {
          "base_uri": "https://localhost:8080/",
          "height": 89
        },
        "outputId": "e1425af9-426e-4ad7-8452-6a2c6d96b272"
      },
      "source": [
        "X = np.zeros((4,5))\n",
        "print(X)\n",
        "np.zeros?"
      ],
      "execution_count": 93,
      "outputs": [
        {
          "output_type": "stream",
          "text": [
            "[[0. 0. 0. 0. 0.]\n",
            " [0. 0. 0. 0. 0.]\n",
            " [0. 0. 0. 0. 0.]\n",
            " [0. 0. 0. 0. 0.]]\n"
          ],
          "name": "stdout"
        }
      ]
    },
    {
      "cell_type": "code",
      "metadata": {
        "id": "v9TUXY_vUM0L",
        "colab_type": "code",
        "colab": {
          "base_uri": "https://localhost:8080/",
          "height": 89
        },
        "outputId": "e48109cd-5f49-48b2-f421-74f386fd842e"
      },
      "source": [
        "X = np.eye(4,4)\n",
        "print(X)"
      ],
      "execution_count": 94,
      "outputs": [
        {
          "output_type": "stream",
          "text": [
            "[[1. 0. 0. 0.]\n",
            " [0. 1. 0. 0.]\n",
            " [0. 0. 1. 0.]\n",
            " [0. 0. 0. 1.]]\n"
          ],
          "name": "stdout"
        }
      ]
    },
    {
      "cell_type": "code",
      "metadata": {
        "id": "yYBG4ZvUUfZ8",
        "colab_type": "code",
        "colab": {
          "base_uri": "https://localhost:8080/",
          "height": 89
        },
        "outputId": "72f01c47-b65e-4b7d-d717-16a028085870"
      },
      "source": [
        "X = np.random.random((4,5))\n",
        "print(X)"
      ],
      "execution_count": 102,
      "outputs": [
        {
          "output_type": "stream",
          "text": [
            "[[0.91066904 0.82516717 0.33492069 0.56548885 0.48344172]\n",
            " [0.99497585 0.22372263 0.49784931 0.24991025 0.91031483]\n",
            " [0.47593711 0.08546765 0.48784159 0.257908   0.19899508]\n",
            " [0.36265969 0.70636082 0.63210512 0.8398629  0.95187073]]\n"
          ],
          "name": "stdout"
        }
      ]
    }
  ]
}