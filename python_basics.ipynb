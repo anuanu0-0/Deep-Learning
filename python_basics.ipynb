{
  "nbformat": 4,
  "nbformat_minor": 0,
  "metadata": {
    "colab": {
      "name": "python_basics.ipynb",
      "provenance": [],
      "toc_visible": true,
      "authorship_tag": "ABX9TyM+nPyDdy+VJ4TfnL/TK7wQ",
      "include_colab_link": true
    },
    "kernelspec": {
      "name": "python3",
      "display_name": "Python 3"
    }
  },
  "cells": [
    {
      "cell_type": "markdown",
      "metadata": {
        "id": "view-in-github",
        "colab_type": "text"
      },
      "source": [
        "<a href=\"https://colab.research.google.com/github/anuanu0-0/Deep-Learning/blob/master/python_basics.ipynb\" target=\"_parent\"><img src=\"https://colab.research.google.com/assets/colab-badge.svg\" alt=\"Open In Colab\"/></a>"
      ]
    },
    {
      "cell_type": "markdown",
      "metadata": {
        "id": "vCtyQ-1JoU6U",
        "colab_type": "text"
      },
      "source": [
        "\n",
        "# Simple data types and operators\n"
      ]
    },
    {
      "cell_type": "code",
      "metadata": {
        "id": "CZN3hP8Enrd7",
        "colab_type": "code",
        "outputId": "b769eece-1371-4915-80df-169eb484602d",
        "colab": {
          "base_uri": "https://localhost:8080/",
          "height": 0
        }
      },
      "source": [
        "name = 'Hello World'\n",
        "type(name)\n"
      ],
      "execution_count": 26,
      "outputs": [
        {
          "output_type": "execute_result",
          "data": {
            "text/plain": [
              "str"
            ]
          },
          "metadata": {
            "tags": []
          },
          "execution_count": 26
        }
      ]
    },
    {
      "cell_type": "code",
      "metadata": {
        "id": "41AZlYAjocqx",
        "colab_type": "code",
        "outputId": "4497ead8-515e-42b1-9a02-1ac190d179fd",
        "colab": {
          "base_uri": "https://localhost:8080/",
          "height": 0
        }
      },
      "source": [
        "print(name)"
      ],
      "execution_count": 27,
      "outputs": [
        {
          "output_type": "stream",
          "text": [
            "Hello World\n"
          ],
          "name": "stdout"
        }
      ]
    },
    {
      "cell_type": "code",
      "metadata": {
        "id": "Cx_VPH9uoifw",
        "colab_type": "code",
        "outputId": "78174d65-aa41-48a3-d9ba-eaf5098d0a7f",
        "colab": {
          "base_uri": "https://localhost:8080/",
          "height": 0
        }
      },
      "source": [
        "size = 12.22\n",
        "type(size)"
      ],
      "execution_count": 28,
      "outputs": [
        {
          "output_type": "execute_result",
          "data": {
            "text/plain": [
              "float"
            ]
          },
          "metadata": {
            "tags": []
          },
          "execution_count": 28
        }
      ]
    },
    {
      "cell_type": "code",
      "metadata": {
        "id": "fU16mjuCop99",
        "colab_type": "code",
        "outputId": "e4914e55-e343-4837-cf80-ae5666572f6f",
        "colab": {
          "base_uri": "https://localhost:8080/",
          "height": 0
        }
      },
      "source": [
        "num = 2\n",
        "type(num)"
      ],
      "execution_count": 29,
      "outputs": [
        {
          "output_type": "execute_result",
          "data": {
            "text/plain": [
              "int"
            ]
          },
          "metadata": {
            "tags": []
          },
          "execution_count": 29
        }
      ]
    },
    {
      "cell_type": "code",
      "metadata": {
        "id": "9sCCj-olozyk",
        "colab_type": "code",
        "outputId": "934c23f0-3864-4e31-8f06-3e3a506002fb",
        "colab": {
          "base_uri": "https://localhost:8080/",
          "height": 0
        }
      },
      "source": [
        "print('Its just a ' + name + ' program')"
      ],
      "execution_count": 30,
      "outputs": [
        {
          "output_type": "stream",
          "text": [
            "Its just a Hello World program\n"
          ],
          "name": "stdout"
        }
      ]
    },
    {
      "cell_type": "code",
      "metadata": {
        "id": "tjjjs5Zqo-mu",
        "colab_type": "code",
        "outputId": "3ba7837c-b80c-4865-e0c6-0e0133af11c0",
        "colab": {
          "base_uri": "https://localhost:8080/",
          "height": 0
        }
      },
      "source": [
        "a = 1\n",
        "b = 6\n",
        "print(a*b, a/b, a+b, a-b, a**b, a//b)"
      ],
      "execution_count": 31,
      "outputs": [
        {
          "output_type": "stream",
          "text": [
            "6 0.16666666666666666 7 -5 1 0\n"
          ],
          "name": "stdout"
        }
      ]
    },
    {
      "cell_type": "code",
      "metadata": {
        "id": "uq1VNUMdpae7",
        "colab_type": "code",
        "outputId": "b236dde0-4f05-4aaf-814c-9472f85e18f0",
        "colab": {
          "base_uri": "https://localhost:8080/",
          "height": 0
        }
      },
      "source": [
        "is_android = False\n",
        "type(is_android)\n"
      ],
      "execution_count": 32,
      "outputs": [
        {
          "output_type": "execute_result",
          "data": {
            "text/plain": [
              "bool"
            ]
          },
          "metadata": {
            "tags": []
          },
          "execution_count": 32
        }
      ]
    },
    {
      "cell_type": "code",
      "metadata": {
        "id": "yN15BumXqAB_",
        "colab_type": "code",
        "outputId": "bf6fe7c1-7e26-4d6d-d432-85a33cba3e5f",
        "colab": {
          "base_uri": "https://localhost:8080/",
          "height": 0
        }
      },
      "source": [
        "print (is_android == True and num > 1)\n",
        "print (is_android == True or num > 1)"
      ],
      "execution_count": 33,
      "outputs": [
        {
          "output_type": "stream",
          "text": [
            "False\n",
            "True\n"
          ],
          "name": "stdout"
        }
      ]
    },
    {
      "cell_type": "markdown",
      "metadata": {
        "id": "LiOjiq-DqTkq",
        "colab_type": "text"
      },
      "source": [
        "# Blocks -If, For, While\n"
      ]
    },
    {
      "cell_type": "code",
      "metadata": {
        "id": "aI2CWN_lqaol",
        "colab_type": "code",
        "outputId": "747ad5c7-3971-4476-9e42-2a8adb0ea264",
        "colab": {
          "base_uri": "https://localhost:8080/",
          "height": 0
        }
      },
      "source": [
        "if is_android == True:\n",
        "  print('Hello there')\n",
        "  # Try to make is_android = true while declaration\n",
        "print ('I always run') "
      ],
      "execution_count": 34,
      "outputs": [
        {
          "output_type": "stream",
          "text": [
            "I always run\n"
          ],
          "name": "stdout"
        }
      ]
    },
    {
      "cell_type": "code",
      "metadata": {
        "colab_type": "code",
        "outputId": "0f227437-5a24-4b38-bda4-1d74155f35f2",
        "id": "8kSCEtucar5e",
        "colab": {
          "base_uri": "https://localhost:8080/",
          "height": 0
        }
      },
      "source": [
        "for i in range(2, 5):\n",
        "  print (i, i**2)"
      ],
      "execution_count": 35,
      "outputs": [
        {
          "output_type": "stream",
          "text": [
            "2 4\n",
            "3 9\n",
            "4 16\n"
          ],
          "name": "stdout"
        }
      ]
    },
    {
      "cell_type": "code",
      "metadata": {
        "id": "6bw6i0Uzatbf",
        "colab_type": "code",
        "colab": {}
      },
      "source": [
        "range?\n"
      ],
      "execution_count": 0,
      "outputs": []
    },
    {
      "cell_type": "code",
      "metadata": {
        "id": "7AXVr6yna41o",
        "colab_type": "code",
        "outputId": "e3d0b20e-342b-4b3e-a045-84fa42c80754",
        "colab": {
          "base_uri": "https://localhost:8080/",
          "height": 0
        }
      },
      "source": [
        "i = 0\n",
        "while i < 5:\n",
        "  print (i, i**2)\n",
        "  i += 1"
      ],
      "execution_count": 37,
      "outputs": [
        {
          "output_type": "stream",
          "text": [
            "0 0\n",
            "1 1\n",
            "2 4\n",
            "3 9\n",
            "4 16\n"
          ],
          "name": "stdout"
        }
      ]
    },
    {
      "cell_type": "markdown",
      "metadata": {
        "id": "QDJ-J-2nbJeA",
        "colab_type": "text"
      },
      "source": [
        "# Functions\n"
      ]
    },
    {
      "cell_type": "code",
      "metadata": {
        "colab_type": "code",
        "id": "TTv19F1ybqqy",
        "colab": {}
      },
      "source": [
        "def print_square(stop_val):\n",
        "  for i in range(stop_val):\n",
        "    print (i, i**2)"
      ],
      "execution_count": 0,
      "outputs": []
    },
    {
      "cell_type": "code",
      "metadata": {
        "id": "Zt4g5iTbbsxg",
        "colab_type": "code",
        "outputId": "3b2ec21d-3b5f-4285-d248-05ed0cbb9323",
        "colab": {
          "base_uri": "https://localhost:8080/",
          "height": 0
        }
      },
      "source": [
        "print_square(5)"
      ],
      "execution_count": 39,
      "outputs": [
        {
          "output_type": "stream",
          "text": [
            "0 0\n",
            "1 1\n",
            "2 4\n",
            "3 9\n",
            "4 16\n"
          ],
          "name": "stdout"
        }
      ]
    },
    {
      "cell_type": "code",
      "metadata": {
        "id": "wrF17w7abzYf",
        "colab_type": "code",
        "colab": {}
      },
      "source": [
        "\n",
        "def print_square_sum(stop_val):\n",
        "  sum_ = 0\n",
        "  for i in range(stop_val):\n",
        "    sum_ += i ** 2\n",
        "  return sum_"
      ],
      "execution_count": 0,
      "outputs": []
    },
    {
      "cell_type": "code",
      "metadata": {
        "id": "C4np19hkepYP",
        "colab_type": "code",
        "outputId": "0042069c-d469-4992-e70f-dcd8f12885e8",
        "colab": {
          "base_uri": "https://localhost:8080/",
          "height": 0
        }
      },
      "source": [
        "print_square_sum(5)"
      ],
      "execution_count": 41,
      "outputs": [
        {
          "output_type": "execute_result",
          "data": {
            "text/plain": [
              "30"
            ]
          },
          "metadata": {
            "tags": []
          },
          "execution_count": 41
        }
      ]
    },
    {
      "cell_type": "code",
      "metadata": {
        "colab_type": "code",
        "id": "qOIOvXw2dsoe",
        "colab": {}
      },
      "source": [
        "def print_squares_with_startval(stop_val , start_val = 0):\n",
        "    for i in range(start_val, stop_val):\n",
        "      print (i , i**2)"
      ],
      "execution_count": 0,
      "outputs": []
    },
    {
      "cell_type": "code",
      "metadata": {
        "colab_type": "code",
        "outputId": "fc04ec64-c15d-4194-d2cd-d19e72d1567f",
        "id": "G1vsjp5GfpNz",
        "colab": {
          "base_uri": "https://localhost:8080/",
          "height": 0
        }
      },
      "source": [
        "print_squares_with_startval(4, 2)"
      ],
      "execution_count": 43,
      "outputs": [
        {
          "output_type": "stream",
          "text": [
            "2 4\n",
            "3 9\n"
          ],
          "name": "stdout"
        }
      ]
    },
    {
      "cell_type": "code",
      "metadata": {
        "id": "hMELpU3_fp-V",
        "colab_type": "code",
        "colab": {}
      },
      "source": [
        "print_squares_with_startval?"
      ],
      "execution_count": 0,
      "outputs": []
    },
    {
      "cell_type": "markdown",
      "metadata": {
        "id": "NjA_Bg-kf1XE",
        "colab_type": "text"
      },
      "source": [
        "# Lists\n"
      ]
    },
    {
      "cell_type": "code",
      "metadata": {
        "id": "B-qLGgKwf0U8",
        "colab_type": "code",
        "outputId": "985bec94-977d-4cfd-8187-7e31b6fa9914",
        "colab": {
          "base_uri": "https://localhost:8080/",
          "height": 0
        }
      },
      "source": [
        "my_life = [name, is_android, size]\n",
        "print (my_life)"
      ],
      "execution_count": 45,
      "outputs": [
        {
          "output_type": "stream",
          "text": [
            "['Hello World', False, 12.22]\n"
          ],
          "name": "stdout"
        }
      ]
    },
    {
      "cell_type": "code",
      "metadata": {
        "id": "cARTf2cYk1i0",
        "colab_type": "code",
        "outputId": "67cfc97a-9d91-4968-9cd7-0c7af866ec70",
        "colab": {
          "base_uri": "https://localhost:8080/",
          "height": 0
        }
      },
      "source": [
        "type(my_life)"
      ],
      "execution_count": 46,
      "outputs": [
        {
          "output_type": "execute_result",
          "data": {
            "text/plain": [
              "list"
            ]
          },
          "metadata": {
            "tags": []
          },
          "execution_count": 46
        }
      ]
    },
    {
      "cell_type": "code",
      "metadata": {
        "id": "2Z8jyu4sk_EJ",
        "colab_type": "code",
        "outputId": "c7e51fd5-ea43-4ba8-e57b-a313a0917c9e",
        "colab": {
          "base_uri": "https://localhost:8080/",
          "height": 0
        }
      },
      "source": [
        "my_life[2]"
      ],
      "execution_count": 47,
      "outputs": [
        {
          "output_type": "execute_result",
          "data": {
            "text/plain": [
              "12.22"
            ]
          },
          "metadata": {
            "tags": []
          },
          "execution_count": 47
        }
      ]
    },
    {
      "cell_type": "code",
      "metadata": {
        "id": "two03cbulBqz",
        "colab_type": "code",
        "outputId": "1c0e84d0-c9a5-4d8f-c732-9fae5a1f337b",
        "colab": {
          "base_uri": "https://localhost:8080/",
          "height": 0
        }
      },
      "source": [
        "my_life[1:3]"
      ],
      "execution_count": 48,
      "outputs": [
        {
          "output_type": "execute_result",
          "data": {
            "text/plain": [
              "[False, 12.22]"
            ]
          },
          "metadata": {
            "tags": []
          },
          "execution_count": 48
        }
      ]
    },
    {
      "cell_type": "code",
      "metadata": {
        "id": "ShDA7e9rlGf4",
        "colab_type": "code",
        "colab": {}
      },
      "source": [
        "my_other_life = my_life\n",
        "my_secondOther_life = list(my_life)"
      ],
      "execution_count": 0,
      "outputs": []
    },
    {
      "cell_type": "code",
      "metadata": {
        "id": "YlNj1LbDlQ7q",
        "colab_type": "code",
        "outputId": "6f736e16-fb33-4aee-9732-d4f2fa8f5059",
        "colab": {
          "base_uri": "https://localhost:8080/",
          "height": 0
        }
      },
      "source": [
        "print (my_other_life)\n",
        "print (my_secondOther_life)"
      ],
      "execution_count": 50,
      "outputs": [
        {
          "output_type": "stream",
          "text": [
            "['Hello World', False, 12.22]\n",
            "['Hello World', False, 12.22]\n"
          ],
          "name": "stdout"
        }
      ]
    },
    {
      "cell_type": "code",
      "metadata": {
        "id": "VOK3dL-wls--",
        "colab_type": "code",
        "outputId": "eac5d720-ecd6-41c7-ee0f-ab21777ca257",
        "colab": {
          "base_uri": "https://localhost:8080/",
          "height": 0
        }
      },
      "source": [
        "my_life[2] = 1001.1001\n",
        "print (my_life)"
      ],
      "execution_count": 51,
      "outputs": [
        {
          "output_type": "stream",
          "text": [
            "['Hello World', False, 1001.1001]\n"
          ],
          "name": "stdout"
        }
      ]
    },
    {
      "cell_type": "code",
      "metadata": {
        "id": "2UPrAcVsl7Ym",
        "colab_type": "code",
        "outputId": "0e24722e-301f-44d0-e2de-9a861d8501e2",
        "colab": {
          "base_uri": "https://localhost:8080/",
          "height": 0
        }
      },
      "source": [
        "len (my_life)"
      ],
      "execution_count": 52,
      "outputs": [
        {
          "output_type": "execute_result",
          "data": {
            "text/plain": [
              "3"
            ]
          },
          "metadata": {
            "tags": []
          },
          "execution_count": 52
        }
      ]
    },
    {
      "cell_type": "code",
      "metadata": {
        "id": "eVw_EDrXmXFr",
        "colab_type": "code",
        "colab": {}
      },
      "source": [
        "len?"
      ],
      "execution_count": 0,
      "outputs": []
    },
    {
      "cell_type": "code",
      "metadata": {
        "id": "WkN74iMNmeOn",
        "colab_type": "code",
        "outputId": "fb396088-daeb-4ed8-f78e-82a48acedbad",
        "colab": {
          "base_uri": "https://localhost:8080/",
          "height": 0
        }
      },
      "source": [
        "my_life.append('Coding')\n",
        "print (my_life)"
      ],
      "execution_count": 54,
      "outputs": [
        {
          "output_type": "stream",
          "text": [
            "['Hello World', False, 1001.1001, 'Coding']\n"
          ],
          "name": "stdout"
        }
      ]
    },
    {
      "cell_type": "code",
      "metadata": {
        "id": "cE3xicq0mxGe",
        "colab_type": "code",
        "outputId": "db777c3b-2ad6-4702-9db4-9f9b71d645ca",
        "colab": {
          "base_uri": "https://localhost:8080/",
          "height": 0
        }
      },
      "source": [
        "pro = ['backtracking', 101]\n",
        "my_life = my_life + pro\n",
        "print (my_life)"
      ],
      "execution_count": 55,
      "outputs": [
        {
          "output_type": "stream",
          "text": [
            "['Hello World', False, 1001.1001, 'Coding', 'backtracking', 101]\n"
          ],
          "name": "stdout"
        }
      ]
    },
    {
      "cell_type": "code",
      "metadata": {
        "id": "perht4cLnhj-",
        "colab_type": "code",
        "outputId": "3d5028cf-96d7-4557-9b4c-0fcd7379c59f",
        "colab": {
          "base_uri": "https://localhost:8080/",
          "height": 0
        }
      },
      "source": [
        "for data in my_life:\n",
        "  print (data)"
      ],
      "execution_count": 56,
      "outputs": [
        {
          "output_type": "stream",
          "text": [
            "Hello World\n",
            "False\n",
            "1001.1001\n",
            "Coding\n",
            "backtracking\n",
            "101\n"
          ],
          "name": "stdout"
        }
      ]
    },
    {
      "cell_type": "code",
      "metadata": {
        "id": "Q90Yh8N1nse9",
        "colab_type": "code",
        "outputId": "5f00e6d8-da92-4160-e957-2ea161d5d409",
        "colab": {
          "base_uri": "https://localhost:8080/",
          "height": 0
        }
      },
      "source": [
        "range(5)"
      ],
      "execution_count": 57,
      "outputs": [
        {
          "output_type": "execute_result",
          "data": {
            "text/plain": [
              "range(0, 5)"
            ]
          },
          "metadata": {
            "tags": []
          },
          "execution_count": 57
        }
      ]
    },
    {
      "cell_type": "code",
      "metadata": {
        "id": "Wl_Mg4L_nxVq",
        "colab_type": "code",
        "outputId": "e9e67b2d-9c8d-4524-b55b-7e0e4ffb4f0f",
        "colab": {
          "base_uri": "https://localhost:8080/",
          "height": 0
        }
      },
      "source": [
        "print (list(range(5)))"
      ],
      "execution_count": 58,
      "outputs": [
        {
          "output_type": "stream",
          "text": [
            "[0, 1, 2, 3, 4]\n"
          ],
          "name": "stdout"
        }
      ]
    },
    {
      "cell_type": "code",
      "metadata": {
        "id": "O9pvyWdmoBT5",
        "colab_type": "code",
        "outputId": "dcce307c-ffef-412a-b469-8384c7010be3",
        "colab": {
          "base_uri": "https://localhost:8080/",
          "height": 0
        }
      },
      "source": [
        "a = list(range(5))\n",
        "print (a)"
      ],
      "execution_count": 59,
      "outputs": [
        {
          "output_type": "stream",
          "text": [
            "[0, 1, 2, 3, 4]\n"
          ],
          "name": "stdout"
        }
      ]
    },
    {
      "cell_type": "code",
      "metadata": {
        "id": "ayy2g16kotxF",
        "colab_type": "code",
        "colab": {}
      },
      "source": [
        "map?"
      ],
      "execution_count": 0,
      "outputs": []
    },
    {
      "cell_type": "code",
      "metadata": {
        "id": "8i_YsgJqo5Eh",
        "colab_type": "code",
        "outputId": "0291c20c-0474-46f8-f14b-f30cd14bba1a",
        "colab": {
          "base_uri": "https://localhost:8080/",
          "height": 0
        }
      },
      "source": [
        "z = [1,2,3,4,5]\n",
        "test = list(map(lambda x: x * 2, z))\n",
        "print(test)"
      ],
      "execution_count": 61,
      "outputs": [
        {
          "output_type": "stream",
          "text": [
            "[2, 4, 6, 8, 10]\n"
          ],
          "name": "stdout"
        }
      ]
    },
    {
      "cell_type": "code",
      "metadata": {
        "id": "3sFpbPUtoS5s",
        "colab_type": "code",
        "outputId": "a28b5f6b-1cc0-4eb3-c321-ea620eabb473",
        "colab": {
          "base_uri": "https://localhost:8080/",
          "height": 0
        }
      },
      "source": [
        "b = list(map(lambda x: x**2, a))\n",
        "print (b)"
      ],
      "execution_count": 62,
      "outputs": [
        {
          "output_type": "stream",
          "text": [
            "[0, 1, 4, 9, 16]\n"
          ],
          "name": "stdout"
        }
      ]
    },
    {
      "cell_type": "code",
      "metadata": {
        "id": "AOcijTVIn1R-",
        "colab_type": "code",
        "colab": {
          "base_uri": "https://localhost:8080/",
          "height": 0
        },
        "outputId": "0b92a36d-4c2b-4b0b-e129-4613c607d906"
      },
      "source": [
        "c = list(filter(lambda x: x % 2 != 0, b))\n",
        "print(c)"
      ],
      "execution_count": 63,
      "outputs": [
        {
          "output_type": "stream",
          "text": [
            "[1, 9]\n"
          ],
          "name": "stdout"
        }
      ]
    },
    {
      "cell_type": "markdown",
      "metadata": {
        "id": "3bc9v0fEokRA",
        "colab_type": "text"
      },
      "source": [
        "# Tuples, Sets and Dicts"
      ]
    },
    {
      "cell_type": "code",
      "metadata": {
        "id": "a9RWBvdiofaT",
        "colab_type": "code",
        "colab": {
          "base_uri": "https://localhost:8080/",
          "height": 53
        },
        "outputId": "7bd4a0b2-7652-47a2-8923-ea8c973c4c40"
      },
      "source": [
        "my_work_tuple = ('StartUp', True, 11.54)\n",
        "print(my_work_tuple)\n",
        "type (my_work_tuple)"
      ],
      "execution_count": 64,
      "outputs": [
        {
          "output_type": "stream",
          "text": [
            "('StartUp', True, 11.54)\n"
          ],
          "name": "stdout"
        },
        {
          "output_type": "execute_result",
          "data": {
            "text/plain": [
              "tuple"
            ]
          },
          "metadata": {
            "tags": []
          },
          "execution_count": 64
        }
      ]
    },
    {
      "cell_type": "code",
      "metadata": {
        "id": "7tQgaEZtpie7",
        "colab_type": "code",
        "colab": {
          "base_uri": "https://localhost:8080/",
          "height": 35
        },
        "outputId": "1747b1b3-4052-4cb3-e874-9e88c5ff494d"
      },
      "source": [
        "my_work_tuple[1:3]"
      ],
      "execution_count": 65,
      "outputs": [
        {
          "output_type": "execute_result",
          "data": {
            "text/plain": [
              "(True, 11.54)"
            ]
          },
          "metadata": {
            "tags": []
          },
          "execution_count": 65
        }
      ]
    },
    {
      "cell_type": "code",
      "metadata": {
        "id": "2HLf0ZIOprOg",
        "colab_type": "code",
        "colab": {
          "base_uri": "https://localhost:8080/",
          "height": 71
        },
        "outputId": "217e4a71-89c7-48f5-e4eb-d912b619d77e"
      },
      "source": [
        "for data in my_work_tuple:\n",
        "  print(data)"
      ],
      "execution_count": 66,
      "outputs": [
        {
          "output_type": "stream",
          "text": [
            "StartUp\n",
            "True\n",
            "11.54\n"
          ],
          "name": "stdout"
        }
      ]
    },
    {
      "cell_type": "code",
      "metadata": {
        "id": "pJm88JeNpy37",
        "colab_type": "code",
        "colab": {
          "base_uri": "https://localhost:8080/",
          "height": 172
        },
        "outputId": "5bee1f1c-fd09-4f92-ec21-55a87cc78e1b"
      },
      "source": [
        "my_work_tuple[2] = 1"
      ],
      "execution_count": 67,
      "outputs": [
        {
          "output_type": "error",
          "ename": "TypeError",
          "evalue": "ignored",
          "traceback": [
            "\u001b[0;31m---------------------------------------------------------------------------\u001b[0m",
            "\u001b[0;31mTypeError\u001b[0m                                 Traceback (most recent call last)",
            "\u001b[0;32m<ipython-input-67-eaa5bcaef4ae>\u001b[0m in \u001b[0;36m<module>\u001b[0;34m()\u001b[0m\n\u001b[0;32m----> 1\u001b[0;31m \u001b[0mmy_work_tuple\u001b[0m\u001b[0;34m[\u001b[0m\u001b[0;36m2\u001b[0m\u001b[0;34m]\u001b[0m \u001b[0;34m=\u001b[0m \u001b[0;36m1\u001b[0m\u001b[0;34m\u001b[0m\u001b[0;34m\u001b[0m\u001b[0m\n\u001b[0m",
            "\u001b[0;31mTypeError\u001b[0m: 'tuple' object does not support item assignment"
          ]
        }
      ]
    },
    {
      "cell_type": "code",
      "metadata": {
        "id": "puQJCdV1p3_4",
        "colab_type": "code",
        "colab": {}
      },
      "source": [
        "import time\n",
        "tic = time.time()\n",
        "print(tic)"
      ],
      "execution_count": 0,
      "outputs": []
    },
    {
      "cell_type": "code",
      "metadata": {
        "id": "YhGlCEc3qGwh",
        "colab_type": "code",
        "colab": {}
      },
      "source": [
        "time.time?"
      ],
      "execution_count": 0,
      "outputs": []
    },
    {
      "cell_type": "code",
      "metadata": {
        "id": "iFMj-efFqeJu",
        "colab_type": "code",
        "colab": {}
      },
      "source": [
        "tic = time.time()\n",
        "# Time elapsed in this comment is the difference between tic and toc\n",
        "toc = time.time()\n",
        "print('Elapsed time' , toc - tic)"
      ],
      "execution_count": 0,
      "outputs": []
    },
    {
      "cell_type": "code",
      "metadata": {
        "id": "H_qBUxFzq8ic",
        "colab_type": "code",
        "colab": {}
      },
      "source": [
        "my_list = list(range(1000000))\n",
        "tic = time.time()\n",
        "my_list_squared = map(lambda i: i**2, my_list)\n",
        "toc = time.time()\n",
        "print('Elapsed time in sec' , toc - tic)"
      ],
      "execution_count": 0,
      "outputs": []
    },
    {
      "cell_type": "code",
      "metadata": {
        "id": "X7w8cPnCrjqU",
        "colab_type": "code",
        "colab": {}
      },
      "source": [
        "my_tuple = tuple(range(1000000))\n",
        "tic = time.time()\n",
        "my_tuple_squared = map(lambda i: i**2, my_tuple)\n",
        "toc = time.time()\n",
        "print('Elapsed time in sec' , toc - tic)\n",
        "# Time taken in a tuple manipulation is less than the list manipulation\n"
      ],
      "execution_count": 0,
      "outputs": []
    },
    {
      "cell_type": "code",
      "metadata": {
        "id": "w0iyFw7nsQ1D",
        "colab_type": "code",
        "colab": {
          "base_uri": "https://localhost:8080/",
          "height": 35
        },
        "outputId": "623c6abb-e5fd-41f7-c90f-c42f2aeabfda"
      },
      "source": [
        "my_set = set(my_life)\n",
        "print(my_set)"
      ],
      "execution_count": 68,
      "outputs": [
        {
          "output_type": "stream",
          "text": [
            "{False, 'Hello World', 'backtracking', 101, 1001.1001, 'Coding'}\n"
          ],
          "name": "stdout"
        }
      ]
    },
    {
      "cell_type": "code",
      "metadata": {
        "id": "t4UlmM7FssS7",
        "colab_type": "code",
        "colab": {
          "base_uri": "https://localhost:8080/",
          "height": 89
        },
        "outputId": "6becbc3b-ca3a-42a8-b161-b5a8db84a341"
      },
      "source": [
        "my_list = list(range(1000000))\n",
        "tic = time.time()\n",
        "print (98731 in my_list)\n",
        "print (131581 in my_list)\n",
        "print (111111111111111 in my_list)\n",
        "toc = time.time()\n",
        "print('Elapsed time in sec' , toc - tic)"
      ],
      "execution_count": 70,
      "outputs": [
        {
          "output_type": "stream",
          "text": [
            "True\n",
            "True\n",
            "False\n",
            "Elapsed time in sec 0.016988754272460938\n"
          ],
          "name": "stdout"
        }
      ]
    },
    {
      "cell_type": "code",
      "metadata": {
        "id": "YYhnvRKPt056",
        "colab_type": "code",
        "colab": {
          "base_uri": "https://localhost:8080/",
          "height": 89
        },
        "outputId": "4237800a-b684-4279-cda1-0ae5e7a27d98"
      },
      "source": [
        "my_set = set(range(1000000))\n",
        "tic = time.time()\n",
        "print (98731 in my_list)\n",
        "print (131581 in my_list)\n",
        "print (111111111111111 in my_list)\n",
        "toc = time.time()\n",
        "print('Elapsed time in sec' , toc - tic)"
      ],
      "execution_count": 75,
      "outputs": [
        {
          "output_type": "stream",
          "text": [
            "True\n",
            "True\n",
            "False\n",
            "Elapsed time in sec 0.016829967498779297\n"
          ],
          "name": "stdout"
        }
      ]
    },
    {
      "cell_type": "code",
      "metadata": {
        "id": "8G2QRlDouaJj",
        "colab_type": "code",
        "colab": {
          "base_uri": "https://localhost:8080/",
          "height": 35
        },
        "outputId": "d7b48ea9-a902-4fff-8497-bfb874148856"
      },
      "source": [
        "my_work_dict = {}\n",
        "type (my_work_dict)"
      ],
      "execution_count": 76,
      "outputs": [
        {
          "output_type": "execute_result",
          "data": {
            "text/plain": [
              "dict"
            ]
          },
          "metadata": {
            "tags": []
          },
          "execution_count": 76
        }
      ]
    },
    {
      "cell_type": "code",
      "metadata": {
        "id": "PWwpswAkul1q",
        "colab_type": "code",
        "colab": {
          "base_uri": "https://localhost:8080/",
          "height": 35
        },
        "outputId": "e5d999af-f142-4c61-e4e6-962a7d075851"
      },
      "source": [
        "my_work_dict['name'] = 'coding'\n",
        "my_work_dict['isActive'] = True\n",
        "my_work_dict['timeStamp'] =  12.19\n",
        "print(my_work_dict)"
      ],
      "execution_count": 77,
      "outputs": [
        {
          "output_type": "stream",
          "text": [
            "{'name': 'coding', 'isActive': True, 'timeStamp': 12.19}\n"
          ],
          "name": "stdout"
        }
      ]
    },
    {
      "cell_type": "code",
      "metadata": {
        "id": "5nnWHF2gvGs1",
        "colab_type": "code",
        "colab": {
          "base_uri": "https://localhost:8080/",
          "height": 35
        },
        "outputId": "cb4e841f-2706-4bc2-f9ad-10fa70411089"
      },
      "source": [
        "my_work_dict['name']"
      ],
      "execution_count": 78,
      "outputs": [
        {
          "output_type": "execute_result",
          "data": {
            "text/plain": [
              "'coding'"
            ]
          },
          "metadata": {
            "tags": []
          },
          "execution_count": 78
        }
      ]
    },
    {
      "cell_type": "code",
      "metadata": {
        "id": "vczL_tbHvQKw",
        "colab_type": "code",
        "colab": {
          "base_uri": "https://localhost:8080/",
          "height": 71
        },
        "outputId": "d166d960-e9c5-432c-c8a5-55d059a259fd"
      },
      "source": [
        "print(my_work_dict.keys())\n",
        "print (my_work_dict.values())\n",
        "print(my_work_dict.items())"
      ],
      "execution_count": 79,
      "outputs": [
        {
          "output_type": "stream",
          "text": [
            "dict_keys(['name', 'isActive', 'timeStamp'])\n",
            "dict_values(['coding', True, 12.19])\n",
            "dict_items([('name', 'coding'), ('isActive', True), ('timeStamp', 12.19)])\n"
          ],
          "name": "stdout"
        }
      ]
    },
    {
      "cell_type": "code",
      "metadata": {
        "id": "jWmRDa_yvmTC",
        "colab_type": "code",
        "colab": {
          "base_uri": "https://localhost:8080/",
          "height": 71
        },
        "outputId": "167929b6-aa9e-43c7-88e9-ea675508699c"
      },
      "source": [
        "for key in my_work_dict.keys():\n",
        "  print(key, ':', my_work_dict[key])"
      ],
      "execution_count": 80,
      "outputs": [
        {
          "output_type": "stream",
          "text": [
            "name : coding\n",
            "isActive : True\n",
            "timeStamp : 12.19\n"
          ],
          "name": "stdout"
        }
      ]
    },
    {
      "cell_type": "markdown",
      "metadata": {
        "id": "E0rBsRVuwSNR",
        "colab_type": "text"
      },
      "source": [
        ""
      ]
    },
    {
      "cell_type": "markdown",
      "metadata": {
        "id": "GFxRXKwxwUbC",
        "colab_type": "text"
      },
      "source": [
        "# Python Packages\n",
        "\n"
      ]
    },
    {
      "cell_type": "code",
      "metadata": {
        "id": "Xhrqn1Dawhcj",
        "colab_type": "code",
        "colab": {
          "base_uri": "https://localhost:8080/",
          "height": 35
        },
        "outputId": "1142c68d-dc80-4c96-bcdc-36d02e88f2e1"
      },
      "source": [
        "import math \n",
        "a = math.sqrt(100)\n",
        "print(a)"
      ],
      "execution_count": 83,
      "outputs": [
        {
          "output_type": "stream",
          "text": [
            "10.0\n"
          ],
          "name": "stdout"
        }
      ]
    },
    {
      "cell_type": "code",
      "metadata": {
        "id": "U6GdMp1hws-0",
        "colab_type": "code",
        "colab": {
          "base_uri": "https://localhost:8080/",
          "height": 35
        },
        "outputId": "b194f510-3795-487b-e065-1749df7e3aeb"
      },
      "source": [
        "a = math.pow(100, 0.5)\n",
        "print(a)"
      ],
      "execution_count": 84,
      "outputs": [
        {
          "output_type": "stream",
          "text": [
            "10.0\n"
          ],
          "name": "stdout"
        }
      ]
    },
    {
      "cell_type": "code",
      "metadata": {
        "id": "R93_vkwDw0is",
        "colab_type": "code",
        "colab": {
          "base_uri": "https://localhost:8080/",
          "height": 35
        },
        "outputId": "fe4a8f6d-9547-4160-de33-71d684af12be"
      },
      "source": [
        "x = 100\n",
        "y = 1\n",
        "for i in range(1, x):\n",
        "  y *= i\n",
        "print('Factorial of', x, 'is', y)"
      ],
      "execution_count": 88,
      "outputs": [
        {
          "output_type": "stream",
          "text": [
            "Factorial of 100 is 933262154439441526816992388562667004907159682643816214685929638952175999932299156089414639761565182862536979208272237582511852109168640000000000000000000000\n"
          ],
          "name": "stdout"
        }
      ]
    },
    {
      "cell_type": "code",
      "metadata": {
        "id": "bMffiBOXxQbM",
        "colab_type": "code",
        "colab": {}
      },
      "source": [
        "y = math.factorial(x)"
      ],
      "execution_count": 0,
      "outputs": []
    },
    {
      "cell_type": "code",
      "metadata": {
        "id": "TTa2HCXOxaVm",
        "colab_type": "code",
        "colab": {}
      },
      "source": [
        "import math as m \n",
        "y = m.factorial(x)"
      ],
      "execution_count": 0,
      "outputs": []
    },
    {
      "cell_type": "code",
      "metadata": {
        "id": "xxMcLE89xmBT",
        "colab_type": "code",
        "colab": {}
      },
      "source": [
        "from math import factorial\n",
        "y = factorial(x)"
      ],
      "execution_count": 0,
      "outputs": []
    },
    {
      "cell_type": "code",
      "metadata": {
        "id": "vg98Y5zwx6Ob",
        "colab_type": "code",
        "colab": {
          "base_uri": "https://localhost:8080/",
          "height": 197
        },
        "outputId": "625aa8db-49fb-4bcc-c28a-1471567a31d7"
      },
      "source": [
        "val = list(range(1, 5))\n",
        "tic = time.time()\n",
        "y = 1\n",
        "for x in val:\n",
        "  y *= x\n",
        "  print (y) \n",
        "  toc = time.time()\n",
        "print('Elapsed time is ' , toc - tic) \n",
        "tic = time.time()\n",
        "# See the difference in time intervals\n",
        "for x in val:  \n",
        "  y1 = math.factorial(x)  \n",
        "  print(y1)\n",
        "  toc = time.time()\n",
        "print('Elapsed time is ' , toc - tic) \n"
      ],
      "execution_count": 101,
      "outputs": [
        {
          "output_type": "stream",
          "text": [
            "1\n",
            "2\n",
            "6\n",
            "24\n",
            "Elapsed time is  0.0026459693908691406\n",
            "1\n",
            "2\n",
            "6\n",
            "24\n",
            "Elapsed time is  0.0008053779602050781\n"
          ],
          "name": "stdout"
        }
      ]
    },
    {
      "cell_type": "code",
      "metadata": {
        "id": "JMAN6Iie1ZBQ",
        "colab_type": "code",
        "colab": {
          "base_uri": "https://localhost:8080/",
          "height": 53
        },
        "outputId": "aa014506-5d76-481d-b4b0-d667eccaaa11"
      },
      "source": [
        "!echo 'def hello():' > my_first_module.py\n",
        "!echo '    print(\"Hello there.  It is another file\")' >> my_first_module.py\n",
        "!cat my_first_module.py"
      ],
      "execution_count": 104,
      "outputs": [
        {
          "output_type": "stream",
          "text": [
            "def hello():\n",
            "    print(\"Hello there.  It is another file\")\n"
          ],
          "name": "stdout"
        }
      ]
    },
    {
      "cell_type": "code",
      "metadata": {
        "id": "gJ02RK3M2Ezt",
        "colab_type": "code",
        "colab": {}
      },
      "source": [
        ""
      ],
      "execution_count": 0,
      "outputs": []
    },
    {
      "cell_type": "code",
      "metadata": {
        "id": "DCP5dVLR18si",
        "colab_type": "code",
        "colab": {
          "base_uri": "https://localhost:8080/",
          "height": 35
        },
        "outputId": "600635fc-b79b-41ff-b899-2dac06440f2f"
      },
      "source": [
        "import my_first_module\n",
        "my_first_module.hello()"
      ],
      "execution_count": 105,
      "outputs": [
        {
          "output_type": "stream",
          "text": [
            "Hello there.  It is another file\n"
          ],
          "name": "stdout"
        }
      ]
    },
    {
      "cell_type": "code",
      "metadata": {
        "id": "XU2q457-2Jh2",
        "colab_type": "code",
        "colab": {
          "base_uri": "https://localhost:8080/",
          "height": 35
        },
        "outputId": "ad3f7fc4-7b2a-4235-fe64-a2040381fb1a"
      },
      "source": [
        "from my_first_module import hello\n",
        "hello()"
      ],
      "execution_count": 106,
      "outputs": [
        {
          "output_type": "stream",
          "text": [
            "Hello there.  It is another file\n"
          ],
          "name": "stdout"
        }
      ]
    }
  ]
}