{
  "nbformat": 4,
  "nbformat_minor": 0,
  "metadata": {
    "colab": {
      "name": "02106MorePythonBasics.ipynb",
      "provenance": [],
      "collapsed_sections": [],
      "toc_visible": true,
      "authorship_tag": "ABX9TyPUlfzrSmg0krkrj+U6jq3J",
      "include_colab_link": true
    },
    "kernelspec": {
      "name": "python3",
      "display_name": "Python 3"
    }
  },
  "cells": [
    {
      "cell_type": "markdown",
      "metadata": {
        "id": "view-in-github",
        "colab_type": "text"
      },
      "source": [
        "<a href=\"https://colab.research.google.com/github/anuanu0-0/Deep-Learning/blob/master/02106MorePythonBasics.ipynb\" target=\"_parent\"><img src=\"https://colab.research.google.com/assets/colab-badge.svg\" alt=\"Open In Colab\"/></a>"
      ]
    },
    {
      "cell_type": "code",
      "metadata": {
        "id": "21QiImapHm1U",
        "colab_type": "code",
        "colab": {
          "base_uri": "https://localhost:8080/",
          "height": 34
        },
        "outputId": "57942552-6453-4f6e-ef1f-379f7c43ef9a"
      },
      "source": [
        "# Import PyDrive and associated libraries.\n",
        "# This only needs to be done once in a notebook.\n",
        "from pydrive.auth import GoogleAuth\n",
        "from pydrive.drive import GoogleDrive\n",
        "from google.colab import auth\n",
        "from oauth2client.client import GoogleCredentials\n",
        "\n",
        "# Authenticate and create the PyDrive client.\n",
        "# This only needs to be done once in a notebook.\n",
        "auth.authenticate_user()\n",
        "gauth = GoogleAuth()\n",
        "gauth.credentials = GoogleCredentials.get_application_default()\n",
        "drive = GoogleDrive(gauth)\n",
        "\n",
        "# Create & upload a text file.\n",
        "uploaded = drive.CreateFile({'title': 'Sample file.txt'})\n",
        "uploaded.SetContentString('Sample upload file content')\n",
        "uploaded.Upload()\n",
        "print('Uploaded file with ID {}'.format(uploaded.get('id')))"
      ],
      "execution_count": null,
      "outputs": [
        {
          "output_type": "stream",
          "text": [
            "Uploaded file with ID 1xYqOtQ-YA6P0vfJecFddzjLELIrcvwuf\n"
          ],
          "name": "stdout"
        }
      ]
    },
    {
      "cell_type": "code",
      "metadata": {
        "id": "6dUrZKvINOSg",
        "colab_type": "code",
        "colab": {
          "base_uri": "https://localhost:8080/",
          "height": 102
        },
        "outputId": "56a11587-9e0e-447c-cfa9-c8b24dba552e"
      },
      "source": [
        "\n",
        "# List .txt files in the root.\n",
        "#\n",
        "# Search query reference:\n",
        "# https://developers.google.com/drive/v2/web/search-parameters \n",
        "listed = drive.ListFile({'q': \"title contains '.txt' and 'root' in parents\"}).GetList()\n",
        "for file in listed:\n",
        "  print('title {}, id {}'.format(file['title'], file['id']))\n"
      ],
      "execution_count": null,
      "outputs": [
        {
          "output_type": "stream",
          "text": [
            "title Sample file.txt, id 1xYqOtQ-YA6P0vfJecFddzjLELIrcvwuf\n",
            "title Sample file.txt, id 1T0wWmc9ZmpflueDnJLrJQ-aKFZ0wH2ME\n",
            "title Sample file.txt, id 1uATgrhI8cRghMgCnwGE-x5MK2ckKWlRC\n",
            "title Sample file.txt, id 1JL7p5q35lxm9yMF1UD3rDGGqmcuA3CV9\n",
            "title Sample file.txt, id 1qDt8C943fmwy2XSwOeeBU3cXzTR1EOgo\n"
          ],
          "name": "stdout"
        }
      ]
    },
    {
      "cell_type": "code",
      "metadata": {
        "id": "eKDiuI5xP-aH",
        "colab_type": "code",
        "colab": {}
      },
      "source": [
        "\n",
        "# Download a file based on its file ID.\n",
        "#\n",
        "# A file ID looks like: laggVyWshwcyP6kEI-y_W3P8D26sz #https://drive.google.com/file/d/1IxbzQohLI-o5Z-NtbC4B_Khk8ySCu56s/view?usp=sharing\n",
        "file_id = '1IxbzQohLI-o5Z-NtbC4B_Khk8ySCu56s'\n",
        "downloaded = drive.CreateFile({'id': file_id})\n",
        "print('Downloaded content \"{}\"'.format(downloaded.GetContentString()))"
      ],
      "execution_count": null,
      "outputs": []
    },
    {
      "cell_type": "code",
      "metadata": {
        "id": "URBC7uGUQ3aW",
        "colab_type": "code",
        "colab": {}
      },
      "source": [
        "downloaded.GetContentFile('mobile_cleaned_local.csv')"
      ],
      "execution_count": null,
      "outputs": []
    },
    {
      "cell_type": "code",
      "metadata": {
        "id": "DYzLUWFJRHTT",
        "colab_type": "code",
        "colab": {
          "base_uri": "https://localhost:8080/",
          "height": 34
        },
        "outputId": "0fe3fafc-b333-4401-ebdd-03e7a9879eed"
      },
      "source": [
        "!ls\n"
      ],
      "execution_count": null,
      "outputs": [
        {
          "output_type": "stream",
          "text": [
            "adc.json  mobile_cleaned_local.csv  sample_data\n"
          ],
          "name": "stdout"
        }
      ]
    },
    {
      "cell_type": "code",
      "metadata": {
        "id": "hGgJSkE6RYoQ",
        "colab_type": "code",
        "colab": {}
      },
      "source": [
        "import pandas as pd"
      ],
      "execution_count": null,
      "outputs": []
    },
    {
      "cell_type": "code",
      "metadata": {
        "id": "lrF4TI9mRyra",
        "colab_type": "code",
        "colab": {}
      },
      "source": [
        "df = pd.read_csv('mobile_cleaned_local.csv')"
      ],
      "execution_count": null,
      "outputs": []
    },
    {
      "cell_type": "code",
      "metadata": {
        "id": "b8NZkbXTR9xW",
        "colab_type": "code",
        "colab": {
          "base_uri": "https://localhost:8080/",
          "height": 255
        },
        "outputId": "e4d7d2bd-8a25-4a06-8726-a48acdb5f60c"
      },
      "source": [
        "df.head"
      ],
      "execution_count": null,
      "outputs": [
        {
          "output_type": "execute_result",
          "data": {
            "text/plain": [
              "<bound method NDFrame.head of      sim_type  aperture  gpu_rank  ...  battery_capacity  processor_rank  is_liked\n",
              "0           0        12        55  ...              2000             125         1\n",
              "1           0         1        55  ...              2000             165         1\n",
              "2           0         9        55  ...              2500             164         0\n",
              "3           0         8        55  ...              3000             165         1\n",
              "4           1         1        55  ...              3000             165         0\n",
              "..        ...       ...       ...  ...               ...             ...       ...\n",
              "104         3        10        14  ...              3410               8         1\n",
              "105         0         5         3  ...              3600             101         1\n",
              "106         3        10         6  ...              2750               1         1\n",
              "107         3        10        12  ...              1810               7         1\n",
              "108         2         8         3  ...              3000               2         0\n",
              "\n",
              "[109 rows x 40 columns]>"
            ]
          },
          "metadata": {
            "tags": []
          },
          "execution_count": 14
        }
      ]
    }
  ]
}