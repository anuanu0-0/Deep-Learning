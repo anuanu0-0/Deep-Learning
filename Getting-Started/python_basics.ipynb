{
  "nbformat": 4,
  "nbformat_minor": 0,
  "metadata": {
    "colab": {
      "name": "python_basics.ipynb",
      "provenance": [],
      "collapsed_sections": [
        "vCtyQ-1JoU6U",
        "LiOjiq-DqTkq",
        "QDJ-J-2nbJeA",
        "NjA_Bg-kf1XE",
        "3bc9v0fEokRA",
        "GFxRXKwxwUbC",
        "V7BfoiQfLfnj",
        "PK4oy8sQOgNe"
      ],
      "authorship_tag": "ABX9TyMeyOib7qCe9xNJtovQ6GtZ",
      "include_colab_link": true
    },
    "kernelspec": {
      "name": "python3",
      "display_name": "Python 3"
    }
  },
  "cells": [
    {
      "cell_type": "markdown",
      "metadata": {
        "id": "view-in-github",
        "colab_type": "text"
      },
      "source": [
        "<a href=\"https://colab.research.google.com/github/anuanu0-0/Deep-Learning/blob/master/Getting-Started/python_basics.ipynb\" target=\"_parent\"><img src=\"https://colab.research.google.com/assets/colab-badge.svg\" alt=\"Open In Colab\"/></a>"
      ]
    },
    {
      "cell_type": "markdown",
      "metadata": {
        "id": "vCtyQ-1JoU6U",
        "colab_type": "text"
      },
      "source": [
        "\n",
        "# Simple data types and operators\n"
      ]
    },
    {
      "cell_type": "code",
      "metadata": {
        "id": "CZN3hP8Enrd7",
        "colab_type": "code",
        "outputId": "e9162b27-80b5-40ab-8d3c-1b48dfd5c16e",
        "colab": {
          "base_uri": "https://localhost:8080/"
        }
      },
      "source": [
        "name = 'Hello World'\n",
        "type(name)\n"
      ],
      "execution_count": 0,
      "outputs": [
        {
          "output_type": "execute_result",
          "data": {
            "text/plain": [
              "str"
            ]
          },
          "metadata": {
            "tags": []
          },
          "execution_count": 1
        }
      ]
    },
    {
      "cell_type": "code",
      "metadata": {
        "id": "41AZlYAjocqx",
        "colab_type": "code",
        "outputId": "6e79a0af-49ec-471d-907b-798ab6550f84",
        "colab": {
          "base_uri": "https://localhost:8080/"
        }
      },
      "source": [
        "print(name)"
      ],
      "execution_count": 0,
      "outputs": [
        {
          "output_type": "stream",
          "text": [
            "Hello World\n"
          ],
          "name": "stdout"
        }
      ]
    },
    {
      "cell_type": "code",
      "metadata": {
        "id": "Cx_VPH9uoifw",
        "colab_type": "code",
        "outputId": "8585208d-e6db-4668-c0ff-e2a7a962f63f",
        "colab": {
          "base_uri": "https://localhost:8080/"
        }
      },
      "source": [
        "size = 12.22\n",
        "type(size)"
      ],
      "execution_count": 0,
      "outputs": [
        {
          "output_type": "execute_result",
          "data": {
            "text/plain": [
              "float"
            ]
          },
          "metadata": {
            "tags": []
          },
          "execution_count": 3
        }
      ]
    },
    {
      "cell_type": "code",
      "metadata": {
        "id": "fU16mjuCop99",
        "colab_type": "code",
        "outputId": "4f9736e9-6dc3-42df-9860-d5d043434d3e",
        "colab": {
          "base_uri": "https://localhost:8080/"
        }
      },
      "source": [
        "num = 2\n",
        "type(num)"
      ],
      "execution_count": 0,
      "outputs": [
        {
          "output_type": "execute_result",
          "data": {
            "text/plain": [
              "int"
            ]
          },
          "metadata": {
            "tags": []
          },
          "execution_count": 4
        }
      ]
    },
    {
      "cell_type": "code",
      "metadata": {
        "id": "9sCCj-olozyk",
        "colab_type": "code",
        "outputId": "8960f816-9c6e-4a9a-abae-dd11699c618b",
        "colab": {
          "base_uri": "https://localhost:8080/"
        }
      },
      "source": [
        "print('Its just a ' + name + ' program')"
      ],
      "execution_count": 0,
      "outputs": [
        {
          "output_type": "stream",
          "text": [
            "Its just a Hello World program\n"
          ],
          "name": "stdout"
        }
      ]
    },
    {
      "cell_type": "code",
      "metadata": {
        "id": "tjjjs5Zqo-mu",
        "colab_type": "code",
        "outputId": "aa19d4c6-5713-405e-9393-3b0b32f7335a",
        "colab": {
          "base_uri": "https://localhost:8080/"
        }
      },
      "source": [
        "a = 1\n",
        "b = 6\n",
        "print(a*b, a/b, a+b, a-b, a**b, a//b)"
      ],
      "execution_count": 0,
      "outputs": [
        {
          "output_type": "stream",
          "text": [
            "6 0.16666666666666666 7 -5 1 0\n"
          ],
          "name": "stdout"
        }
      ]
    },
    {
      "cell_type": "code",
      "metadata": {
        "id": "uq1VNUMdpae7",
        "colab_type": "code",
        "outputId": "0a38fe8d-850f-4063-9d92-be4f96843ca7",
        "colab": {
          "base_uri": "https://localhost:8080/"
        }
      },
      "source": [
        "is_android = False\n",
        "type(is_android)\n"
      ],
      "execution_count": 0,
      "outputs": [
        {
          "output_type": "execute_result",
          "data": {
            "text/plain": [
              "bool"
            ]
          },
          "metadata": {
            "tags": []
          },
          "execution_count": 7
        }
      ]
    },
    {
      "cell_type": "code",
      "metadata": {
        "id": "yN15BumXqAB_",
        "colab_type": "code",
        "outputId": "69b86f09-af3c-4bb7-b7ad-71d172179f11",
        "colab": {
          "base_uri": "https://localhost:8080/"
        }
      },
      "source": [
        "print (is_android == True and num > 1)\n",
        "print (is_android == True or num > 1)"
      ],
      "execution_count": 0,
      "outputs": [
        {
          "output_type": "stream",
          "text": [
            "False\n",
            "True\n"
          ],
          "name": "stdout"
        }
      ]
    },
    {
      "cell_type": "markdown",
      "metadata": {
        "id": "LiOjiq-DqTkq",
        "colab_type": "text"
      },
      "source": [
        "# Blocks -If, For, While\n"
      ]
    },
    {
      "cell_type": "code",
      "metadata": {
        "id": "aI2CWN_lqaol",
        "colab_type": "code",
        "outputId": "6fd12e57-71f7-4712-d238-a7a15bbc38a1",
        "colab": {
          "base_uri": "https://localhost:8080/"
        }
      },
      "source": [
        "if is_android == True:\n",
        "  print('Hello there')\n",
        "  # Try to make is_android = true while declaration\n",
        "print ('I always run') "
      ],
      "execution_count": 0,
      "outputs": [
        {
          "output_type": "stream",
          "text": [
            "I always run\n"
          ],
          "name": "stdout"
        }
      ]
    },
    {
      "cell_type": "code",
      "metadata": {
        "colab_type": "code",
        "outputId": "75f5b337-d190-4013-e9b9-0bd2a32aff5b",
        "id": "8kSCEtucar5e",
        "colab": {
          "base_uri": "https://localhost:8080/"
        }
      },
      "source": [
        "for i in range(2, 5):\n",
        "  print (i, i**2)"
      ],
      "execution_count": 0,
      "outputs": [
        {
          "output_type": "stream",
          "text": [
            "2 4\n",
            "3 9\n",
            "4 16\n"
          ],
          "name": "stdout"
        }
      ]
    },
    {
      "cell_type": "code",
      "metadata": {
        "id": "6bw6i0Uzatbf",
        "colab_type": "code",
        "colab": {}
      },
      "source": [
        "range?\n"
      ],
      "execution_count": 0,
      "outputs": []
    },
    {
      "cell_type": "code",
      "metadata": {
        "id": "7AXVr6yna41o",
        "colab_type": "code",
        "outputId": "9dfa318e-f34b-4355-c2b4-187d942d82e0",
        "colab": {
          "base_uri": "https://localhost:8080/"
        }
      },
      "source": [
        "i = 0\n",
        "while i < 5:\n",
        "  print (i, i**2)\n",
        "  i += 1"
      ],
      "execution_count": 0,
      "outputs": [
        {
          "output_type": "stream",
          "text": [
            "0 0\n",
            "1 1\n",
            "2 4\n",
            "3 9\n",
            "4 16\n"
          ],
          "name": "stdout"
        }
      ]
    },
    {
      "cell_type": "markdown",
      "metadata": {
        "id": "QDJ-J-2nbJeA",
        "colab_type": "text"
      },
      "source": [
        "# Functions\n"
      ]
    },
    {
      "cell_type": "code",
      "metadata": {
        "colab_type": "code",
        "id": "TTv19F1ybqqy",
        "colab": {}
      },
      "source": [
        "def print_square(stop_val):\n",
        "  for i in range(stop_val):\n",
        "    print (i, i**2)"
      ],
      "execution_count": 0,
      "outputs": []
    },
    {
      "cell_type": "code",
      "metadata": {
        "id": "Zt4g5iTbbsxg",
        "colab_type": "code",
        "outputId": "0b06b0c1-599d-4798-eb7a-6524c0c29517",
        "colab": {
          "base_uri": "https://localhost:8080/"
        }
      },
      "source": [
        "print_square(5)"
      ],
      "execution_count": 0,
      "outputs": [
        {
          "output_type": "stream",
          "text": [
            "0 0\n",
            "1 1\n",
            "2 4\n",
            "3 9\n",
            "4 16\n"
          ],
          "name": "stdout"
        }
      ]
    },
    {
      "cell_type": "code",
      "metadata": {
        "id": "wrF17w7abzYf",
        "colab_type": "code",
        "colab": {}
      },
      "source": [
        "\n",
        "def print_square_sum(stop_val):\n",
        "  sum_ = 0\n",
        "  for i in range(stop_val):\n",
        "    sum_ += i ** 2\n",
        "  return sum_"
      ],
      "execution_count": 0,
      "outputs": []
    },
    {
      "cell_type": "code",
      "metadata": {
        "id": "C4np19hkepYP",
        "colab_type": "code",
        "outputId": "9e673ba4-6776-4632-aa28-f8ca873da92c",
        "colab": {
          "base_uri": "https://localhost:8080/"
        }
      },
      "source": [
        "print_square_sum(5)"
      ],
      "execution_count": 0,
      "outputs": [
        {
          "output_type": "execute_result",
          "data": {
            "text/plain": [
              "30"
            ]
          },
          "metadata": {
            "tags": []
          },
          "execution_count": 16
        }
      ]
    },
    {
      "cell_type": "code",
      "metadata": {
        "colab_type": "code",
        "id": "qOIOvXw2dsoe",
        "colab": {}
      },
      "source": [
        "def print_squares_with_startval(stop_val , start_val = 0):\n",
        "    for i in range(start_val, stop_val):\n",
        "      print (i , i**2)"
      ],
      "execution_count": 0,
      "outputs": []
    },
    {
      "cell_type": "code",
      "metadata": {
        "colab_type": "code",
        "outputId": "db6c1753-b3f2-4233-d868-a246c0d3b26b",
        "id": "G1vsjp5GfpNz",
        "colab": {
          "base_uri": "https://localhost:8080/"
        }
      },
      "source": [
        "print_squares_with_startval(4, 2)"
      ],
      "execution_count": 0,
      "outputs": [
        {
          "output_type": "stream",
          "text": [
            "2 4\n",
            "3 9\n"
          ],
          "name": "stdout"
        }
      ]
    },
    {
      "cell_type": "code",
      "metadata": {
        "id": "hMELpU3_fp-V",
        "colab_type": "code",
        "colab": {}
      },
      "source": [
        "print_squares_with_startval?"
      ],
      "execution_count": 0,
      "outputs": []
    },
    {
      "cell_type": "markdown",
      "metadata": {
        "id": "NjA_Bg-kf1XE",
        "colab_type": "text"
      },
      "source": [
        "# Lists\n"
      ]
    },
    {
      "cell_type": "code",
      "metadata": {
        "id": "B-qLGgKwf0U8",
        "colab_type": "code",
        "outputId": "5c02c353-4726-4e2e-9325-98eb56c1ff92",
        "colab": {
          "base_uri": "https://localhost:8080/"
        }
      },
      "source": [
        "my_life = [name, is_android, size]\n",
        "print (my_life)"
      ],
      "execution_count": 0,
      "outputs": [
        {
          "output_type": "stream",
          "text": [
            "['Hello World', False, 12.22]\n"
          ],
          "name": "stdout"
        }
      ]
    },
    {
      "cell_type": "code",
      "metadata": {
        "id": "cARTf2cYk1i0",
        "colab_type": "code",
        "outputId": "e94a513c-f1f0-4d95-f611-eb82ad237533",
        "colab": {
          "base_uri": "https://localhost:8080/"
        }
      },
      "source": [
        "type(my_life)"
      ],
      "execution_count": 0,
      "outputs": [
        {
          "output_type": "execute_result",
          "data": {
            "text/plain": [
              "list"
            ]
          },
          "metadata": {
            "tags": []
          },
          "execution_count": 21
        }
      ]
    },
    {
      "cell_type": "code",
      "metadata": {
        "id": "2Z8jyu4sk_EJ",
        "colab_type": "code",
        "outputId": "ef89b1bc-dd92-4251-83d5-20fda1f30d81",
        "colab": {
          "base_uri": "https://localhost:8080/"
        }
      },
      "source": [
        "my_life[2]"
      ],
      "execution_count": 0,
      "outputs": [
        {
          "output_type": "execute_result",
          "data": {
            "text/plain": [
              "12.22"
            ]
          },
          "metadata": {
            "tags": []
          },
          "execution_count": 22
        }
      ]
    },
    {
      "cell_type": "code",
      "metadata": {
        "id": "two03cbulBqz",
        "colab_type": "code",
        "outputId": "12f99fd7-99f0-47bc-8425-70efea8706bd",
        "colab": {
          "base_uri": "https://localhost:8080/"
        }
      },
      "source": [
        "my_life[1:3]"
      ],
      "execution_count": 0,
      "outputs": [
        {
          "output_type": "execute_result",
          "data": {
            "text/plain": [
              "[False, 12.22]"
            ]
          },
          "metadata": {
            "tags": []
          },
          "execution_count": 23
        }
      ]
    },
    {
      "cell_type": "code",
      "metadata": {
        "id": "ShDA7e9rlGf4",
        "colab_type": "code",
        "colab": {}
      },
      "source": [
        "my_other_life = my_life\n",
        "my_secondOther_life = list(my_life)"
      ],
      "execution_count": 0,
      "outputs": []
    },
    {
      "cell_type": "code",
      "metadata": {
        "id": "YlNj1LbDlQ7q",
        "colab_type": "code",
        "outputId": "88538e3e-8d62-49e3-932d-e2b74c300972",
        "colab": {
          "base_uri": "https://localhost:8080/"
        }
      },
      "source": [
        "print (my_other_life)\n",
        "print (my_secondOther_life)"
      ],
      "execution_count": 0,
      "outputs": [
        {
          "output_type": "stream",
          "text": [
            "['Hello World', False, 12.22]\n",
            "['Hello World', False, 12.22]\n"
          ],
          "name": "stdout"
        }
      ]
    },
    {
      "cell_type": "code",
      "metadata": {
        "id": "VOK3dL-wls--",
        "colab_type": "code",
        "outputId": "a1abea14-6183-4acf-e22b-ef30d6da66ff",
        "colab": {
          "base_uri": "https://localhost:8080/"
        }
      },
      "source": [
        "my_life[2] = 1001.1001\n",
        "print (my_life)"
      ],
      "execution_count": 0,
      "outputs": [
        {
          "output_type": "stream",
          "text": [
            "['Hello World', False, 1001.1001]\n"
          ],
          "name": "stdout"
        }
      ]
    },
    {
      "cell_type": "code",
      "metadata": {
        "id": "2UPrAcVsl7Ym",
        "colab_type": "code",
        "outputId": "2fedde96-2951-45ab-97eb-a0b58d689941",
        "colab": {
          "base_uri": "https://localhost:8080/"
        }
      },
      "source": [
        "len (my_life)"
      ],
      "execution_count": 0,
      "outputs": [
        {
          "output_type": "execute_result",
          "data": {
            "text/plain": [
              "3"
            ]
          },
          "metadata": {
            "tags": []
          },
          "execution_count": 27
        }
      ]
    },
    {
      "cell_type": "code",
      "metadata": {
        "id": "eVw_EDrXmXFr",
        "colab_type": "code",
        "colab": {}
      },
      "source": [
        "len?"
      ],
      "execution_count": 0,
      "outputs": []
    },
    {
      "cell_type": "code",
      "metadata": {
        "id": "WkN74iMNmeOn",
        "colab_type": "code",
        "outputId": "883f248f-1086-4b07-8642-9206d484b9aa",
        "colab": {
          "base_uri": "https://localhost:8080/"
        }
      },
      "source": [
        "my_life.append('Coding')\n",
        "print (my_life)"
      ],
      "execution_count": 0,
      "outputs": [
        {
          "output_type": "stream",
          "text": [
            "['Hello World', False, 1001.1001, 'Coding']\n"
          ],
          "name": "stdout"
        }
      ]
    },
    {
      "cell_type": "code",
      "metadata": {
        "id": "cE3xicq0mxGe",
        "colab_type": "code",
        "outputId": "518bd389-9241-4d92-8f59-14a298d67014",
        "colab": {
          "base_uri": "https://localhost:8080/"
        }
      },
      "source": [
        "pro = ['backtracking', 101]\n",
        "my_life = my_life + pro\n",
        "print (my_life)"
      ],
      "execution_count": 0,
      "outputs": [
        {
          "output_type": "stream",
          "text": [
            "['Hello World', False, 1001.1001, 'Coding', 'backtracking', 101]\n"
          ],
          "name": "stdout"
        }
      ]
    },
    {
      "cell_type": "code",
      "metadata": {
        "id": "perht4cLnhj-",
        "colab_type": "code",
        "outputId": "bbbadf01-abf1-422c-ae2b-8377f1f51536",
        "colab": {
          "base_uri": "https://localhost:8080/"
        }
      },
      "source": [
        "for data in my_life:\n",
        "  print (data)"
      ],
      "execution_count": 0,
      "outputs": [
        {
          "output_type": "stream",
          "text": [
            "Hello World\n",
            "False\n",
            "1001.1001\n",
            "Coding\n",
            "backtracking\n",
            "101\n"
          ],
          "name": "stdout"
        }
      ]
    },
    {
      "cell_type": "code",
      "metadata": {
        "id": "Q90Yh8N1nse9",
        "colab_type": "code",
        "outputId": "bfa6216e-98d2-4b75-c333-e401da674aa7",
        "colab": {
          "base_uri": "https://localhost:8080/"
        }
      },
      "source": [
        "range(5)"
      ],
      "execution_count": 0,
      "outputs": [
        {
          "output_type": "execute_result",
          "data": {
            "text/plain": [
              "range(0, 5)"
            ]
          },
          "metadata": {
            "tags": []
          },
          "execution_count": 32
        }
      ]
    },
    {
      "cell_type": "code",
      "metadata": {
        "id": "Wl_Mg4L_nxVq",
        "colab_type": "code",
        "outputId": "1a50cb21-9763-4a52-eaae-e4a8d115db1e",
        "colab": {
          "base_uri": "https://localhost:8080/"
        }
      },
      "source": [
        "print (list(range(5)))"
      ],
      "execution_count": 0,
      "outputs": [
        {
          "output_type": "stream",
          "text": [
            "[0, 1, 2, 3, 4]\n"
          ],
          "name": "stdout"
        }
      ]
    },
    {
      "cell_type": "code",
      "metadata": {
        "id": "O9pvyWdmoBT5",
        "colab_type": "code",
        "outputId": "11f48d15-5d7b-4f3a-a2b7-1c39e5ad4194",
        "colab": {
          "base_uri": "https://localhost:8080/"
        }
      },
      "source": [
        "a = list(range(5))\n",
        "print (a)"
      ],
      "execution_count": 0,
      "outputs": [
        {
          "output_type": "stream",
          "text": [
            "[0, 1, 2, 3, 4]\n"
          ],
          "name": "stdout"
        }
      ]
    },
    {
      "cell_type": "code",
      "metadata": {
        "id": "ayy2g16kotxF",
        "colab_type": "code",
        "colab": {}
      },
      "source": [
        "map?"
      ],
      "execution_count": 0,
      "outputs": []
    },
    {
      "cell_type": "code",
      "metadata": {
        "id": "8i_YsgJqo5Eh",
        "colab_type": "code",
        "outputId": "733ee54e-fa9c-4ae1-af14-60887a20318c",
        "colab": {
          "base_uri": "https://localhost:8080/"
        }
      },
      "source": [
        "z = [1,2,3,4,5]\n",
        "test = list(map(lambda x: x * 2, z))\n",
        "print(test)"
      ],
      "execution_count": 0,
      "outputs": [
        {
          "output_type": "stream",
          "text": [
            "[2, 4, 6, 8, 10]\n"
          ],
          "name": "stdout"
        }
      ]
    },
    {
      "cell_type": "code",
      "metadata": {
        "id": "3sFpbPUtoS5s",
        "colab_type": "code",
        "outputId": "1e14353d-e01b-4f86-c597-054ef97d6b8f",
        "colab": {
          "base_uri": "https://localhost:8080/"
        }
      },
      "source": [
        "b = list(map(lambda x: x**2, a))\n",
        "print (b)"
      ],
      "execution_count": 0,
      "outputs": [
        {
          "output_type": "stream",
          "text": [
            "[0, 1, 4, 9, 16]\n"
          ],
          "name": "stdout"
        }
      ]
    },
    {
      "cell_type": "code",
      "metadata": {
        "id": "AOcijTVIn1R-",
        "colab_type": "code",
        "outputId": "311629dd-1fe5-41f1-a958-02bbdb87f94c",
        "colab": {
          "base_uri": "https://localhost:8080/"
        }
      },
      "source": [
        "c = list(filter(lambda x: x % 2 != 0, b))\n",
        "print(c)"
      ],
      "execution_count": 0,
      "outputs": [
        {
          "output_type": "stream",
          "text": [
            "[1, 9]\n"
          ],
          "name": "stdout"
        }
      ]
    },
    {
      "cell_type": "markdown",
      "metadata": {
        "id": "3bc9v0fEokRA",
        "colab_type": "text"
      },
      "source": [
        "# Tuples, Sets and Dicts"
      ]
    },
    {
      "cell_type": "code",
      "metadata": {
        "id": "a9RWBvdiofaT",
        "colab_type": "code",
        "outputId": "b84d733e-6d6f-430c-f302-aa581c99bfb2",
        "colab": {
          "base_uri": "https://localhost:8080/"
        }
      },
      "source": [
        "my_work_tuple = ('StartUp', True, 11.54)\n",
        "print(my_work_tuple)\n",
        "type (my_work_tuple)"
      ],
      "execution_count": 0,
      "outputs": [
        {
          "output_type": "stream",
          "text": [
            "('StartUp', True, 11.54)\n"
          ],
          "name": "stdout"
        },
        {
          "output_type": "execute_result",
          "data": {
            "text/plain": [
              "tuple"
            ]
          },
          "metadata": {
            "tags": []
          },
          "execution_count": 39
        }
      ]
    },
    {
      "cell_type": "code",
      "metadata": {
        "id": "7tQgaEZtpie7",
        "colab_type": "code",
        "outputId": "28f23115-9000-4e93-ecb9-e13f1949cc8f",
        "colab": {
          "base_uri": "https://localhost:8080/"
        }
      },
      "source": [
        "my_work_tuple[1:3]"
      ],
      "execution_count": 0,
      "outputs": [
        {
          "output_type": "execute_result",
          "data": {
            "text/plain": [
              "(True, 11.54)"
            ]
          },
          "metadata": {
            "tags": []
          },
          "execution_count": 40
        }
      ]
    },
    {
      "cell_type": "code",
      "metadata": {
        "id": "2HLf0ZIOprOg",
        "colab_type": "code",
        "outputId": "7d17fe50-7ead-4730-cd41-30e64b306c11",
        "colab": {
          "base_uri": "https://localhost:8080/"
        }
      },
      "source": [
        "for data in my_work_tuple:\n",
        "  print(data)"
      ],
      "execution_count": 0,
      "outputs": [
        {
          "output_type": "stream",
          "text": [
            "StartUp\n",
            "True\n",
            "11.54\n"
          ],
          "name": "stdout"
        }
      ]
    },
    {
      "cell_type": "code",
      "metadata": {
        "id": "pJm88JeNpy37",
        "colab_type": "code",
        "outputId": "200a495c-fb93-4b9b-aab9-5c57f03a9702",
        "colab": {
          "base_uri": "https://localhost:8080/"
        }
      },
      "source": [
        "my_work_tuple[2] = 1"
      ],
      "execution_count": 0,
      "outputs": [
        {
          "output_type": "error",
          "ename": "TypeError",
          "evalue": "ignored",
          "traceback": [
            "\u001b[0;31m---------------------------------------------------------------------------\u001b[0m",
            "\u001b[0;31mTypeError\u001b[0m                                 Traceback (most recent call last)",
            "\u001b[0;32m<ipython-input-42-eaa5bcaef4ae>\u001b[0m in \u001b[0;36m<module>\u001b[0;34m()\u001b[0m\n\u001b[0;32m----> 1\u001b[0;31m \u001b[0mmy_work_tuple\u001b[0m\u001b[0;34m[\u001b[0m\u001b[0;36m2\u001b[0m\u001b[0;34m]\u001b[0m \u001b[0;34m=\u001b[0m \u001b[0;36m1\u001b[0m\u001b[0;34m\u001b[0m\u001b[0;34m\u001b[0m\u001b[0m\n\u001b[0m",
            "\u001b[0;31mTypeError\u001b[0m: 'tuple' object does not support item assignment"
          ]
        }
      ]
    },
    {
      "cell_type": "code",
      "metadata": {
        "id": "puQJCdV1p3_4",
        "colab_type": "code",
        "colab": {}
      },
      "source": [
        "import time\n",
        "tic = time.time()\n",
        "print(tic)"
      ],
      "execution_count": 0,
      "outputs": []
    },
    {
      "cell_type": "code",
      "metadata": {
        "id": "YhGlCEc3qGwh",
        "colab_type": "code",
        "colab": {}
      },
      "source": [
        "time.time?"
      ],
      "execution_count": 0,
      "outputs": []
    },
    {
      "cell_type": "code",
      "metadata": {
        "id": "iFMj-efFqeJu",
        "colab_type": "code",
        "colab": {}
      },
      "source": [
        "tic = time.time()\n",
        "# Time elapsed in this comment is the difference between tic and toc\n",
        "toc = time.time()\n",
        "print('Elapsed time' , toc - tic)"
      ],
      "execution_count": 0,
      "outputs": []
    },
    {
      "cell_type": "code",
      "metadata": {
        "id": "H_qBUxFzq8ic",
        "colab_type": "code",
        "colab": {}
      },
      "source": [
        "my_list = list(range(1000000))\n",
        "tic = time.time()\n",
        "my_list_squared = map(lambda i: i**2, my_list)\n",
        "toc = time.time()\n",
        "print('Elapsed time in sec' , toc - tic)"
      ],
      "execution_count": 0,
      "outputs": []
    },
    {
      "cell_type": "code",
      "metadata": {
        "id": "X7w8cPnCrjqU",
        "colab_type": "code",
        "colab": {}
      },
      "source": [
        "my_tuple = tuple(range(1000000))\n",
        "tic = time.time()\n",
        "my_tuple_squared = map(lambda i: i**2, my_tuple)\n",
        "toc = time.time()\n",
        "print('Elapsed time in sec' , toc - tic)\n",
        "# Time taken in a tuple manipulation is less than the list manipulation\n"
      ],
      "execution_count": 0,
      "outputs": []
    },
    {
      "cell_type": "code",
      "metadata": {
        "id": "w0iyFw7nsQ1D",
        "colab_type": "code",
        "colab": {}
      },
      "source": [
        "my_set = set(my_life)\n",
        "print(my_set)"
      ],
      "execution_count": 0,
      "outputs": []
    },
    {
      "cell_type": "code",
      "metadata": {
        "id": "t4UlmM7FssS7",
        "colab_type": "code",
        "colab": {}
      },
      "source": [
        "my_list = list(range(1000000))\n",
        "tic = time.time()\n",
        "print (98731 in my_list)\n",
        "print (131581 in my_list)\n",
        "print (111111111111111 in my_list)\n",
        "toc = time.time()\n",
        "print('Elapsed time in sec' , toc - tic)"
      ],
      "execution_count": 0,
      "outputs": []
    },
    {
      "cell_type": "code",
      "metadata": {
        "id": "YYhnvRKPt056",
        "colab_type": "code",
        "colab": {}
      },
      "source": [
        "my_set = set(range(1000000))\n",
        "tic = time.time()\n",
        "print (98731 in my_list)\n",
        "print (131581 in my_list)\n",
        "print (111111111111111 in my_list)\n",
        "toc = time.time()\n",
        "print('Elapsed time in sec' , toc - tic)"
      ],
      "execution_count": 0,
      "outputs": []
    },
    {
      "cell_type": "code",
      "metadata": {
        "id": "8G2QRlDouaJj",
        "colab_type": "code",
        "colab": {}
      },
      "source": [
        "my_work_dict = {}\n",
        "type (my_work_dict)"
      ],
      "execution_count": 0,
      "outputs": []
    },
    {
      "cell_type": "code",
      "metadata": {
        "id": "PWwpswAkul1q",
        "colab_type": "code",
        "colab": {}
      },
      "source": [
        "my_work_dict['name'] = 'coding'\n",
        "my_work_dict['isActive'] = True\n",
        "my_work_dict['timeStamp'] =  12.19\n",
        "print(my_work_dict)"
      ],
      "execution_count": 0,
      "outputs": []
    },
    {
      "cell_type": "code",
      "metadata": {
        "id": "5nnWHF2gvGs1",
        "colab_type": "code",
        "colab": {}
      },
      "source": [
        "my_work_dict['name']"
      ],
      "execution_count": 0,
      "outputs": []
    },
    {
      "cell_type": "code",
      "metadata": {
        "id": "vczL_tbHvQKw",
        "colab_type": "code",
        "colab": {}
      },
      "source": [
        "print(my_work_dict.keys())\n",
        "print (my_work_dict.values())\n",
        "print(my_work_dict.items())"
      ],
      "execution_count": 0,
      "outputs": []
    },
    {
      "cell_type": "code",
      "metadata": {
        "id": "jWmRDa_yvmTC",
        "colab_type": "code",
        "colab": {}
      },
      "source": [
        "for key in my_work_dict.keys():\n",
        "  print(key, ':', my_work_dict[key])"
      ],
      "execution_count": 0,
      "outputs": []
    },
    {
      "cell_type": "markdown",
      "metadata": {
        "id": "E0rBsRVuwSNR",
        "colab_type": "text"
      },
      "source": [
        ""
      ]
    },
    {
      "cell_type": "markdown",
      "metadata": {
        "id": "GFxRXKwxwUbC",
        "colab_type": "text"
      },
      "source": [
        "# Python Packages\n",
        "\n"
      ]
    },
    {
      "cell_type": "code",
      "metadata": {
        "id": "Xhrqn1Dawhcj",
        "colab_type": "code",
        "colab": {}
      },
      "source": [
        "import math \n",
        "a = math.sqrt(100)\n",
        "print(a)"
      ],
      "execution_count": 0,
      "outputs": []
    },
    {
      "cell_type": "code",
      "metadata": {
        "id": "U6GdMp1hws-0",
        "colab_type": "code",
        "colab": {}
      },
      "source": [
        "a = math.pow(100, 0.5)\n",
        "print(a)"
      ],
      "execution_count": 0,
      "outputs": []
    },
    {
      "cell_type": "code",
      "metadata": {
        "id": "R93_vkwDw0is",
        "colab_type": "code",
        "colab": {}
      },
      "source": [
        "x = 100\n",
        "y = 1\n",
        "for i in range(1, x):\n",
        "  y *= i\n",
        "print('Factorial of', x, 'is', y)"
      ],
      "execution_count": 0,
      "outputs": []
    },
    {
      "cell_type": "code",
      "metadata": {
        "id": "bMffiBOXxQbM",
        "colab_type": "code",
        "colab": {}
      },
      "source": [
        "y = math.factorial(x)"
      ],
      "execution_count": 0,
      "outputs": []
    },
    {
      "cell_type": "code",
      "metadata": {
        "id": "TTa2HCXOxaVm",
        "colab_type": "code",
        "colab": {}
      },
      "source": [
        "import math as m \n",
        "y = m.factorial(x)"
      ],
      "execution_count": 0,
      "outputs": []
    },
    {
      "cell_type": "code",
      "metadata": {
        "id": "xxMcLE89xmBT",
        "colab_type": "code",
        "colab": {}
      },
      "source": [
        "from math import factorial\n",
        "y = factorial(x)"
      ],
      "execution_count": 0,
      "outputs": []
    },
    {
      "cell_type": "code",
      "metadata": {
        "id": "vg98Y5zwx6Ob",
        "colab_type": "code",
        "colab": {}
      },
      "source": [
        "val = list(range(1, 5))\n",
        "tic = time.time()\n",
        "y = 1\n",
        "for x in val:\n",
        "  y *= x\n",
        "  print (y) \n",
        "  toc = time.time()\n",
        "print('Elapsed time is ' , toc - tic) \n",
        "tic = time.time()\n",
        "# See the difference in time intervals\n",
        "for x in val:  \n",
        "  y1 = math.factorial(x)  \n",
        "  print(y1)\n",
        "  toc = time.time()\n",
        "print('Elapsed time is ' , toc - tic) \n"
      ],
      "execution_count": 0,
      "outputs": []
    },
    {
      "cell_type": "code",
      "metadata": {
        "id": "JMAN6Iie1ZBQ",
        "colab_type": "code",
        "colab": {}
      },
      "source": [
        "!echo 'def hello():' > my_first_module.py\n",
        "!echo '    print(\"Hello there.  It is another file\")' >> my_first_module.py\n",
        "!cat my_first_module.py"
      ],
      "execution_count": 0,
      "outputs": []
    },
    {
      "cell_type": "code",
      "metadata": {
        "id": "gJ02RK3M2Ezt",
        "colab_type": "code",
        "colab": {}
      },
      "source": [
        ""
      ],
      "execution_count": 0,
      "outputs": []
    },
    {
      "cell_type": "code",
      "metadata": {
        "id": "DCP5dVLR18si",
        "colab_type": "code",
        "colab": {}
      },
      "source": [
        "import my_first_module\n",
        "my_first_module.hello()"
      ],
      "execution_count": 0,
      "outputs": []
    },
    {
      "cell_type": "code",
      "metadata": {
        "id": "XU2q457-2Jh2",
        "colab_type": "code",
        "colab": {}
      },
      "source": [
        "from my_first_module import hello\n",
        "hello()"
      ],
      "execution_count": 0,
      "outputs": []
    },
    {
      "cell_type": "markdown",
      "metadata": {
        "id": "V7BfoiQfLfnj",
        "colab_type": "text"
      },
      "source": [
        "# File Handling"
      ]
    },
    {
      "cell_type": "code",
      "metadata": {
        "id": "2Km8TW-GLjz5",
        "colab_type": "code",
        "colab": {}
      },
      "source": [
        "!wget https://www.dropbox.com/s/w94odi4aq1k44lf/mobile_cleaned.csv"
      ],
      "execution_count": 0,
      "outputs": []
    },
    {
      "cell_type": "code",
      "metadata": {
        "id": "Ulfn-c0TMzMZ",
        "colab_type": "code",
        "colab": {}
      },
      "source": [
        "!wget https://onedrive.live.com/Edit.aspx?resid=A5151AA767C7DC0D!11701&wd=cpe"
      ],
      "execution_count": 0,
      "outputs": []
    },
    {
      "cell_type": "code",
      "metadata": {
        "id": "sPkknke8NCW7",
        "colab_type": "code",
        "colab": {}
      },
      "source": [
        "!ls"
      ],
      "execution_count": 0,
      "outputs": []
    },
    {
      "cell_type": "code",
      "metadata": {
        "id": "P7Zxad9yNG8Y",
        "colab_type": "code",
        "colab": {}
      },
      "source": [
        "file = open('mobile_cleaned.csv', 'r')"
      ],
      "execution_count": 0,
      "outputs": []
    },
    {
      "cell_type": "code",
      "metadata": {
        "id": "XjujjwWrNU73",
        "colab_type": "code",
        "colab": {}
      },
      "source": [
        "s = file.readline()"
      ],
      "execution_count": 0,
      "outputs": []
    },
    {
      "cell_type": "code",
      "metadata": {
        "id": "fGaF5FL_NZFv",
        "colab_type": "code",
        "colab": {}
      },
      "source": [
        "print(s)"
      ],
      "execution_count": 0,
      "outputs": []
    },
    {
      "cell_type": "code",
      "metadata": {
        "id": "a9gMvayxE8PA",
        "colab_type": "code",
        "colab": {}
      },
      "source": [
        "print(s.split(','))"
      ],
      "execution_count": 0,
      "outputs": []
    },
    {
      "cell_type": "code",
      "metadata": {
        "id": "nEftmJNHFHYK",
        "colab_type": "code",
        "colab": {}
      },
      "source": [
        "file.close()"
      ],
      "execution_count": 0,
      "outputs": []
    },
    {
      "cell_type": "code",
      "metadata": {
        "id": "kDDsW2__FLgQ",
        "colab_type": "code",
        "colab": {}
      },
      "source": [
        "file.readline()"
      ],
      "execution_count": 0,
      "outputs": []
    },
    {
      "cell_type": "code",
      "metadata": {
        "id": "icqaybexFRPW",
        "colab_type": "code",
        "colab": {}
      },
      "source": [
        "with open('mobile_cleaned.csv','r') as file:\n",
        "  print (file.readline())"
      ],
      "execution_count": 0,
      "outputs": []
    },
    {
      "cell_type": "code",
      "metadata": {
        "id": "l6YWaoV0G_Vy",
        "colab_type": "code",
        "colab": {}
      },
      "source": [
        "with open('mobile_cleaned.csv') as file:\n",
        "  print(file.read())"
      ],
      "execution_count": 0,
      "outputs": []
    },
    {
      "cell_type": "code",
      "metadata": {
        "id": "oyd05ogrHbkI",
        "colab_type": "code",
        "colab": {}
      },
      "source": [
        "with open('mobile_cleaned.csv', 'r') as file:\n",
        "  for line in file:\n",
        "    for word in line.split(','):\n",
        "      print(word)\n",
        "    print('--------')  "
      ],
      "execution_count": 0,
      "outputs": []
    },
    {
      "cell_type": "markdown",
      "metadata": {
        "id": "l6SJ_7sKOdHE",
        "colab_type": "text"
      },
      "source": [
        ""
      ]
    },
    {
      "cell_type": "code",
      "metadata": {
        "id": "DiKJ44CpIHHA",
        "colab_type": "code",
        "colab": {}
      },
      "source": [
        "with open('my_first_file_output.txt', 'w') as file:\n",
        "  file.write('Hello worldfrom python code')"
      ],
      "execution_count": 0,
      "outputs": []
    },
    {
      "cell_type": "code",
      "metadata": {
        "id": "yF96v4npIrCV",
        "colab_type": "code",
        "colab": {}
      },
      "source": [
        "!cat my_first_file_output.txt"
      ],
      "execution_count": 0,
      "outputs": []
    },
    {
      "cell_type": "markdown",
      "metadata": {
        "id": "PK4oy8sQOgNe",
        "colab_type": "text"
      },
      "source": [
        "# Python Classes"
      ]
    },
    {
      "cell_type": "code",
      "metadata": {
        "id": "fdSaIoAWOlNV",
        "colab_type": "code",
        "colab": {}
      },
      "source": [
        "class Test:\n",
        "  \"\"\"This is a sample class to illustrate how python classes work\"\"\"\n",
        "  def __init__(self, name, is_work = False, size = 4.3 ):\n",
        "    self.name = name\n",
        "    self.is_work = is_work\n",
        "    self.size = size\n",
        "    self.rating = -1\n",
        "\n",
        "  def has_rating(self) :\n",
        "    return self.rating > -1\n",
        "    \n",
        "  "
      ],
      "execution_count": 0,
      "outputs": []
    },
    {
      "cell_type": "code",
      "metadata": {
        "id": "fppt98stOE6p",
        "colab_type": "code",
        "colab": {}
      },
      "source": [
        "new_life = Test('Coding')\n",
        "type(new_life)"
      ],
      "execution_count": 0,
      "outputs": []
    },
    {
      "cell_type": "code",
      "metadata": {
        "id": "sWyk7YfFOiok",
        "colab_type": "code",
        "colab": {}
      },
      "source": [
        "print(new_life.name, new_life.is_work, new_life.size)"
      ],
      "execution_count": 0,
      "outputs": []
    },
    {
      "cell_type": "code",
      "metadata": {
        "id": "kE34PsMVO3qR",
        "colab_type": "code",
        "colab": {}
      },
      "source": [
        "new_life.size = 0"
      ],
      "execution_count": 0,
      "outputs": []
    },
    {
      "cell_type": "code",
      "metadata": {
        "id": "PBYiGbuOPAxo",
        "colab_type": "code",
        "colab": {}
      },
      "source": [
        "new_life.has_rating()"
      ],
      "execution_count": 0,
      "outputs": []
    },
    {
      "cell_type": "code",
      "metadata": {
        "id": "fuQ57xM3PGC6",
        "colab_type": "code",
        "colab": {}
      },
      "source": [
        "new_life.rating = 101"
      ],
      "execution_count": 0,
      "outputs": []
    },
    {
      "cell_type": "code",
      "metadata": {
        "id": "c52kSmoZPLh9",
        "colab_type": "code",
        "colab": {}
      },
      "source": [
        "new_life.has_rating()"
      ],
      "execution_count": 0,
      "outputs": []
    },
    {
      "cell_type": "code",
      "metadata": {
        "id": "sQnzclhEQuRX",
        "colab_type": "code",
        "colab": {}
      },
      "source": [
        "Test.__doc__"
      ],
      "execution_count": 0,
      "outputs": []
    },
    {
      "cell_type": "code",
      "metadata": {
        "id": "nQavjj7APPaJ",
        "colab_type": "code",
        "colab": {}
      },
      "source": [
        "class Play(Test):\n",
        "  def __init__(self, name):\n",
        "    Test.__init__(self, name, False, 4)\n",
        "\n",
        "  def __str__(self):\n",
        "    return self.name + \" \" + str(self.is_work) + \" \" +str(self.size)    "
      ],
      "execution_count": 0,
      "outputs": []
    },
    {
      "cell_type": "code",
      "metadata": {
        "id": "31UHqo0JQij4",
        "colab_type": "code",
        "colab": {}
      },
      "source": [
        "new_Life = Play('Code')\n",
        "new_Life.is_work"
      ],
      "execution_count": 0,
      "outputs": []
    },
    {
      "cell_type": "code",
      "metadata": {
        "id": "oG6ufTjyQf3M",
        "colab_type": "code",
        "colab": {}
      },
      "source": [
        ""
      ],
      "execution_count": 0,
      "outputs": []
    },
    {
      "cell_type": "markdown",
      "metadata": {
        "id": "6bY-DYdaPPKf",
        "colab_type": "text"
      },
      "source": [
        "# NumPy"
      ]
    },
    {
      "cell_type": "code",
      "metadata": {
        "id": "IQQp6B39PTIH",
        "colab_type": "code",
        "outputId": "7cd124eb-39b7-4ff8-8de9-bd95fda4ea27",
        "colab": {
          "base_uri": "https://localhost:8080/",
          "height": 35
        }
      },
      "source": [
        "import numpy as np\n",
        "X = np.array([1, 2, 3])\n",
        "print (X)"
      ],
      "execution_count": 0,
      "outputs": [
        {
          "output_type": "stream",
          "text": [
            "[1 2 3]\n"
          ],
          "name": "stdout"
        }
      ]
    },
    {
      "cell_type": "code",
      "metadata": {
        "id": "sLBczYLYPlYQ",
        "colab_type": "code",
        "outputId": "fda0322d-e0bb-4a9b-d520-161f6f5def66",
        "colab": {
          "base_uri": "https://localhost:8080/",
          "height": 35
        }
      },
      "source": [
        "type(X)"
      ],
      "execution_count": 0,
      "outputs": [
        {
          "output_type": "execute_result",
          "data": {
            "text/plain": [
              "numpy.ndarray"
            ]
          },
          "metadata": {
            "tags": []
          },
          "execution_count": 44
        }
      ]
    },
    {
      "cell_type": "code",
      "metadata": {
        "id": "RubbygWAPoMz",
        "colab_type": "code",
        "outputId": "c1783ac9-e0cb-4b03-9931-bac73acb92bc",
        "colab": {
          "base_uri": "https://localhost:8080/",
          "height": 35
        }
      },
      "source": [
        "L = [400, 510, 6]\n",
        "X = np.asarray(L)\n",
        "type(X)\n"
      ],
      "execution_count": 0,
      "outputs": [
        {
          "output_type": "execute_result",
          "data": {
            "text/plain": [
              "numpy.ndarray"
            ]
          },
          "metadata": {
            "tags": []
          },
          "execution_count": 48
        }
      ]
    },
    {
      "cell_type": "code",
      "metadata": {
        "id": "E33qyoROP9pQ",
        "colab_type": "code",
        "outputId": "b0b63d18-193b-4e06-be40-c53640a13f7f",
        "colab": {
          "base_uri": "https://localhost:8080/",
          "height": 35
        }
      },
      "source": [
        "print(X)"
      ],
      "execution_count": 0,
      "outputs": [
        {
          "output_type": "stream",
          "text": [
            "[400 510   6]\n"
          ],
          "name": "stdout"
        }
      ]
    },
    {
      "cell_type": "code",
      "metadata": {
        "id": "7rSUGWu8QICv",
        "colab_type": "code",
        "colab": {}
      },
      "source": [
        "np.asarray?"
      ],
      "execution_count": 0,
      "outputs": []
    },
    {
      "cell_type": "code",
      "metadata": {
        "id": "QJm2pfqOQg7S",
        "colab_type": "code",
        "outputId": "c1d7b30f-b68b-4d2a-ac0d-d86c8b915ecf",
        "colab": {
          "base_uri": "https://localhost:8080/",
          "height": 35
        }
      },
      "source": [
        "X = np.asarray(L, dtype=float )\n",
        "print(X)"
      ],
      "execution_count": 0,
      "outputs": [
        {
          "output_type": "stream",
          "text": [
            "[400. 510.   6.]\n"
          ],
          "name": "stdout"
        }
      ]
    },
    {
      "cell_type": "code",
      "metadata": {
        "id": "N1R_5HrRR1As",
        "colab_type": "code",
        "outputId": "5d5771d8-3cdf-4759-ffc6-ab987be03d37",
        "colab": {
          "base_uri": "https://localhost:8080/",
          "height": 35
        }
      },
      "source": [
        "X.shape"
      ],
      "execution_count": 0,
      "outputs": [
        {
          "output_type": "execute_result",
          "data": {
            "text/plain": [
              "(3,)"
            ]
          },
          "metadata": {
            "tags": []
          },
          "execution_count": 50
        }
      ]
    },
    {
      "cell_type": "code",
      "metadata": {
        "id": "9oprwMfeR7Nq",
        "colab_type": "code",
        "colab": {}
      },
      "source": [
        "X.shape?\n"
      ],
      "execution_count": 0,
      "outputs": []
    },
    {
      "cell_type": "code",
      "metadata": {
        "id": "dnWTIIFRSJZl",
        "colab_type": "code",
        "colab": {}
      },
      "source": [
        "np.array?"
      ],
      "execution_count": 0,
      "outputs": []
    },
    {
      "cell_type": "code",
      "metadata": {
        "id": "9xy5swEGSN0U",
        "colab_type": "code",
        "outputId": "1e2ea9b5-4a46-4bca-a64c-3f3b0dbaace9",
        "colab": {
          "base_uri": "https://localhost:8080/",
          "height": 89
        }
      },
      "source": [
        "X = np.array([[0,1,2,3],[1,4,5,6], [2,7,8,9]])\n",
        "print(X)\n",
        "X.shape"
      ],
      "execution_count": 0,
      "outputs": [
        {
          "output_type": "stream",
          "text": [
            "[[0 1 2 3]\n",
            " [1 4 5 6]\n",
            " [2 7 8 9]]\n"
          ],
          "name": "stdout"
        },
        {
          "output_type": "execute_result",
          "data": {
            "text/plain": [
              "(3, 4)"
            ]
          },
          "metadata": {
            "tags": []
          },
          "execution_count": 52
        }
      ]
    },
    {
      "cell_type": "code",
      "metadata": {
        "id": "YnlK1pZ9S7ox",
        "colab_type": "code",
        "outputId": "40513fee-66b2-44a4-8227-72a635099689",
        "colab": {
          "base_uri": "https://localhost:8080/",
          "height": 35
        }
      },
      "source": [
        "X[1,2]+X[2,0]"
      ],
      "execution_count": 0,
      "outputs": [
        {
          "output_type": "execute_result",
          "data": {
            "text/plain": [
              "7"
            ]
          },
          "metadata": {
            "tags": []
          },
          "execution_count": 55
        }
      ]
    },
    {
      "cell_type": "code",
      "metadata": {
        "id": "nTGrPae-TJyR",
        "colab_type": "code",
        "outputId": "8faaf1c5-041a-4907-9daf-422bf3d7cc70",
        "colab": {
          "base_uri": "https://localhost:8080/",
          "height": 35
        }
      },
      "source": [
        "X[0, 0:2]"
      ],
      "execution_count": 0,
      "outputs": [
        {
          "output_type": "execute_result",
          "data": {
            "text/plain": [
              "array([0, 1])"
            ]
          },
          "metadata": {
            "tags": []
          },
          "execution_count": 56
        }
      ]
    },
    {
      "cell_type": "code",
      "metadata": {
        "id": "m_10dy1YTarx",
        "colab_type": "code",
        "outputId": "f2f20493-ff5e-4a36-cad6-821d2073fda9",
        "colab": {
          "base_uri": "https://localhost:8080/",
          "height": 35
        }
      },
      "source": [
        "X[1, 0:2]"
      ],
      "execution_count": 0,
      "outputs": [
        {
          "output_type": "execute_result",
          "data": {
            "text/plain": [
              "array([1, 4])"
            ]
          },
          "metadata": {
            "tags": []
          },
          "execution_count": 57
        }
      ]
    },
    {
      "cell_type": "code",
      "metadata": {
        "id": "Fif7nvQ9Td7Y",
        "colab_type": "code",
        "outputId": "9256148c-aa90-4f46-b7a4-db2eccbf5995",
        "colab": {
          "base_uri": "https://localhost:8080/",
          "height": 35
        }
      },
      "source": [
        "X[0,:]"
      ],
      "execution_count": 0,
      "outputs": [
        {
          "output_type": "execute_result",
          "data": {
            "text/plain": [
              "array([0, 1, 2, 3])"
            ]
          },
          "metadata": {
            "tags": []
          },
          "execution_count": 58
        }
      ]
    },
    {
      "cell_type": "code",
      "metadata": {
        "id": "O4GTkEM5Tlbz",
        "colab_type": "code",
        "outputId": "3a1c98cf-0f85-4211-c082-378a4c60aaa0",
        "colab": {
          "base_uri": "https://localhost:8080/",
          "height": 71
        }
      },
      "source": [
        "X[0:]"
      ],
      "execution_count": 0,
      "outputs": [
        {
          "output_type": "execute_result",
          "data": {
            "text/plain": [
              "array([[0, 1, 2, 3],\n",
              "       [1, 4, 5, 6],\n",
              "       [2, 7, 8, 9]])"
            ]
          },
          "metadata": {
            "tags": []
          },
          "execution_count": 59
        }
      ]
    },
    {
      "cell_type": "code",
      "metadata": {
        "id": "7jPczlwHTnsv",
        "colab_type": "code",
        "outputId": "6ad0e183-988d-4a1c-e40b-a1bc9c6df84e",
        "colab": {
          "base_uri": "https://localhost:8080/",
          "height": 71
        }
      },
      "source": [
        "X[:3]"
      ],
      "execution_count": 0,
      "outputs": [
        {
          "output_type": "execute_result",
          "data": {
            "text/plain": [
              "array([[0, 1, 2, 3],\n",
              "       [1, 4, 5, 6],\n",
              "       [2, 7, 8, 9]])"
            ]
          },
          "metadata": {
            "tags": []
          },
          "execution_count": 60
        }
      ]
    },
    {
      "cell_type": "code",
      "metadata": {
        "id": "eeuZP1R9Tz-O",
        "colab_type": "code",
        "outputId": "bda9f987-288c-421b-b174-bea0edea80c1",
        "colab": {
          "base_uri": "https://localhost:8080/",
          "height": 89
        }
      },
      "source": [
        "X = np.zeros((4,5))\n",
        "print(X)\n",
        "# np.zeros?"
      ],
      "execution_count": 0,
      "outputs": [
        {
          "output_type": "stream",
          "text": [
            "[[0. 0. 0. 0. 0.]\n",
            " [0. 0. 0. 0. 0.]\n",
            " [0. 0. 0. 0. 0.]\n",
            " [0. 0. 0. 0. 0.]]\n"
          ],
          "name": "stdout"
        }
      ]
    },
    {
      "cell_type": "code",
      "metadata": {
        "id": "v9TUXY_vUM0L",
        "colab_type": "code",
        "outputId": "14133ceb-6e30-42e2-f367-42d2c746d09b",
        "colab": {
          "base_uri": "https://localhost:8080/",
          "height": 89
        }
      },
      "source": [
        "X = np.eye(4,4)\n",
        "print(X)"
      ],
      "execution_count": 0,
      "outputs": [
        {
          "output_type": "stream",
          "text": [
            "[[1. 0. 0. 0.]\n",
            " [0. 1. 0. 0.]\n",
            " [0. 0. 1. 0.]\n",
            " [0. 0. 0. 1.]]\n"
          ],
          "name": "stdout"
        }
      ]
    },
    {
      "cell_type": "code",
      "metadata": {
        "id": "yYBG4ZvUUfZ8",
        "colab_type": "code",
        "outputId": "ea0cf017-4dfd-438a-aaba-2658e76dcea5",
        "colab": {
          "base_uri": "https://localhost:8080/",
          "height": 89
        }
      },
      "source": [
        "X = np.random.random((4,5))\n",
        "print(X)"
      ],
      "execution_count": 0,
      "outputs": [
        {
          "output_type": "stream",
          "text": [
            "[[0.10164559 0.76230083 0.12252071 0.48014589 0.1703636 ]\n",
            " [0.6068754  0.43070082 0.92302058 0.73746276 0.82238765]\n",
            " [0.28152666 0.79479663 0.53265091 0.70466053 0.42127354]\n",
            " [0.23272573 0.00240298 0.87292811 0.12435509 0.83357477]]\n"
          ],
          "name": "stdout"
        }
      ]
    },
    {
      "cell_type": "code",
      "metadata": {
        "id": "XBe_Q9AyDkMr",
        "colab_type": "code",
        "outputId": "bdbd9e3c-7dd0-45d2-b3c5-05fcafb12f98",
        "colab": {
          "base_uri": "https://localhost:8080/",
          "height": 107
        }
      },
      "source": [
        "Z = X.T\n",
        "print(Z)"
      ],
      "execution_count": 0,
      "outputs": [
        {
          "output_type": "stream",
          "text": [
            "[[0.10164559 0.6068754  0.28152666 0.23272573]\n",
            " [0.76230083 0.43070082 0.79479663 0.00240298]\n",
            " [0.12252071 0.92302058 0.53265091 0.87292811]\n",
            " [0.48014589 0.73746276 0.70466053 0.12435509]\n",
            " [0.1703636  0.82238765 0.42127354 0.83357477]]\n"
          ],
          "name": "stdout"
        }
      ]
    },
    {
      "cell_type": "code",
      "metadata": {
        "id": "N0dxUzCZD0FH",
        "colab_type": "code",
        "outputId": "c6611b97-d4b0-4a82-f9ab-e1abc8e9caed",
        "colab": {
          "base_uri": "https://localhost:8080/",
          "height": 377
        }
      },
      "source": [
        "Y = X.reshape(20, 1)\n",
        "print(Y)"
      ],
      "execution_count": 0,
      "outputs": [
        {
          "output_type": "stream",
          "text": [
            "[[0.10164559]\n",
            " [0.76230083]\n",
            " [0.12252071]\n",
            " [0.48014589]\n",
            " [0.1703636 ]\n",
            " [0.6068754 ]\n",
            " [0.43070082]\n",
            " [0.92302058]\n",
            " [0.73746276]\n",
            " [0.82238765]\n",
            " [0.28152666]\n",
            " [0.79479663]\n",
            " [0.53265091]\n",
            " [0.70466053]\n",
            " [0.42127354]\n",
            " [0.23272573]\n",
            " [0.00240298]\n",
            " [0.87292811]\n",
            " [0.12435509]\n",
            " [0.83357477]]\n"
          ],
          "name": "stdout"
        }
      ]
    },
    {
      "cell_type": "code",
      "metadata": {
        "id": "yLVc9sC6D_gY",
        "colab_type": "code",
        "outputId": "afb0538e-a1a2-47eb-e881-fa15d2557809",
        "colab": {
          "base_uri": "https://localhost:8080/",
          "height": 35
        }
      },
      "source": [
        "A = np.arange(5)\n",
        "print(A)"
      ],
      "execution_count": 0,
      "outputs": [
        {
          "output_type": "stream",
          "text": [
            "[0 1 2 3 4]\n"
          ],
          "name": "stdout"
        }
      ]
    },
    {
      "cell_type": "code",
      "metadata": {
        "id": "017suBkxEJvg",
        "colab_type": "code",
        "colab": {}
      },
      "source": [
        "B = np.arange(5)"
      ],
      "execution_count": 0,
      "outputs": []
    },
    {
      "cell_type": "code",
      "metadata": {
        "id": "SC8sjupPEYiW",
        "colab_type": "code",
        "outputId": "a4a504d8-89fd-4292-f933-fd12ddf171f1",
        "colab": {
          "base_uri": "https://localhost:8080/",
          "height": 35
        }
      },
      "source": [
        "C = A + B\n",
        "D = A - B\n",
        "E = A * B\n",
        "print (C, D, E)"
      ],
      "execution_count": 0,
      "outputs": [
        {
          "output_type": "stream",
          "text": [
            "[0 2 4 6 8] [0 0 0 0 0] [ 0  1  4  9 16]\n"
          ],
          "name": "stdout"
        }
      ]
    },
    {
      "cell_type": "code",
      "metadata": {
        "id": "fZgWQMYYEubS",
        "colab_type": "code",
        "outputId": "00607354-b764-448a-af5e-27683687637c",
        "colab": {
          "base_uri": "https://localhost:8080/",
          "height": 35
        }
      },
      "source": [
        "print(A, A + 1)"
      ],
      "execution_count": 0,
      "outputs": [
        {
          "output_type": "stream",
          "text": [
            "[0 1 2 3 4] [1 2 3 4 5]\n"
          ],
          "name": "stdout"
        }
      ]
    },
    {
      "cell_type": "code",
      "metadata": {
        "id": "aSp-KNihE3Fs",
        "colab_type": "code",
        "outputId": "c4c14b9f-6bbf-4f34-8b76-f35ed2037fa7",
        "colab": {
          "base_uri": "https://localhost:8080/",
          "height": 89
        }
      },
      "source": [
        "A = np.random.random((2, 3))\n",
        "print (A)\n",
        "print (A + 1)"
      ],
      "execution_count": 0,
      "outputs": [
        {
          "output_type": "stream",
          "text": [
            "[[0.41901376 0.30802462 0.02685475]\n",
            " [0.99706848 0.49809028 0.50008813]]\n",
            "[[1.41901376 1.30802462 1.02685475]\n",
            " [1.99706848 1.49809028 1.50008813]]\n"
          ],
          "name": "stdout"
        }
      ]
    },
    {
      "cell_type": "code",
      "metadata": {
        "id": "fKdBNYcJFSc5",
        "colab_type": "code",
        "outputId": "72a9befb-06b0-42fe-a867-7a83a64630f7",
        "colab": {
          "base_uri": "https://localhost:8080/",
          "height": 53
        }
      },
      "source": [
        "A = np.floor(np.random.random((2, 3)) * 10)\n",
        "print (A)"
      ],
      "execution_count": 0,
      "outputs": [
        {
          "output_type": "stream",
          "text": [
            "[[3. 3. 4.]\n",
            " [3. 4. 2.]]\n"
          ],
          "name": "stdout"
        }
      ]
    },
    {
      "cell_type": "code",
      "metadata": {
        "id": "XbsostnnFn21",
        "colab_type": "code",
        "outputId": "ca272664-6c35-4e6c-8b29-4f3a0908215b",
        "colab": {
          "base_uri": "https://localhost:8080/",
          "height": 35
        }
      },
      "source": [
        "u = [1, 2, 3]\n",
        "v = [-1, 0, 1]\n",
        "p1 = np.inner(u, v)\n",
        "print (p1)"
      ],
      "execution_count": 0,
      "outputs": [
        {
          "output_type": "stream",
          "text": [
            "2\n"
          ],
          "name": "stdout"
        }
      ]
    },
    {
      "cell_type": "code",
      "metadata": {
        "id": "cNa0LmdYF6FP",
        "colab_type": "code",
        "outputId": "e288211b-bf7f-40ec-cfb0-9ca75f2731dd",
        "colab": {
          "base_uri": "https://localhost:8080/",
          "height": 71
        }
      },
      "source": [
        "p2 = np.outer(u, v)\n",
        "print (p2)"
      ],
      "execution_count": 0,
      "outputs": [
        {
          "output_type": "stream",
          "text": [
            "[[-1  0  1]\n",
            " [-2  0  2]\n",
            " [-3  0  3]]\n"
          ],
          "name": "stdout"
        }
      ]
    },
    {
      "cell_type": "code",
      "metadata": {
        "id": "kEda0PTfRRdd",
        "colab_type": "code",
        "outputId": "7ed53aae-b59e-422f-901d-a2d8f10c9a2c",
        "colab": {
          "base_uri": "https://localhost:8080/",
          "height": 107
        }
      },
      "source": [
        "A = np.ones((2,3))\n",
        "B = np.ones((3,2))\n",
        "print (A)\n",
        "print (B)"
      ],
      "execution_count": 0,
      "outputs": [
        {
          "output_type": "stream",
          "text": [
            "[[1. 1. 1.]\n",
            " [1. 1. 1.]]\n",
            "[[1. 1.]\n",
            " [1. 1.]\n",
            " [1. 1.]]\n"
          ],
          "name": "stdout"
        }
      ]
    },
    {
      "cell_type": "code",
      "metadata": {
        "id": "hL26S7R5RogG",
        "colab_type": "code",
        "outputId": "7e7bee78-9612-4aba-8983-8f18c40baaf4",
        "colab": {
          "base_uri": "https://localhost:8080/",
          "height": 53
        }
      },
      "source": [
        "np.dot(A, B)"
      ],
      "execution_count": 0,
      "outputs": [
        {
          "output_type": "execute_result",
          "data": {
            "text/plain": [
              "array([[3., 3.],\n",
              "       [3., 3.]])"
            ]
          },
          "metadata": {
            "tags": []
          },
          "execution_count": 80
        }
      ]
    },
    {
      "cell_type": "code",
      "metadata": {
        "id": "XM9hXmooR9Nw",
        "colab_type": "code",
        "colab": {}
      },
      "source": [
        "np.dot?"
      ],
      "execution_count": 0,
      "outputs": []
    },
    {
      "cell_type": "code",
      "metadata": {
        "id": "HoiT-QCZSaaV",
        "colab_type": "code",
        "colab": {}
      },
      "source": [
        "np.inner?"
      ],
      "execution_count": 0,
      "outputs": []
    },
    {
      "cell_type": "code",
      "metadata": {
        "id": "oO-hCEdFSm9c",
        "colab_type": "code",
        "outputId": "354bb992-9f95-4630-fd67-f8c5a8694f13",
        "colab": {
          "base_uri": "https://localhost:8080/",
          "height": 53
        }
      },
      "source": [
        "np.dot(B.T, A.T)"
      ],
      "execution_count": 0,
      "outputs": [
        {
          "output_type": "execute_result",
          "data": {
            "text/plain": [
              "array([[3., 3.],\n",
              "       [3., 3.]])"
            ]
          },
          "metadata": {
            "tags": []
          },
          "execution_count": 83
        }
      ]
    },
    {
      "cell_type": "code",
      "metadata": {
        "id": "HBVTNt2ySxRK",
        "colab_type": "code",
        "outputId": "e0c3df6e-134f-4c70-a310-b96c29794ca7",
        "colab": {
          "base_uri": "https://localhost:8080/",
          "height": 53
        }
      },
      "source": [
        "A = np.ones((2, 3))\n",
        "print (A)"
      ],
      "execution_count": 0,
      "outputs": [
        {
          "output_type": "stream",
          "text": [
            "[[1. 1. 1.]\n",
            " [1. 1. 1.]]\n"
          ],
          "name": "stdout"
        }
      ]
    },
    {
      "cell_type": "code",
      "metadata": {
        "id": "cMoA6QBHS-dO",
        "colab_type": "code",
        "outputId": "c35fcd69-57fe-4097-ee76-43081f126c4d",
        "colab": {
          "base_uri": "https://localhost:8080/",
          "height": 35
        }
      },
      "source": [
        "A.sum()"
      ],
      "execution_count": 0,
      "outputs": [
        {
          "output_type": "execute_result",
          "data": {
            "text/plain": [
              "6.0"
            ]
          },
          "metadata": {
            "tags": []
          },
          "execution_count": 85
        }
      ]
    },
    {
      "cell_type": "code",
      "metadata": {
        "id": "jWNYWStoTE-Z",
        "colab_type": "code",
        "outputId": "7b0aaf43-a8a5-4d01-d0d7-b3d59af3e2c4",
        "colab": {
          "base_uri": "https://localhost:8080/",
          "height": 35
        }
      },
      "source": [
        "A.sum(axis = 0)"
      ],
      "execution_count": 0,
      "outputs": [
        {
          "output_type": "execute_result",
          "data": {
            "text/plain": [
              "array([2., 2., 2.])"
            ]
          },
          "metadata": {
            "tags": []
          },
          "execution_count": 86
        }
      ]
    },
    {
      "cell_type": "code",
      "metadata": {
        "id": "PCmP29mpTLG1",
        "colab_type": "code",
        "outputId": "de2e4120-3359-49bc-da96-b53b0cc6b59b",
        "colab": {
          "base_uri": "https://localhost:8080/",
          "height": 35
        }
      },
      "source": [
        "A.sum(axis = 1)"
      ],
      "execution_count": 0,
      "outputs": [
        {
          "output_type": "execute_result",
          "data": {
            "text/plain": [
              "array([3., 3.])"
            ]
          },
          "metadata": {
            "tags": []
          },
          "execution_count": 87
        }
      ]
    },
    {
      "cell_type": "code",
      "metadata": {
        "id": "9lvEzdvrSNiY",
        "colab_type": "code",
        "outputId": "41ff9556-c976-4ced-87b0-39f4870dd97e",
        "colab": {
          "base_uri": "https://localhost:8080/",
          "height": 318
        }
      },
      "source": [
        "A.sum(axis = 3)"
      ],
      "execution_count": 0,
      "outputs": [
        {
          "output_type": "error",
          "ename": "AxisError",
          "evalue": "ignored",
          "traceback": [
            "\u001b[0;31m---------------------------------------------------------------------------\u001b[0m",
            "\u001b[0;31mAxisError\u001b[0m                                 Traceback (most recent call last)",
            "\u001b[0;32m<ipython-input-88-831103c69707>\u001b[0m in \u001b[0;36m<module>\u001b[0;34m()\u001b[0m\n\u001b[0;32m----> 1\u001b[0;31m \u001b[0mA\u001b[0m\u001b[0;34m.\u001b[0m\u001b[0msum\u001b[0m\u001b[0;34m(\u001b[0m\u001b[0maxis\u001b[0m \u001b[0;34m=\u001b[0m \u001b[0;36m3\u001b[0m\u001b[0;34m)\u001b[0m\u001b[0;34m\u001b[0m\u001b[0;34m\u001b[0m\u001b[0m\n\u001b[0m",
            "\u001b[0;32m/usr/local/lib/python3.6/dist-packages/numpy/core/_methods.py\u001b[0m in \u001b[0;36m_sum\u001b[0;34m(a, axis, dtype, out, keepdims, initial, where)\u001b[0m\n\u001b[1;32m     36\u001b[0m def _sum(a, axis=None, dtype=None, out=None, keepdims=False,\n\u001b[1;32m     37\u001b[0m          initial=_NoValue, where=True):\n\u001b[0;32m---> 38\u001b[0;31m     \u001b[0;32mreturn\u001b[0m \u001b[0mumr_sum\u001b[0m\u001b[0;34m(\u001b[0m\u001b[0ma\u001b[0m\u001b[0;34m,\u001b[0m \u001b[0maxis\u001b[0m\u001b[0;34m,\u001b[0m \u001b[0mdtype\u001b[0m\u001b[0;34m,\u001b[0m \u001b[0mout\u001b[0m\u001b[0;34m,\u001b[0m \u001b[0mkeepdims\u001b[0m\u001b[0;34m,\u001b[0m \u001b[0minitial\u001b[0m\u001b[0;34m,\u001b[0m \u001b[0mwhere\u001b[0m\u001b[0;34m)\u001b[0m\u001b[0;34m\u001b[0m\u001b[0;34m\u001b[0m\u001b[0m\n\u001b[0m\u001b[1;32m     39\u001b[0m \u001b[0;34m\u001b[0m\u001b[0m\n\u001b[1;32m     40\u001b[0m def _prod(a, axis=None, dtype=None, out=None, keepdims=False,\n",
            "\u001b[0;31mAxisError\u001b[0m: axis 3 is out of bounds for array of dimension 2"
          ]
        }
      ]
    },
    {
      "cell_type": "code",
      "metadata": {
        "id": "oJh0eWDyTWX8",
        "colab_type": "code",
        "outputId": "cdcaf234-c0e0-4fc8-d83e-5d6942a00e2d",
        "colab": {
          "base_uri": "https://localhost:8080/",
          "height": 35
        }
      },
      "source": [
        "A.max()"
      ],
      "execution_count": 0,
      "outputs": [
        {
          "output_type": "execute_result",
          "data": {
            "text/plain": [
              "1.0"
            ]
          },
          "metadata": {
            "tags": []
          },
          "execution_count": 89
        }
      ]
    },
    {
      "cell_type": "markdown",
      "metadata": {
        "id": "nL5VE6KdTbpC",
        "colab_type": "text"
      },
      "source": [
        "# Plotting"
      ]
    },
    {
      "cell_type": "code",
      "metadata": {
        "id": "sxzvJ4C_Tgep",
        "colab_type": "code",
        "colab": {}
      },
      "source": [
        "import matplotlib.pyplot as plt\n",
        "import numpy as np"
      ],
      "execution_count": 0,
      "outputs": []
    },
    {
      "cell_type": "code",
      "metadata": {
        "id": "PNYwGNOfU9wX",
        "colab_type": "code",
        "outputId": "fb365b38-faa8-4bcb-ab0a-0db0c58d3267",
        "colab": {
          "base_uri": "https://localhost:8080/",
          "height": 197
        }
      },
      "source": [
        "x = np.random.random((10, 1))\n",
        "print (x)"
      ],
      "execution_count": 0,
      "outputs": [
        {
          "output_type": "stream",
          "text": [
            "[[0.26338655]\n",
            " [0.45301559]\n",
            " [0.49248256]\n",
            " [0.47255312]\n",
            " [0.55629949]\n",
            " [0.50435913]\n",
            " [0.48806229]\n",
            " [0.61925854]\n",
            " [0.90908329]\n",
            " [0.84720597]]\n"
          ],
          "name": "stdout"
        }
      ]
    },
    {
      "cell_type": "code",
      "metadata": {
        "id": "4rviPMEuVLUM",
        "colab_type": "code",
        "colab": {}
      },
      "source": [
        "np.random.random?"
      ],
      "execution_count": 0,
      "outputs": []
    },
    {
      "cell_type": "code",
      "metadata": {
        "id": "jnUrPEE4Vd5W",
        "colab_type": "code",
        "outputId": "a7734a24-3968-484e-8847-068a1d115ce2",
        "colab": {
          "base_uri": "https://localhost:8080/",
          "height": 265
        }
      },
      "source": [
        "plt.plot(x, '*-')\n",
        "plt.show()"
      ],
      "execution_count": 0,
      "outputs": [
        {
          "output_type": "display_data",
          "data": {
            "image/png": "[encoded data removed]",
            "text/plain": [
              "<Figure size 432x288 with 1 Axes>"
            ]
          },
          "metadata": {
            "tags": []
          }
        }
      ]
    },
    {
      "cell_type": "code",
      "metadata": {
        "id": "A5-gYhGNVyRD",
        "colab_type": "code",
        "outputId": "4050f671-e94e-474e-ba47-2630657fe33f",
        "colab": {
          "base_uri": "https://localhost:8080/",
          "height": 265
        }
      },
      "source": [
        "x = np.linspace(100, 0, 5000)\n",
        "y = np.power(x, 2)\n",
        "plt.plot(x, y, ',')\n",
        "plt.show()"
      ],
      "execution_count": 0,
      "outputs": [
        {
          "output_type": "display_data",
          "data": {
            "image/png": "[encoded data removed]",
            "text/plain": [
              "<Figure size 432x288 with 1 Axes>"
            ]
          },
          "metadata": {
            "tags": []
          }
        }
      ]
    },
    {
      "cell_type": "code",
      "metadata": {
        "id": "sYxD7bqOXVXW",
        "colab_type": "code",
        "outputId": "b75ac8f2-bb16-4fea-aef4-4126da427c25",
        "colab": {
          "base_uri": "https://localhost:8080/",
          "height": 268
        }
      },
      "source": [
        "import seaborn as sns\n",
        "sns.set()\n",
        "sns.lineplot(x, y)\n",
        "plt.show()"
      ],
      "execution_count": 0,
      "outputs": [
        {
          "output_type": "display_data",
          "data": {
            "image/png": "[encoded data removed]",
            "text/plain": [
              "<Figure size 432x288 with 1 Axes>"
            ]
          },
          "metadata": {
            "tags": []
          }
        }
      ]
    },
    {
      "cell_type": "code",
      "metadata": {
        "id": "pNpgpOsyXlb1",
        "colab_type": "code",
        "colab": {}
      },
      "source": [
        "set?\n"
      ],
      "execution_count": 0,
      "outputs": []
    },
    {
      "cell_type": "markdown",
      "metadata": {
        "id": "p4_DvL6CjLDr",
        "colab_type": "text"
      },
      "source": [
        "# Pandas"
      ]
    },
    {
      "cell_type": "code",
      "metadata": {
        "id": "JHmQfcrFjM9S",
        "colab_type": "code",
        "colab": {
          "base_uri": "https://localhost:8080/",
          "height": 35
        },
        "outputId": "137677b6-ab99-4c70-9970-f2e47fde6272"
      },
      "source": [
        "!wget /content/sample_data/mobile_cleaned.csv\n"
      ],
      "execution_count": 79,
      "outputs": [
        {
          "output_type": "stream",
          "text": [
            "/content/sample_data/mobile_cleaned.csv: Scheme missing.\n"
          ],
          "name": "stdout"
        }
      ]
    },
    {
      "cell_type": "code",
      "metadata": {
        "id": "v6brfWuFjR5J",
        "colab_type": "code",
        "colab": {
          "base_uri": "https://localhost:8080/",
          "height": 197
        },
        "outputId": "e2802e79-df0f-421b-e448-2fc59ab6254c"
      },
      "source": [
        "!ls"
      ],
      "execution_count": 77,
      "outputs": [
        {
          "output_type": "stream",
          "text": [
            " 1lDUKRkmRvtgMw2ihD8VZzT2ju8tjM6iN\n",
            " 1lDUKRkmRvtgMw2ihD8VZzT2ju8tjM6iN.1\n",
            "'Edit.aspx?resid=A5151AA767C7DC0D!11701'\n",
            "'Edit.aspx?resid=A5151AA767C7DC0D!11701.1'\n",
            "'Edit.aspx?resid=A5151AA767C7DC0D!11701.2'\n",
            "'Edit.aspx?resid=A5151AA767C7DC0D!11701.3'\n",
            "'Edit.aspx?resid=A5151AA767C7DC0D!11701.4'\n",
            "'index.html?id=A5151AA767C7DC0D!11696'\n",
            "'index.html?id=A5151AA767C7DC0D!11697'\n",
            " sample_data\n"
          ],
          "name": "stdout"
        }
      ]
    },
    {
      "cell_type": "code",
      "metadata": {
        "colab_type": "code",
        "outputId": "5b82908e-d7e8-4a89-9c7e-712cf7b15486",
        "id": "5waR1LOVohlU",
        "colab": {
          "base_uri": "https://localhost:8080/",
          "height": 1000
        }
      },
      "source": [
        "with open('/content/sample_data/mobile_cleaned.csv', 'r') as file:\n",
        "  print (file.read())"
      ],
      "execution_count": 0,
      "outputs": [
        {
          "output_type": "stream",
          "text": [
            "sim_type,aperture,gpu_rank,weight,stand_by_time,processor_frequency,thickness,flash_type,front_camera_resolution,auto_focus,screen_size,frames_per_second,FM,no_of_reviews_in_gsmarena_in_week,os,phone_height,screen_protection,sim_size,price,talk_time,video_resolution,display_resolution,removable_battery,display_type,primary_camera_resolution,battery_type,ram_memory,internal_memory,brand_rank,no_of_cores,micro_sd_slot,screen_pixel_density,water_proof_rate,phone_width,expandable_memory,version,usb_type,battery_capacity,processor_rank,is_liked\n",
            "0,12,55,155.0,250,1.3,10.5,5,2.0,0,4.5,15,3,0,0,132.9,26,3,3870,9,480,12,3,11,5.0,1,1,7,29,6,4,2,3,67.8,64.0,5,3,2000,125,1\n",
            "0,1,55,132.0,300,1.3,10.6,5,0.3,1,4.0,30,2,6,0,124.5,26,5,4059,9,720,15,3,11,5.0,1,1,7,11,6,4,4,6,64.0,32.0,5,3,2000,165,1\n",
            "0,9,55,142.0,329,1.5,8.5,5,2.0,3,5.0,30,2,20,0,145.5,4,3,4777,10,1080,4,3,1,5.04,2,1,7,27,6,4,9,6,72.0,32.0,6,3,2500,164,0\n",
            "0,8,55,152.0,385,1.3,8.0,5,2.0,3,5.0,15,3,0,0,147.5,26,3,5799,19,720,17,3,2,5.0,1,1,7,4,6,4,1,3,75.1,32.0,6,3,3000,165,1\n",
            "1,1,55,234.0,385,1.3,7.9,5,1.92,3,5.0,15,3,0,0,179.0,18,3,5990,11,720,17,3,1,5.0,1,1,7,4,6,4,1,6,91.0,32.0,6,3,3000,165,0\n",
            "0,14,55,179.0,280,1.3,7.9,5,5.0,3,5.5,30,3,6,0,150.0,5,3,5999,22,720,0,0,2,8.0,1,1,7,4,6,4,7,3,71.0,32.0,6,3,2900,165,0\n",
            "1,1,56,124.0,230,1.3,8.8,5,2.0,3,4.0,30,3,0,0,123.0,26,3,5999,11,1080,16,3,2,5.0,1,512,5,30,0,4,4,3,62.5,128.0,2,3,1700,163,1\n",
            "0,8,41,154.0,182,1.0,8.1,5,2.0,3,5.0,30,5,0,0,132.0,26,3,6599,7,720,4,3,2,8.0,0,2,2,4,6,4,9,3,78.0,32.0,6,3,2000,92,1\n",
            "1,8,41,214.0,182,1.0,8.2,5,2.0,3,5.0,30,3,39,0,172.0,18,3,6599,6,720,14,3,2,8.0,1,2,2,4,6,4,9,6,80.0,32.0,6,7,2000,92,1\n",
            "0,1,55,155.0,435,1.3,11.6,5,2.0,3,5.0,15,2,5,0,142.1,5,3,6649,9,720,4,1,2,8.0,1,2,7,4,6,4,9,6,72.4,32.0,5,3,3000,125,1\n",
            "0,1,55,169.0,514,1.3,7.9,2,2.0,3,5.0,30,3,5,0,152.0,26,3,6749,14,720,4,1,2,8.0,2,2,7,4,6,4,9,3,75.0,32.0,5,4,4000,126,1\n",
            "0,10,55,137.0,300,1.3,7.9,5,5.0,3,5.0,30,2,42,1,141.6,18,3,6990,15,720,3,3,7,8.0,1,1,7,2,6,3,9,6,70.0,128.0,0,3,2600,166,0\n",
            "0,1,50,135.0,280,1.4,8.0,7,5.0,3,5.3,30,3,10,0,148.0,26,3,6999,8,1080,4,3,2,13.0,1,1,7,20,4,4,8,2,74.0,32.0,4,3,2500,79,1\n",
            "0,11,43,133.0,198,1.2,9.0,5,2.0,3,4.7,30,2,139,0,134.0,5,3,6999,7,1080,14,3,2,8.0,2,2,2,6,6,4,11,6,67.0,32.0,4,8,2200,94,1\n",
            "0,8,41,142.0,200,1.3,8.9,5,5.0,3,5.0,30,3,94,0,140.8,21,3,6999,10,1080,4,1,2,13.0,1,3,2,18,6,6,9,6,70.4,32.0,6,3,2500,92,1\n",
            "1,10,41,131.0,680,1.3,8.7,5,5.0,3,5.0,30,1,10,0,140.1,1,11,6999,23,1080,14,1,1,13.0,1,2,2,30,6,2,9,3,68.9,256.0,6,3,2500,92,1\n",
            "1,10,47,152.0,576,1.2,8.6,5,5.0,3,5.0,30,3,28,3,144.0,26,3,7340,26,480,4,3,2,8.0,1,1,7,7,6,4,9,3,73.7,128.0,13,3,2200,132,1\n",
            "0,10,43,128.0,264,1.2,8.2,5,2.0,3,5.0,30,2,126,0,141.0,26,3,7499,13,720,4,3,1,8.0,2,2,2,11,6,4,9,6,70.0,32.0,4,3,2300,94,1\n",
            "0,10,41,130.0,180,1.3,8.4,5,2.0,3,4.5,30,3,0,0,69.0,18,3,7590,11,1080,4,3,7,5.0,1,1,7,2,6,6,5,6,136.5,128.0,6,7,2000,100,1\n",
            "0,10,43,143.0,160,1.2,8.2,5,5.0,3,5.0,30,3,142,0,142.4,6,3,7790,7,1080,4,3,2,8.0,1,2,2,17,6,6,9,3,73.0,32.0,5,3,2230,94,1\n",
            "0,1,55,152.0,450,1.2,9.4,2,5.0,3,5.0,30,2,0,0,143.0,5,3,7899,14,1080,4,1,2,8.0,1,2,7,4,6,4,9,6,71.8,32.0,6,3,4000,94,1\n",
            "0,10,34,140.0,264,1.5,8.0,5,5.0,3,5.5,30,5,184,0,152.6,26,3,7914,39,1080,4,3,2,8.0,2,2,7,11,4,4,7,3,76.2,32.0,5,3,2900,16,1\n",
            "2,1,38,125.0,354,1.3,7.6,5,5.0,3,5.0,30,5,10,0,144.6,14,11,7999,12,1080,9,1,2,13.0,2,3,4,27,4,2,23,6,72.0,128.0,6,5,2400,19,0\n",
            "3,1,43,97.0,345,1.2,5.1,5,5.0,3,4.8,30,3,0,0,141.9,5,9,8490,8,1080,14,1,0,8.0,2,2,2,4,6,2,10,2,68.1,0.0,5,3,2000,94,1\n",
            "0,10,29,150.0,322,1.5,8.2,5,5.0,3,5.0,30,3,113,0,142.0,2,12,8499,15,1080,9,3,2,13.0,2,2,2,11,4,6,23,6,71.0,32.0,6,4,2750,21,1\n",
            "0,8,43,202.0,914,1.2,10.6,2,5.0,3,5.5,30,4,34,0,156.0,18,3,8999,38,1080,4,1,2,13.0,2,2,2,16,6,6,7,6,77.5,64.0,5,4,5000,94,1\n",
            "0,8,43,170.0,456,1.2,10.8,2,5.0,3,5.5,30,2,189,0,152.5,7,3,8999,21,1080,9,3,2,13.0,2,2,2,16,6,4,7,6,77.2,128.0,5,3,3000,94,1\n",
            "0,8,38,155.0,350,1.3,9.3,5,5.0,3,5.5,30,3,122,0,151.0,18,3,8999,38,1080,4,1,2,13.0,1,2,2,18,4,6,7,6,77.0,64.0,6,4,3000,19,1\n",
            "0,1,44,160.0,617,1.7,9.6,5,5.0,3,5.0,30,3,0,0,150.1,26,12,9399,12,1080,4,3,9,8.0,2,1,7,5,4,4,9,3,72.7,32.0,5,3,2100,79,1\n",
            "0,10,43,185.0,775,1.2,9.4,5,5.0,3,5.5,30,2,87,0,154.0,26,3,9499,38,1080,4,3,2,13.0,2,2,2,6,6,4,7,6,78.7,32.0,4,3,3100,94,1\n",
            "0,8,55,141.0,218,1.2,7.6,5,8.0,3,5.0,30,2,9,0,142.7,26,10,9700,16,1080,18,1,11,8.0,3,1,2,10,6,4,3,6,71.7,128.0,1,3,2420,94,1\n",
            "0,8,34,150.0,270,1.7,8.0,2,5.0,3,5.5,30,2,0,0,152.6,19,3,9715,30,1080,1,3,1,13.0,1,2,2,11,4,4,16,6,76.2,32.0,5,3,2900,16,1\n",
            "0,8,43,155.0,250,1.4,11.6,2,5.0,3,5.0,30,2,760,0,142.1,5,3,9999,22,1080,4,1,2,13.0,1,2,2,3,6,4,9,7,72.4,32.0,6,3,2470,94,1\n",
            "0,10,28,164.0,264,1.4,8.7,2,5.0,3,5.5,30,2,420,0,150.0,26,3,9999,20,1080,9,1,2,16.0,2,2,4,6,2,1,16,6,76.0,0.0,6,3,4050,12,1\n",
            "0,10,28,164.0,265,1.4,8.7,2,5.0,3,5.5,30,2,420,0,150.0,18,3,9999,20,1080,9,1,2,16.0,2,2,4,6,2,3,16,6,76.0,0.0,6,3,4050,12,1\n",
            "0,8,34,150.0,750,1.7,8.0,2,5.0,3,5.5,30,3,608,0,152.6,26,3,9999,36,1080,9,3,2,13.0,1,2,2,11,4,6,16,6,76.2,32.0,5,4,3000,90,1\n",
            "0,10,34,138.0,521,1.7,8.2,5,5.0,3,5.0,30,3,20,0,146.9,26,9,9999,23,1080,4,3,2,13.0,2,1,7,5,4,4,9,6,70.9,32.0,4,3,2000,16,1\n",
            "1,10,38,149.0,360,1.3,8.7,2,5.0,3,5.5,30,1,0,0,150.9,1,11,9999,20,1080,9,1,2,13.0,6,2,4,30,4,4,18,3,75.2,128.0,5,3,3100,19,1\n",
            "2,0,27,128.0,490,1.7,8.8,5,5.0,3,5.0,30,3,0,0,140.8,18,11,9999,12,720,5,2,2,13.0,6,3,2,4,9,4,9,3,70.4,32.0,6,3,2100,19,0\n",
            "0,4,41,172.0,350,1.2,8.2,5,5.0,3,5.5,30,5,0,0,151.8,18,3,10190,21,1080,4,3,12,13.0,1,2,7,2,6,6,7,6,77.5,128.0,6,3,3000,94,1\n",
            "0,1,38,143.0,275,1.3,8.5,5,5.0,3,5.2,30,3,21,0,148.0,18,3,10899,10,1080,9,1,2,13.0,2,3,2,4,4,5,20,6,73.6,0.0,6,3,2900,90,1\n",
            "0,8,28,169.0,496,2.2,7.5,5,5.0,3,5.5,30,1,26,0,151.1,17,2,10999,20,2160,9,1,2,13.0,2,3,4,19,4,1,9,6,74.2,0.0,8,1,3000,14,1\n",
            "0,8,34,149.0,696,1.7,8.9,5,5.0,3,5.0,30,3,43,0,142.0,26,3,11090,46,1080,4,1,2,13.0,2,2,2,11,4,4,9,3,71.8,32.0,4,4,4000,16,1\n",
            "0,8,41,153.2,261,1.3,8.3,2,8.0,3,5.5,30,3,0,0,151.9,5,3,11299,28,1080,0,3,2,13.0,2,3,2,14,6,4,7,3,76.7,32.0,6,3,3000,92,1\n",
            "0,8,29,130.0,384,1.7,7.8,2,5.0,3,5.0,30,3,385,0,138.1,13,0,11999,35,1080,1,1,2,13.0,1,2,2,6,4,2,23,6,69.6,0.0,5,3,3120,22,1\n",
            "0,10,38,160.0,265,1.3,9.2,2,5.0,3,5.5,30,2,1016,0,153.6,18,3,11999,22,1080,9,1,2,13.0,2,3,2,11,2,3,17,6,76.5,128.0,6,3,3300,12,1\n",
            "0,10,29,155.0,342,1.5,11.6,2,5.0,3,5.0,30,3,0,0,142.1,5,0,12499,28,1080,4,1,12,13.0,1,2,2,3,4,4,34,5,72.4,32.0,6,2,2470,22,1\n",
            "0,13,34,138.0,761,1.7,8.2,5,5.0,3,5.0,30,4,2,0,146.9,18,11,13349,30,1080,3,1,2,13.0,1,2,2,5,4,3,9,6,70.9,32.0,4,3,2000,16,1\n",
            "0,3,41,148.0,566,1.0,9.3,5,5.0,3,5.0,30,2,0,0,141.0,5,3,13349,16,720,4,1,2,8.0,2,2,2,11,6,3,9,6,71.8,32.0,6,3,4000,92,1\n",
            "0,8,29,155.0,620,1.5,9.8,2,5.0,3,5.5,30,3,671,0,153.0,5,3,13499,24,1080,9,4,1,16.0,2,3,3,3,9,4,16,3,76.6,128.0,9,3,3000,72,1\n",
            "0,7,29,171.0,354,1.6,7.5,5,5.0,3,5.5,30,2,73,0,152.4,26,3,13990,23,1080,4,3,7,13.0,1,2,0,2,4,3,16,6,78.6,128.0,6,3,3000,72,1\n",
            "0,8,28,150.0,337,2.0,8.7,5,5.0,3,5.5,30,2,25,0,156.8,5,4,13999,9,1080,9,1,2,13.0,1,4,2,4,4,3,16,6,78.1,64.0,6,3,3000,14,1\n",
            "0,10,30,170.0,354,1.6,7.8,2,5.0,3,5.5,30,2,301,0,151.7,18,3,14249,23,1080,9,3,7,13.0,1,3,2,2,4,3,16,6,76.0,128.0,9,3,3300,72,1\n",
            "0,9,43,141.0,345,1.2,7.3,6,5.0,4,5.5,30,5,0,0,151.3,7,11,14300,18,1080,4,4,7,13.0,1,2,2,2,11,4,7,3,77.2,64.0,4,3,2950,94,0\n",
            "0,1,44,154.5,560,1.7,7.7,5,8.0,3,5.5,30,2,12,0,157.7,26,9,14614,12,1080,4,1,2,13.0,2,1,2,5,4,4,7,6,78.7,32.0,4,3,2600,79,1\n",
            "1,1,44,171.8,1093,1.4,7.7,5,1.1,3,6.0,30,3,24,0,165.2,26,3,14880,30,1080,4,1,11,13.0,1,1,7,8,6,4,6,6,83.8,32.0,3,3,3000,129,1\n",
            "1,10,29,229.0,480,1.5,7.6,4,5.0,3,6.8,30,3,0,0,186.6,18,3,14990,24,1080,1,1,1,13.0,2,2,4,11,4,4,12,6,96.6,64.0,5,3,3500,22,1\n",
            "0,10,16,160.0,200,2.3,6.9,5,8.0,3,5.0,30,3,175,0,140.0,5,9,14999,24,1080,9,1,0,13.0,2,3,2,12,6,1,23,6,69.0,0.0,6,4,2525,15,1\n",
            "3,6,16,149.0,280,2.5,8.9,5,8.0,3,5.0,30,2,33,0,139.2,26,3,14999,18,2160,1,1,2,13.0,1,3,2,6,6,2,23,6,68.5,0.0,4,3,3080,15,1\n",
            "3,3,16,144.0,250,2.5,10.0,2,13.0,3,5.2,30,4,188,0,140.8,5,11,14999,24,2160,9,1,5,13.0,1,2,2,3,6,1,20,4,72.4,0.0,4,3,2300,15,1\n",
            "2,10,16,175.0,840,2.5,8.9,3,8.0,3,5.5,30,1,6,0,155.7,15,11,15689,48,1080,9,1,4,13.0,2,3,6,11,6,0,16,3,77.3,0.0,6,14,4100,15,0\n",
            "0,8,29,134.0,380,1.7,7.3,5,8.0,3,5.0,30,1,0,0,143.5,8,2,15950,20,1080,9,1,2,13.0,1,3,2,10,4,3,9,6,71.0,128.0,6,3,2500,21,1\n",
            "0,7,30,170.0,354,1.6,7.8,5,5.0,3,5.5,30,3,301,0,151.7,26,3,15990,23,1080,0,3,7,13.0,1,3,2,2,4,4,7,6,76.0,32.0,9,3,3300,72,1\n",
            "0,13,29,189.0,600,1.5,9.9,2,5.0,3,5.5,30,2,137,0,152.9,5,11,15999,44,1080,9,1,2,13.0,2,2,4,11,4,3,16,6,75.6,128.0,6,3,5000,22,1\n",
            "3,10,15,130.0,370,1.6,7.9,5,2.0,3,5.0,30,1,347,0,136.6,5,3,16999,17,1080,9,3,7,13.0,1,2,2,2,4,4,23,3,69.8,64.0,2,10,2600,20,1\n",
            "0,10,29,145.0,456,1.7,7.3,2,8.0,3,5.0,30,2,22,0,142.0,5,3,17810,21,1080,1,1,2,16.0,2,3,4,11,4,4,23,6,70.0,128.0,5,3,3000,22,1\n",
            "0,8,29,169.0,330,1.7,10.9,2,5.0,3,5.5,30,2,48,0,148.0,5,11,18499,18,1080,9,1,2,21.0,1,2,4,3,6,4,16,7,75.0,128.0,6,3,3630,22,1\n",
            "1,8,29,135.0,488,1.5,7.3,5,5.0,3,5.0,30,3,0,0,145.5,21,9,18798,13,1080,6,1,2,13.0,1,2,2,8,6,4,9,0,72.6,128.0,5,3,2400,22,1\n",
            "0,10,34,147.0,682,1.7,7.9,5,5.0,3,5.5,30,3,0,0,150.3,20,9,19000,11,1080,1,1,3,13.0,1,2,2,8,4,4,0,3,77.4,128.0,5,7,2600,16,1\n",
            "0,8,38,150.0,420,1.5,8.0,5,4.0,3,5.5,30,3,18,0,157.7,26,9,19490,12,1080,9,1,2,13.0,2,2,2,5,4,4,16,3,78.9,2048.0,6,3,2800,19,1\n",
            "0,10,34,165.0,170,1.5,7.6,5,4.0,3,5.5,30,1,13,0,157.7,26,9,19890,7,1080,4,3,2,13.0,6,2,2,5,4,4,7,3,79.7,128.0,5,3,2600,16,1\n",
            "3,8,16,162.0,360,2.5,8.9,2,5.0,3,5.5,30,4,22,0,152.9,5,3,19999,38,2160,9,1,2,13.0,2,3,6,12,6,1,16,6,75.9,0.0,4,4,3100,15,1\n",
            "3,10,17,112.0,250,1.3,7.6,2,1.2,3,4.0,30,1,1304,2,123.8,12,11,20397,10,1080,2,1,2,8.0,2,1,2,1,0,1,13,6,58.6,0.0,11,13,1560,13,1\n",
            "0,8,29,183.0,687,1.7,8.0,5,4.0,3,5.5,30,2,131,0,158.0,26,11,21300,19,1080,9,1,9,13.0,2,2,2,5,4,4,16,6,77.5,128.0,5,3,2600,22,1\n",
            "3,10,16,145.0,390,1.9,8.1,5,2.0,3,5.1,30,1,22,0,142.0,5,9,21999,21,2160,1,3,7,16.0,1,2,2,2,6,4,22,7,72.5,128.0,4,9,2800,15,0\n",
            "0,8,34,187.0,635,1.7,8.2,5,13.0,3,6.0,30,3,26,0,164.2,20,9,21999,13,1080,1,1,2,13.0,1,2,2,8,4,4,14,3,79.6,200.0,5,3,2930,16,1\n",
            "0,8,9,175.0,360,1.8,9.9,2,5.0,3,5.5,30,4,100,0,151.8,5,9,22999,38,2160,9,1,2,13.0,2,4,6,12,6,1,16,6,74.9,0.0,6,12,3300,5,1\n",
            "1,8,24,157.0,620,2.2,8.5,1,8.0,3,5.2,30,3,29,0,143.2,26,9,22999,23,1080,9,4,2,20.0,2,3,2,15,4,4,20,6,71.9,128.0,5,3,3100,11,0\n",
            "0,8,14,175.0,618,1.8,9.3,2,8.0,4,5.5,30,2,0,0,154.0,5,11,24499,31,2160,9,4,1,21.0,4,3,6,11,8,6,16,6,76.5,0.0,6,3,3600,8,0\n",
            "3,7,41,155.0,180,1.6,7.1,5,5.0,3,5.2,30,3,75,0,144.8,7,9,24900,16,1080,1,0,7,13.0,2,2,2,2,4,4,20,3,71.0,128.0,6,3,2900,72,1\n",
            "1,8,3,129.0,598,1.8,7.3,2,4.0,3,5.15,30,1,0,0,144.6,7,9,24999,27,2160,1,1,2,16.0,2,4,4,6,6,2,21,6,69.2,0.0,9,0,3000,2,0\n",
            "4,8,14,179.0,410,1.8,11.1,0,5.0,3,5.7,30,1,4,0,153.9,5,9,24999,19,2160,10,4,12,21.0,1,3,6,3,8,4,26,6,76.2,128.0,6,3,3000,3,1\n",
            "3,8,9,144.0,590,2.0,6.9,5,2.2,3,5.2,30,2,126,0,146.0,25,3,25500,17,2160,1,1,1,20.7,1,3,4,8,6,4,20,7,72.0,128.0,5,3,2930,5,1\n",
            "1,10,28,142.6,504,2.0,7.6,5,13.0,3,5.0,30,3,69,0,145.0,21,9,25500,12,216,1,1,2,21.2,1,3,2,8,4,4,23,1,72.0,200.0,5,3,2600,14,0\n",
            "0,10,25,145.0,250,2.0,6.6,5,16.0,3,5.5,30,4,19,0,151.8,7,11,27580,24,1080,9,1,0,13.0,2,4,6,10,4,3,16,6,74.3,128.0,6,3,2850,90,1\n",
            "3,10,11,176.0,200,2.7,8.5,5,3.7,3,5.7,30,1,226,0,153.5,0,3,29900,20,216,10,3,7,16.0,1,3,4,2,6,4,24,6,78.6,128.0,4,3,3220,9,1\n",
            "0,10,21,168.0,420,2.3,8.3,5,2.0,3,5.7,30,0,502,0,151.2,5,3,29990,21,2160,9,3,7,13.0,1,3,4,2,6,4,15,3,79.2,64.0,3,9,3200,52,1\n",
            "4,6,14,155.0,410,1.8,6.3,2,8.0,3,5.5,30,3,0,0,148.9,10,9,30947,19,2160,10,5,1,16.0,1,3,4,9,8,4,28,6,76.1,2048.0,6,3,3000,8,1\n",
            "3,8,9,178.0,440,2.0,7.3,2,8.0,3,5.7,30,1,87,0,159.3,11,9,31999,23,2160,8,1,0,12.3,2,3,4,15,4,2,25,6,77.8,0.0,9,3,3450,5,1\n",
            "3,7,8,138.0,354,2.1,6.8,2,5.0,3,5.1,30,1,349,0,143.4,7,9,33900,17,2160,10,1,7,16.0,1,3,4,2,6,2,31,3,70.5,0.0,5,3,2550,4,1\n",
            "3,8,9,169.0,500,2.0,9.2,2,5.0,3,5.4,30,4,22,0,149.8,23,11,34999,25,2160,10,1,0,21.0,1,3,4,3,6,1,29,6,78.0,0.0,7,3,3760,5,0\n",
            "3,10,6,113.0,240,1.84,7.6,2,1.2,3,4.0,30,1,0,2,123.8,3,6,34999,14,2160,13,1,1,12.0,2,1,2,1,1,2,13,6,58.6,0.0,14,13,1624,1,0\n",
            "4,8,14,136.0,360,1.8,7.9,1,5.0,3,5.2,30,1,24,0,147.0,5,9,35900,14,2160,9,4,2,12.3,4,2,2,9,8,2,19,6,72.6,0.0,9,11,2700,8,1\n",
            "3,10,12,129.0,250,1.4,6.9,2,1.3,3,4.7,60,1,410,2,138.1,16,9,36499,14,1080,7,1,2,8.0,2,1,2,1,0,2,13,3,67.0,0.0,12,6,1810,7,1\n",
            "3,10,12,129.0,250,1.4,6.9,2,1.2,3,4.7,60,4,39,2,138.1,16,11,36999,14,1080,9,1,2,8.0,2,1,2,1,0,1,13,6,67.0,0.0,12,13,1810,7,1\n",
            "3,10,28,168.0,580,2.2,9.6,2,4.0,3,5.2,30,3,11,0,151.0,7,7,37766,20,2160,10,4,10,20.0,4,3,4,5,10,4,30,6,72.0,256.0,5,3,2840,56,0\n",
            "3,12,16,149.0,410,2.5,8.9,3,2.1,3,5.5,30,3,0,0,146.3,5,1,38000,19,2160,10,3,1,13.0,5,3,4,9,7,4,28,6,74.6,32.0,4,3,3000,15,1\n",
            "0,8,9,154.0,340,2.0,7.3,6,5.0,2,5.2,30,3,9,0,146.0,24,7,39890,13,2160,9,4,1,23.0,4,3,4,8,5,6,20,1,72.0,256.0,6,3,2900,5,1\n",
            "3,2,8,132.0,362,1.5,7.0,5,5.0,4,5.1,30,1,0,0,142.1,9,7,40900,14,2160,10,1,7,16.0,1,3,4,2,7,4,32,6,70.1,64.0,5,3,2600,4,1\n",
            "3,10,12,129.0,250,1.4,6.9,2,1.2,3,4.7,60,4,39,2,138.1,16,11,48329,14,1080,7,1,2,8.0,2,1,6,1,0,1,13,6,67.0,0.0,12,13,1810,7,1\n",
            "0,5,3,152.0,242,2.3,7.9,5,5.0,3,5.1,30,4,150,0,142.4,7,9,48900,22,2160,10,1,8,12.0,1,4,4,2,6,6,32,1,69.6,200.0,9,3,3000,101,1\n",
            "3,10,6,143.0,240,1.8,7.1,2,5.0,3,4.7,30,4,100,2,138.3,16,11,49499,14,2160,7,1,2,12.0,2,2,2,1,0,1,13,6,67.1,0.0,14,13,1715,1,1\n",
            "0,7,43,171.0,330,2.1,7.6,5,5.0,3,5.7,30,1,107,0,153.2,7,9,50895,22,2160,8,1,7,16.0,2,4,4,2,4,2,25,6,76.1,0.0,6,3,3450,4,1\n",
            "3,8,9,180.0,600,2.0,7.8,6,5.0,2,5.5,30,3,0,0,154.4,22,7,52699,19,2160,11,4,2,23.0,4,3,4,8,12,6,33,1,75.8,256.0,6,3,3430,5,1\n",
            "3,10,14,192.0,540,1.8,9.4,2,2.0,2,5.4,30,1,0,0,147.0,26,7,54900,15,2160,10,4,0,18.0,4,3,4,25,3,4,29,6,77.2,256.0,6,3,3410,8,1\n",
            "0,5,3,157.0,400,2.3,7.7,5,5.0,3,5.5,30,4,144,0,150.9,7,9,56900,27,2160,10,1,8,12.0,1,4,4,2,6,6,27,1,72.6,200.0,9,3,3600,101,1\n",
            "3,10,6,192.0,384,1.8,7.3,2,5.0,3,5.5,30,4,81,2,158.2,16,11,59000,24,2160,7,1,2,12.0,2,2,2,1,0,1,16,6,77.9,0.0,14,13,2750,1,1\n",
            "3,10,12,129.0,250,1.4,6.9,2,1.2,3,4.7,60,4,39,2,138.1,16,11,64500,14,1080,7,1,2,8.0,2,1,1,1,0,1,13,6,67.0,0.0,12,13,1810,7,1\n",
            "2,8,3,158.0,400,2.2,7.4,6,8.0,3,5.5,30,1,0,0,152.7,7,8,27999,40,2160,9,1,6,16.0,4,6,6,12,6,5,16,6,74.7,0.0,10,12,3000,2,0\n",
            "\n"
          ],
          "name": "stdout"
        }
      ]
    },
    {
      "cell_type": "code",
      "metadata": {
        "id": "RyX8jFBloiNr",
        "colab_type": "code",
        "colab": {
          "base_uri": "https://localhost:8080/",
          "height": 197
        },
        "outputId": "df1f30c3-8dbf-4130-b9cc-4a2ebed9a643"
      },
      "source": [
        "!ls"
      ],
      "execution_count": 82,
      "outputs": [
        {
          "output_type": "stream",
          "text": [
            " 1lDUKRkmRvtgMw2ihD8VZzT2ju8tjM6iN\n",
            " 1lDUKRkmRvtgMw2ihD8VZzT2ju8tjM6iN.1\n",
            "'Edit.aspx?resid=A5151AA767C7DC0D!11701'\n",
            "'Edit.aspx?resid=A5151AA767C7DC0D!11701.1'\n",
            "'Edit.aspx?resid=A5151AA767C7DC0D!11701.2'\n",
            "'Edit.aspx?resid=A5151AA767C7DC0D!11701.3'\n",
            "'Edit.aspx?resid=A5151AA767C7DC0D!11701.4'\n",
            "'index.html?id=A5151AA767C7DC0D!11696'\n",
            "'index.html?id=A5151AA767C7DC0D!11697'\n",
            " sample_data\n"
          ],
          "name": "stdout"
        }
      ]
    },
    {
      "cell_type": "code",
      "metadata": {
        "id": "EqFfQ_9popj4",
        "colab_type": "code",
        "colab": {
          "base_uri": "https://localhost:8080/",
          "height": 224
        },
        "outputId": "82e9f272-69f3-4a02-c116-cd47321e699a"
      },
      "source": [
        "import pandas as pd\n",
        "data = pd.read_csv('/content/sample_data/mobile_cleaned.csv')\n",
        "data.head()"
      ],
      "execution_count": 84,
      "outputs": [
        {
          "output_type": "execute_result",
          "data": {
            "text/html": [
              "<div>\n",
              "<style scoped>\n",
              "    .dataframe tbody tr th:only-of-type {\n",
              "        vertical-align: middle;\n",
              "    }\n",
              "\n",
              "    .dataframe tbody tr th {\n",
              "        vertical-align: top;\n",
              "    }\n",
              "\n",
              "    .dataframe thead th {\n",
              "        text-align: right;\n",
              "    }\n",
              "</style>\n",
              "<table border=\"1\" class=\"dataframe\">\n",
              "  <thead>\n",
              "    <tr style=\"text-align: right;\">\n",
              "      <th></th>\n",
              "      <th>sim_type</th>\n",
              "      <th>aperture</th>\n",
              "      <th>gpu_rank</th>\n",
              "      <th>weight</th>\n",
              "      <th>stand_by_time</th>\n",
              "      <th>processor_frequency</th>\n",
              "      <th>thickness</th>\n",
              "      <th>flash_type</th>\n",
              "      <th>front_camera_resolution</th>\n",
              "      <th>auto_focus</th>\n",
              "      <th>screen_size</th>\n",
              "      <th>frames_per_second</th>\n",
              "      <th>FM</th>\n",
              "      <th>no_of_reviews_in_gsmarena_in_week</th>\n",
              "      <th>os</th>\n",
              "      <th>phone_height</th>\n",
              "      <th>screen_protection</th>\n",
              "      <th>sim_size</th>\n",
              "      <th>price</th>\n",
              "      <th>talk_time</th>\n",
              "      <th>video_resolution</th>\n",
              "      <th>display_resolution</th>\n",
              "      <th>removable_battery</th>\n",
              "      <th>display_type</th>\n",
              "      <th>primary_camera_resolution</th>\n",
              "      <th>battery_type</th>\n",
              "      <th>ram_memory</th>\n",
              "      <th>internal_memory</th>\n",
              "      <th>brand_rank</th>\n",
              "      <th>no_of_cores</th>\n",
              "      <th>micro_sd_slot</th>\n",
              "      <th>screen_pixel_density</th>\n",
              "      <th>water_proof_rate</th>\n",
              "      <th>phone_width</th>\n",
              "      <th>expandable_memory</th>\n",
              "      <th>version</th>\n",
              "      <th>usb_type</th>\n",
              "      <th>battery_capacity</th>\n",
              "      <th>processor_rank</th>\n",
              "      <th>is_liked</th>\n",
              "    </tr>\n",
              "  </thead>\n",
              "  <tbody>\n",
              "    <tr>\n",
              "      <th>0</th>\n",
              "      <td>0</td>\n",
              "      <td>12</td>\n",
              "      <td>55</td>\n",
              "      <td>155.0</td>\n",
              "      <td>250</td>\n",
              "      <td>1.3</td>\n",
              "      <td>10.5</td>\n",
              "      <td>5</td>\n",
              "      <td>2.00</td>\n",
              "      <td>0</td>\n",
              "      <td>4.5</td>\n",
              "      <td>15</td>\n",
              "      <td>3</td>\n",
              "      <td>0</td>\n",
              "      <td>0</td>\n",
              "      <td>132.9</td>\n",
              "      <td>26</td>\n",
              "      <td>3</td>\n",
              "      <td>3870</td>\n",
              "      <td>9</td>\n",
              "      <td>480</td>\n",
              "      <td>12</td>\n",
              "      <td>3</td>\n",
              "      <td>11</td>\n",
              "      <td>5.00</td>\n",
              "      <td>1</td>\n",
              "      <td>1</td>\n",
              "      <td>7</td>\n",
              "      <td>29</td>\n",
              "      <td>6</td>\n",
              "      <td>4</td>\n",
              "      <td>2</td>\n",
              "      <td>3</td>\n",
              "      <td>67.8</td>\n",
              "      <td>64.0</td>\n",
              "      <td>5</td>\n",
              "      <td>3</td>\n",
              "      <td>2000</td>\n",
              "      <td>125</td>\n",
              "      <td>1</td>\n",
              "    </tr>\n",
              "    <tr>\n",
              "      <th>1</th>\n",
              "      <td>0</td>\n",
              "      <td>1</td>\n",
              "      <td>55</td>\n",
              "      <td>132.0</td>\n",
              "      <td>300</td>\n",
              "      <td>1.3</td>\n",
              "      <td>10.6</td>\n",
              "      <td>5</td>\n",
              "      <td>0.30</td>\n",
              "      <td>1</td>\n",
              "      <td>4.0</td>\n",
              "      <td>30</td>\n",
              "      <td>2</td>\n",
              "      <td>6</td>\n",
              "      <td>0</td>\n",
              "      <td>124.5</td>\n",
              "      <td>26</td>\n",
              "      <td>5</td>\n",
              "      <td>4059</td>\n",
              "      <td>9</td>\n",
              "      <td>720</td>\n",
              "      <td>15</td>\n",
              "      <td>3</td>\n",
              "      <td>11</td>\n",
              "      <td>5.00</td>\n",
              "      <td>1</td>\n",
              "      <td>1</td>\n",
              "      <td>7</td>\n",
              "      <td>11</td>\n",
              "      <td>6</td>\n",
              "      <td>4</td>\n",
              "      <td>4</td>\n",
              "      <td>6</td>\n",
              "      <td>64.0</td>\n",
              "      <td>32.0</td>\n",
              "      <td>5</td>\n",
              "      <td>3</td>\n",
              "      <td>2000</td>\n",
              "      <td>165</td>\n",
              "      <td>1</td>\n",
              "    </tr>\n",
              "    <tr>\n",
              "      <th>2</th>\n",
              "      <td>0</td>\n",
              "      <td>9</td>\n",
              "      <td>55</td>\n",
              "      <td>142.0</td>\n",
              "      <td>329</td>\n",
              "      <td>1.5</td>\n",
              "      <td>8.5</td>\n",
              "      <td>5</td>\n",
              "      <td>2.00</td>\n",
              "      <td>3</td>\n",
              "      <td>5.0</td>\n",
              "      <td>30</td>\n",
              "      <td>2</td>\n",
              "      <td>20</td>\n",
              "      <td>0</td>\n",
              "      <td>145.5</td>\n",
              "      <td>4</td>\n",
              "      <td>3</td>\n",
              "      <td>4777</td>\n",
              "      <td>10</td>\n",
              "      <td>1080</td>\n",
              "      <td>4</td>\n",
              "      <td>3</td>\n",
              "      <td>1</td>\n",
              "      <td>5.04</td>\n",
              "      <td>2</td>\n",
              "      <td>1</td>\n",
              "      <td>7</td>\n",
              "      <td>27</td>\n",
              "      <td>6</td>\n",
              "      <td>4</td>\n",
              "      <td>9</td>\n",
              "      <td>6</td>\n",
              "      <td>72.0</td>\n",
              "      <td>32.0</td>\n",
              "      <td>6</td>\n",
              "      <td>3</td>\n",
              "      <td>2500</td>\n",
              "      <td>164</td>\n",
              "      <td>0</td>\n",
              "    </tr>\n",
              "    <tr>\n",
              "      <th>3</th>\n",
              "      <td>0</td>\n",
              "      <td>8</td>\n",
              "      <td>55</td>\n",
              "      <td>152.0</td>\n",
              "      <td>385</td>\n",
              "      <td>1.3</td>\n",
              "      <td>8.0</td>\n",
              "      <td>5</td>\n",
              "      <td>2.00</td>\n",
              "      <td>3</td>\n",
              "      <td>5.0</td>\n",
              "      <td>15</td>\n",
              "      <td>3</td>\n",
              "      <td>0</td>\n",
              "      <td>0</td>\n",
              "      <td>147.5</td>\n",
              "      <td>26</td>\n",
              "      <td>3</td>\n",
              "      <td>5799</td>\n",
              "      <td>19</td>\n",
              "      <td>720</td>\n",
              "      <td>17</td>\n",
              "      <td>3</td>\n",
              "      <td>2</td>\n",
              "      <td>5.00</td>\n",
              "      <td>1</td>\n",
              "      <td>1</td>\n",
              "      <td>7</td>\n",
              "      <td>4</td>\n",
              "      <td>6</td>\n",
              "      <td>4</td>\n",
              "      <td>1</td>\n",
              "      <td>3</td>\n",
              "      <td>75.1</td>\n",
              "      <td>32.0</td>\n",
              "      <td>6</td>\n",
              "      <td>3</td>\n",
              "      <td>3000</td>\n",
              "      <td>165</td>\n",
              "      <td>1</td>\n",
              "    </tr>\n",
              "    <tr>\n",
              "      <th>4</th>\n",
              "      <td>1</td>\n",
              "      <td>1</td>\n",
              "      <td>55</td>\n",
              "      <td>234.0</td>\n",
              "      <td>385</td>\n",
              "      <td>1.3</td>\n",
              "      <td>7.9</td>\n",
              "      <td>5</td>\n",
              "      <td>1.92</td>\n",
              "      <td>3</td>\n",
              "      <td>5.0</td>\n",
              "      <td>15</td>\n",
              "      <td>3</td>\n",
              "      <td>0</td>\n",
              "      <td>0</td>\n",
              "      <td>179.0</td>\n",
              "      <td>18</td>\n",
              "      <td>3</td>\n",
              "      <td>5990</td>\n",
              "      <td>11</td>\n",
              "      <td>720</td>\n",
              "      <td>17</td>\n",
              "      <td>3</td>\n",
              "      <td>1</td>\n",
              "      <td>5.00</td>\n",
              "      <td>1</td>\n",
              "      <td>1</td>\n",
              "      <td>7</td>\n",
              "      <td>4</td>\n",
              "      <td>6</td>\n",
              "      <td>4</td>\n",
              "      <td>1</td>\n",
              "      <td>6</td>\n",
              "      <td>91.0</td>\n",
              "      <td>32.0</td>\n",
              "      <td>6</td>\n",
              "      <td>3</td>\n",
              "      <td>3000</td>\n",
              "      <td>165</td>\n",
              "      <td>0</td>\n",
              "    </tr>\n",
              "  </tbody>\n",
              "</table>\n",
              "</div>"
            ],
            "text/plain": [
              "   sim_type  aperture  gpu_rank  ...  battery_capacity  processor_rank  is_liked\n",
              "0         0        12        55  ...              2000             125         1\n",
              "1         0         1        55  ...              2000             165         1\n",
              "2         0         9        55  ...              2500             164         0\n",
              "3         0         8        55  ...              3000             165         1\n",
              "4         1         1        55  ...              3000             165         0\n",
              "\n",
              "[5 rows x 40 columns]"
            ]
          },
          "metadata": {
            "tags": []
          },
          "execution_count": 84
        }
      ]
    },
    {
      "cell_type": "code",
      "metadata": {
        "id": "ELL3QTREpijP",
        "colab_type": "code",
        "colab": {}
      },
      "source": [
        "ax = sns.scatterplot()"
      ],
      "execution_count": 0,
      "outputs": []
    }
  ]
}