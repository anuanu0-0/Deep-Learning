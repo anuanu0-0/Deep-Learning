{
  "nbformat": 4,
  "nbformat_minor": 0,
  "metadata": {
    "colab": {
      "name": "python_basics.ipynb",
      "provenance": [],
      "collapsed_sections": [
        "vCtyQ-1JoU6U",
        "LiOjiq-DqTkq",
        "QDJ-J-2nbJeA",
        "NjA_Bg-kf1XE",
        "3bc9v0fEokRA",
        "GFxRXKwxwUbC",
        "V7BfoiQfLfnj",
        "PK4oy8sQOgNe"
      ],
      "authorship_tag": "ABX9TyPv9TbQ9hqBI4Qtucuw63D0",
      "include_colab_link": true
    },
    "kernelspec": {
      "name": "python3",
      "display_name": "Python 3"
    }
  },
  "cells": [
    {
      "cell_type": "markdown",
      "metadata": {
        "id": "view-in-github",
        "colab_type": "text"
      },
      "source": [
        "<a href=\"https://colab.research.google.com/github/anuanu0-0/Deep-Learning/blob/master/Getting-Started/python_basics.ipynb\" target=\"_parent\"><img src=\"https://colab.research.google.com/assets/colab-badge.svg\" alt=\"Open In Colab\"/></a>"
      ]
    },
    {
      "cell_type": "markdown",
      "metadata": {
        "id": "vCtyQ-1JoU6U",
        "colab_type": "text"
      },
      "source": [
        "\n",
        "# Simple data types and operators\n"
      ]
    },
    {
      "cell_type": "code",
      "metadata": {
        "id": "CZN3hP8Enrd7",
        "colab_type": "code",
        "outputId": "e9162b27-80b5-40ab-8d3c-1b48dfd5c16e",
        "colab": {
          "base_uri": "https://localhost:8080/"
        }
      },
      "source": [
        "name = 'Hello World'\n",
        "type(name)\n"
      ],
      "execution_count": 0,
      "outputs": [
        {
          "output_type": "execute_result",
          "data": {
            "text/plain": [
              "str"
            ]
          },
          "metadata": {
            "tags": []
          },
          "execution_count": 1
        }
      ]
    },
    {
      "cell_type": "code",
      "metadata": {
        "id": "41AZlYAjocqx",
        "colab_type": "code",
        "outputId": "6e79a0af-49ec-471d-907b-798ab6550f84",
        "colab": {
          "base_uri": "https://localhost:8080/"
        }
      },
      "source": [
        "print(name)"
      ],
      "execution_count": 0,
      "outputs": [
        {
          "output_type": "stream",
          "text": [
            "Hello World\n"
          ],
          "name": "stdout"
        }
      ]
    },
    {
      "cell_type": "code",
      "metadata": {
        "id": "Cx_VPH9uoifw",
        "colab_type": "code",
        "outputId": "8585208d-e6db-4668-c0ff-e2a7a962f63f",
        "colab": {
          "base_uri": "https://localhost:8080/"
        }
      },
      "source": [
        "size = 12.22\n",
        "type(size)"
      ],
      "execution_count": 0,
      "outputs": [
        {
          "output_type": "execute_result",
          "data": {
            "text/plain": [
              "float"
            ]
          },
          "metadata": {
            "tags": []
          },
          "execution_count": 3
        }
      ]
    },
    {
      "cell_type": "code",
      "metadata": {
        "id": "fU16mjuCop99",
        "colab_type": "code",
        "outputId": "4f9736e9-6dc3-42df-9860-d5d043434d3e",
        "colab": {
          "base_uri": "https://localhost:8080/"
        }
      },
      "source": [
        "num = 2\n",
        "type(num)"
      ],
      "execution_count": 0,
      "outputs": [
        {
          "output_type": "execute_result",
          "data": {
            "text/plain": [
              "int"
            ]
          },
          "metadata": {
            "tags": []
          },
          "execution_count": 4
        }
      ]
    },
    {
      "cell_type": "code",
      "metadata": {
        "id": "9sCCj-olozyk",
        "colab_type": "code",
        "outputId": "8960f816-9c6e-4a9a-abae-dd11699c618b",
        "colab": {
          "base_uri": "https://localhost:8080/"
        }
      },
      "source": [
        "print('Its just a ' + name + ' program')"
      ],
      "execution_count": 0,
      "outputs": [
        {
          "output_type": "stream",
          "text": [
            "Its just a Hello World program\n"
          ],
          "name": "stdout"
        }
      ]
    },
    {
      "cell_type": "code",
      "metadata": {
        "id": "tjjjs5Zqo-mu",
        "colab_type": "code",
        "outputId": "aa19d4c6-5713-405e-9393-3b0b32f7335a",
        "colab": {
          "base_uri": "https://localhost:8080/"
        }
      },
      "source": [
        "a = 1\n",
        "b = 6\n",
        "print(a*b, a/b, a+b, a-b, a**b, a//b)"
      ],
      "execution_count": 0,
      "outputs": [
        {
          "output_type": "stream",
          "text": [
            "6 0.16666666666666666 7 -5 1 0\n"
          ],
          "name": "stdout"
        }
      ]
    },
    {
      "cell_type": "code",
      "metadata": {
        "id": "uq1VNUMdpae7",
        "colab_type": "code",
        "outputId": "0a38fe8d-850f-4063-9d92-be4f96843ca7",
        "colab": {
          "base_uri": "https://localhost:8080/"
        }
      },
      "source": [
        "is_android = False\n",
        "type(is_android)\n"
      ],
      "execution_count": 0,
      "outputs": [
        {
          "output_type": "execute_result",
          "data": {
            "text/plain": [
              "bool"
            ]
          },
          "metadata": {
            "tags": []
          },
          "execution_count": 7
        }
      ]
    },
    {
      "cell_type": "code",
      "metadata": {
        "id": "yN15BumXqAB_",
        "colab_type": "code",
        "outputId": "69b86f09-af3c-4bb7-b7ad-71d172179f11",
        "colab": {
          "base_uri": "https://localhost:8080/"
        }
      },
      "source": [
        "print (is_android == True and num > 1)\n",
        "print (is_android == True or num > 1)"
      ],
      "execution_count": 0,
      "outputs": [
        {
          "output_type": "stream",
          "text": [
            "False\n",
            "True\n"
          ],
          "name": "stdout"
        }
      ]
    },
    {
      "cell_type": "markdown",
      "metadata": {
        "id": "LiOjiq-DqTkq",
        "colab_type": "text"
      },
      "source": [
        "# Blocks -If, For, While\n"
      ]
    },
    {
      "cell_type": "code",
      "metadata": {
        "id": "aI2CWN_lqaol",
        "colab_type": "code",
        "outputId": "6fd12e57-71f7-4712-d238-a7a15bbc38a1",
        "colab": {
          "base_uri": "https://localhost:8080/"
        }
      },
      "source": [
        "if is_android == True:\n",
        "  print('Hello there')\n",
        "  # Try to make is_android = true while declaration\n",
        "print ('I always run') "
      ],
      "execution_count": 0,
      "outputs": [
        {
          "output_type": "stream",
          "text": [
            "I always run\n"
          ],
          "name": "stdout"
        }
      ]
    },
    {
      "cell_type": "code",
      "metadata": {
        "colab_type": "code",
        "outputId": "75f5b337-d190-4013-e9b9-0bd2a32aff5b",
        "id": "8kSCEtucar5e",
        "colab": {
          "base_uri": "https://localhost:8080/"
        }
      },
      "source": [
        "for i in range(2, 5):\n",
        "  print (i, i**2)"
      ],
      "execution_count": 0,
      "outputs": [
        {
          "output_type": "stream",
          "text": [
            "2 4\n",
            "3 9\n",
            "4 16\n"
          ],
          "name": "stdout"
        }
      ]
    },
    {
      "cell_type": "code",
      "metadata": {
        "id": "6bw6i0Uzatbf",
        "colab_type": "code",
        "colab": {}
      },
      "source": [
        "range?\n"
      ],
      "execution_count": 0,
      "outputs": []
    },
    {
      "cell_type": "code",
      "metadata": {
        "id": "7AXVr6yna41o",
        "colab_type": "code",
        "outputId": "9dfa318e-f34b-4355-c2b4-187d942d82e0",
        "colab": {
          "base_uri": "https://localhost:8080/"
        }
      },
      "source": [
        "i = 0\n",
        "while i < 5:\n",
        "  print (i, i**2)\n",
        "  i += 1"
      ],
      "execution_count": 0,
      "outputs": [
        {
          "output_type": "stream",
          "text": [
            "0 0\n",
            "1 1\n",
            "2 4\n",
            "3 9\n",
            "4 16\n"
          ],
          "name": "stdout"
        }
      ]
    },
    {
      "cell_type": "markdown",
      "metadata": {
        "id": "QDJ-J-2nbJeA",
        "colab_type": "text"
      },
      "source": [
        "# Functions\n"
      ]
    },
    {
      "cell_type": "code",
      "metadata": {
        "colab_type": "code",
        "id": "TTv19F1ybqqy",
        "colab": {}
      },
      "source": [
        "def print_square(stop_val):\n",
        "  for i in range(stop_val):\n",
        "    print (i, i**2)"
      ],
      "execution_count": 0,
      "outputs": []
    },
    {
      "cell_type": "code",
      "metadata": {
        "id": "Zt4g5iTbbsxg",
        "colab_type": "code",
        "outputId": "0b06b0c1-599d-4798-eb7a-6524c0c29517",
        "colab": {
          "base_uri": "https://localhost:8080/"
        }
      },
      "source": [
        "print_square(5)"
      ],
      "execution_count": 0,
      "outputs": [
        {
          "output_type": "stream",
          "text": [
            "0 0\n",
            "1 1\n",
            "2 4\n",
            "3 9\n",
            "4 16\n"
          ],
          "name": "stdout"
        }
      ]
    },
    {
      "cell_type": "code",
      "metadata": {
        "id": "wrF17w7abzYf",
        "colab_type": "code",
        "colab": {}
      },
      "source": [
        "\n",
        "def print_square_sum(stop_val):\n",
        "  sum_ = 0\n",
        "  for i in range(stop_val):\n",
        "    sum_ += i ** 2\n",
        "  return sum_"
      ],
      "execution_count": 0,
      "outputs": []
    },
    {
      "cell_type": "code",
      "metadata": {
        "id": "C4np19hkepYP",
        "colab_type": "code",
        "outputId": "9e673ba4-6776-4632-aa28-f8ca873da92c",
        "colab": {
          "base_uri": "https://localhost:8080/"
        }
      },
      "source": [
        "print_square_sum(5)"
      ],
      "execution_count": 0,
      "outputs": [
        {
          "output_type": "execute_result",
          "data": {
            "text/plain": [
              "30"
            ]
          },
          "metadata": {
            "tags": []
          },
          "execution_count": 16
        }
      ]
    },
    {
      "cell_type": "code",
      "metadata": {
        "colab_type": "code",
        "id": "qOIOvXw2dsoe",
        "colab": {}
      },
      "source": [
        "def print_squares_with_startval(stop_val , start_val = 0):\n",
        "    for i in range(start_val, stop_val):\n",
        "      print (i , i**2)"
      ],
      "execution_count": 0,
      "outputs": []
    },
    {
      "cell_type": "code",
      "metadata": {
        "colab_type": "code",
        "outputId": "db6c1753-b3f2-4233-d868-a246c0d3b26b",
        "id": "G1vsjp5GfpNz",
        "colab": {
          "base_uri": "https://localhost:8080/"
        }
      },
      "source": [
        "print_squares_with_startval(4, 2)"
      ],
      "execution_count": 0,
      "outputs": [
        {
          "output_type": "stream",
          "text": [
            "2 4\n",
            "3 9\n"
          ],
          "name": "stdout"
        }
      ]
    },
    {
      "cell_type": "code",
      "metadata": {
        "id": "hMELpU3_fp-V",
        "colab_type": "code",
        "colab": {}
      },
      "source": [
        "print_squares_with_startval?"
      ],
      "execution_count": 0,
      "outputs": []
    },
    {
      "cell_type": "markdown",
      "metadata": {
        "id": "NjA_Bg-kf1XE",
        "colab_type": "text"
      },
      "source": [
        "# Lists\n"
      ]
    },
    {
      "cell_type": "code",
      "metadata": {
        "id": "B-qLGgKwf0U8",
        "colab_type": "code",
        "outputId": "5c02c353-4726-4e2e-9325-98eb56c1ff92",
        "colab": {
          "base_uri": "https://localhost:8080/"
        }
      },
      "source": [
        "my_life = [name, is_android, size]\n",
        "print (my_life)"
      ],
      "execution_count": 0,
      "outputs": [
        {
          "output_type": "stream",
          "text": [
            "['Hello World', False, 12.22]\n"
          ],
          "name": "stdout"
        }
      ]
    },
    {
      "cell_type": "code",
      "metadata": {
        "id": "cARTf2cYk1i0",
        "colab_type": "code",
        "outputId": "e94a513c-f1f0-4d95-f611-eb82ad237533",
        "colab": {
          "base_uri": "https://localhost:8080/"
        }
      },
      "source": [
        "type(my_life)"
      ],
      "execution_count": 0,
      "outputs": [
        {
          "output_type": "execute_result",
          "data": {
            "text/plain": [
              "list"
            ]
          },
          "metadata": {
            "tags": []
          },
          "execution_count": 21
        }
      ]
    },
    {
      "cell_type": "code",
      "metadata": {
        "id": "2Z8jyu4sk_EJ",
        "colab_type": "code",
        "outputId": "ef89b1bc-dd92-4251-83d5-20fda1f30d81",
        "colab": {
          "base_uri": "https://localhost:8080/"
        }
      },
      "source": [
        "my_life[2]"
      ],
      "execution_count": 0,
      "outputs": [
        {
          "output_type": "execute_result",
          "data": {
            "text/plain": [
              "12.22"
            ]
          },
          "metadata": {
            "tags": []
          },
          "execution_count": 22
        }
      ]
    },
    {
      "cell_type": "code",
      "metadata": {
        "id": "two03cbulBqz",
        "colab_type": "code",
        "outputId": "12f99fd7-99f0-47bc-8425-70efea8706bd",
        "colab": {
          "base_uri": "https://localhost:8080/"
        }
      },
      "source": [
        "my_life[1:3]"
      ],
      "execution_count": 0,
      "outputs": [
        {
          "output_type": "execute_result",
          "data": {
            "text/plain": [
              "[False, 12.22]"
            ]
          },
          "metadata": {
            "tags": []
          },
          "execution_count": 23
        }
      ]
    },
    {
      "cell_type": "code",
      "metadata": {
        "id": "ShDA7e9rlGf4",
        "colab_type": "code",
        "colab": {}
      },
      "source": [
        "my_other_life = my_life\n",
        "my_secondOther_life = list(my_life)"
      ],
      "execution_count": 0,
      "outputs": []
    },
    {
      "cell_type": "code",
      "metadata": {
        "id": "YlNj1LbDlQ7q",
        "colab_type": "code",
        "outputId": "88538e3e-8d62-49e3-932d-e2b74c300972",
        "colab": {
          "base_uri": "https://localhost:8080/"
        }
      },
      "source": [
        "print (my_other_life)\n",
        "print (my_secondOther_life)"
      ],
      "execution_count": 0,
      "outputs": [
        {
          "output_type": "stream",
          "text": [
            "['Hello World', False, 12.22]\n",
            "['Hello World', False, 12.22]\n"
          ],
          "name": "stdout"
        }
      ]
    },
    {
      "cell_type": "code",
      "metadata": {
        "id": "VOK3dL-wls--",
        "colab_type": "code",
        "outputId": "a1abea14-6183-4acf-e22b-ef30d6da66ff",
        "colab": {
          "base_uri": "https://localhost:8080/"
        }
      },
      "source": [
        "my_life[2] = 1001.1001\n",
        "print (my_life)"
      ],
      "execution_count": 0,
      "outputs": [
        {
          "output_type": "stream",
          "text": [
            "['Hello World', False, 1001.1001]\n"
          ],
          "name": "stdout"
        }
      ]
    },
    {
      "cell_type": "code",
      "metadata": {
        "id": "2UPrAcVsl7Ym",
        "colab_type": "code",
        "outputId": "2fedde96-2951-45ab-97eb-a0b58d689941",
        "colab": {
          "base_uri": "https://localhost:8080/"
        }
      },
      "source": [
        "len (my_life)"
      ],
      "execution_count": 0,
      "outputs": [
        {
          "output_type": "execute_result",
          "data": {
            "text/plain": [
              "3"
            ]
          },
          "metadata": {
            "tags": []
          },
          "execution_count": 27
        }
      ]
    },
    {
      "cell_type": "code",
      "metadata": {
        "id": "eVw_EDrXmXFr",
        "colab_type": "code",
        "colab": {}
      },
      "source": [
        "len?"
      ],
      "execution_count": 0,
      "outputs": []
    },
    {
      "cell_type": "code",
      "metadata": {
        "id": "WkN74iMNmeOn",
        "colab_type": "code",
        "outputId": "883f248f-1086-4b07-8642-9206d484b9aa",
        "colab": {
          "base_uri": "https://localhost:8080/"
        }
      },
      "source": [
        "my_life.append('Coding')\n",
        "print (my_life)"
      ],
      "execution_count": 0,
      "outputs": [
        {
          "output_type": "stream",
          "text": [
            "['Hello World', False, 1001.1001, 'Coding']\n"
          ],
          "name": "stdout"
        }
      ]
    },
    {
      "cell_type": "code",
      "metadata": {
        "id": "cE3xicq0mxGe",
        "colab_type": "code",
        "outputId": "518bd389-9241-4d92-8f59-14a298d67014",
        "colab": {
          "base_uri": "https://localhost:8080/"
        }
      },
      "source": [
        "pro = ['backtracking', 101]\n",
        "my_life = my_life + pro\n",
        "print (my_life)"
      ],
      "execution_count": 0,
      "outputs": [
        {
          "output_type": "stream",
          "text": [
            "['Hello World', False, 1001.1001, 'Coding', 'backtracking', 101]\n"
          ],
          "name": "stdout"
        }
      ]
    },
    {
      "cell_type": "code",
      "metadata": {
        "id": "perht4cLnhj-",
        "colab_type": "code",
        "outputId": "bbbadf01-abf1-422c-ae2b-8377f1f51536",
        "colab": {
          "base_uri": "https://localhost:8080/"
        }
      },
      "source": [
        "for data in my_life:\n",
        "  print (data)"
      ],
      "execution_count": 0,
      "outputs": [
        {
          "output_type": "stream",
          "text": [
            "Hello World\n",
            "False\n",
            "1001.1001\n",
            "Coding\n",
            "backtracking\n",
            "101\n"
          ],
          "name": "stdout"
        }
      ]
    },
    {
      "cell_type": "code",
      "metadata": {
        "id": "Q90Yh8N1nse9",
        "colab_type": "code",
        "outputId": "bfa6216e-98d2-4b75-c333-e401da674aa7",
        "colab": {
          "base_uri": "https://localhost:8080/"
        }
      },
      "source": [
        "range(5)"
      ],
      "execution_count": 0,
      "outputs": [
        {
          "output_type": "execute_result",
          "data": {
            "text/plain": [
              "range(0, 5)"
            ]
          },
          "metadata": {
            "tags": []
          },
          "execution_count": 32
        }
      ]
    },
    {
      "cell_type": "code",
      "metadata": {
        "id": "Wl_Mg4L_nxVq",
        "colab_type": "code",
        "outputId": "1a50cb21-9763-4a52-eaae-e4a8d115db1e",
        "colab": {
          "base_uri": "https://localhost:8080/"
        }
      },
      "source": [
        "print (list(range(5)))"
      ],
      "execution_count": 0,
      "outputs": [
        {
          "output_type": "stream",
          "text": [
            "[0, 1, 2, 3, 4]\n"
          ],
          "name": "stdout"
        }
      ]
    },
    {
      "cell_type": "code",
      "metadata": {
        "id": "O9pvyWdmoBT5",
        "colab_type": "code",
        "outputId": "11f48d15-5d7b-4f3a-a2b7-1c39e5ad4194",
        "colab": {
          "base_uri": "https://localhost:8080/"
        }
      },
      "source": [
        "a = list(range(5))\n",
        "print (a)"
      ],
      "execution_count": 0,
      "outputs": [
        {
          "output_type": "stream",
          "text": [
            "[0, 1, 2, 3, 4]\n"
          ],
          "name": "stdout"
        }
      ]
    },
    {
      "cell_type": "code",
      "metadata": {
        "id": "ayy2g16kotxF",
        "colab_type": "code",
        "colab": {}
      },
      "source": [
        "map?"
      ],
      "execution_count": 0,
      "outputs": []
    },
    {
      "cell_type": "code",
      "metadata": {
        "id": "8i_YsgJqo5Eh",
        "colab_type": "code",
        "outputId": "733ee54e-fa9c-4ae1-af14-60887a20318c",
        "colab": {
          "base_uri": "https://localhost:8080/"
        }
      },
      "source": [
        "z = [1,2,3,4,5]\n",
        "test = list(map(lambda x: x * 2, z))\n",
        "print(test)"
      ],
      "execution_count": 0,
      "outputs": [
        {
          "output_type": "stream",
          "text": [
            "[2, 4, 6, 8, 10]\n"
          ],
          "name": "stdout"
        }
      ]
    },
    {
      "cell_type": "code",
      "metadata": {
        "id": "3sFpbPUtoS5s",
        "colab_type": "code",
        "outputId": "1e14353d-e01b-4f86-c597-054ef97d6b8f",
        "colab": {
          "base_uri": "https://localhost:8080/"
        }
      },
      "source": [
        "b = list(map(lambda x: x**2, a))\n",
        "print (b)"
      ],
      "execution_count": 0,
      "outputs": [
        {
          "output_type": "stream",
          "text": [
            "[0, 1, 4, 9, 16]\n"
          ],
          "name": "stdout"
        }
      ]
    },
    {
      "cell_type": "code",
      "metadata": {
        "id": "AOcijTVIn1R-",
        "colab_type": "code",
        "outputId": "311629dd-1fe5-41f1-a958-02bbdb87f94c",
        "colab": {
          "base_uri": "https://localhost:8080/"
        }
      },
      "source": [
        "c = list(filter(lambda x: x % 2 != 0, b))\n",
        "print(c)"
      ],
      "execution_count": 0,
      "outputs": [
        {
          "output_type": "stream",
          "text": [
            "[1, 9]\n"
          ],
          "name": "stdout"
        }
      ]
    },
    {
      "cell_type": "markdown",
      "metadata": {
        "id": "3bc9v0fEokRA",
        "colab_type": "text"
      },
      "source": [
        "# Tuples, Sets and Dicts"
      ]
    },
    {
      "cell_type": "code",
      "metadata": {
        "id": "a9RWBvdiofaT",
        "colab_type": "code",
        "outputId": "b84d733e-6d6f-430c-f302-aa581c99bfb2",
        "colab": {
          "base_uri": "https://localhost:8080/"
        }
      },
      "source": [
        "my_work_tuple = ('StartUp', True, 11.54)\n",
        "print(my_work_tuple)\n",
        "type (my_work_tuple)"
      ],
      "execution_count": 0,
      "outputs": [
        {
          "output_type": "stream",
          "text": [
            "('StartUp', True, 11.54)\n"
          ],
          "name": "stdout"
        },
        {
          "output_type": "execute_result",
          "data": {
            "text/plain": [
              "tuple"
            ]
          },
          "metadata": {
            "tags": []
          },
          "execution_count": 39
        }
      ]
    },
    {
      "cell_type": "code",
      "metadata": {
        "id": "7tQgaEZtpie7",
        "colab_type": "code",
        "outputId": "28f23115-9000-4e93-ecb9-e13f1949cc8f",
        "colab": {
          "base_uri": "https://localhost:8080/"
        }
      },
      "source": [
        "my_work_tuple[1:3]"
      ],
      "execution_count": 0,
      "outputs": [
        {
          "output_type": "execute_result",
          "data": {
            "text/plain": [
              "(True, 11.54)"
            ]
          },
          "metadata": {
            "tags": []
          },
          "execution_count": 40
        }
      ]
    },
    {
      "cell_type": "code",
      "metadata": {
        "id": "2HLf0ZIOprOg",
        "colab_type": "code",
        "outputId": "7d17fe50-7ead-4730-cd41-30e64b306c11",
        "colab": {
          "base_uri": "https://localhost:8080/"
        }
      },
      "source": [
        "for data in my_work_tuple:\n",
        "  print(data)"
      ],
      "execution_count": 0,
      "outputs": [
        {
          "output_type": "stream",
          "text": [
            "StartUp\n",
            "True\n",
            "11.54\n"
          ],
          "name": "stdout"
        }
      ]
    },
    {
      "cell_type": "code",
      "metadata": {
        "id": "pJm88JeNpy37",
        "colab_type": "code",
        "outputId": "200a495c-fb93-4b9b-aab9-5c57f03a9702",
        "colab": {
          "base_uri": "https://localhost:8080/"
        }
      },
      "source": [
        "my_work_tuple[2] = 1"
      ],
      "execution_count": 0,
      "outputs": [
        {
          "output_type": "error",
          "ename": "TypeError",
          "evalue": "ignored",
          "traceback": [
            "\u001b[0;31m---------------------------------------------------------------------------\u001b[0m",
            "\u001b[0;31mTypeError\u001b[0m                                 Traceback (most recent call last)",
            "\u001b[0;32m<ipython-input-42-eaa5bcaef4ae>\u001b[0m in \u001b[0;36m<module>\u001b[0;34m()\u001b[0m\n\u001b[0;32m----> 1\u001b[0;31m \u001b[0mmy_work_tuple\u001b[0m\u001b[0;34m[\u001b[0m\u001b[0;36m2\u001b[0m\u001b[0;34m]\u001b[0m \u001b[0;34m=\u001b[0m \u001b[0;36m1\u001b[0m\u001b[0;34m\u001b[0m\u001b[0;34m\u001b[0m\u001b[0m\n\u001b[0m",
            "\u001b[0;31mTypeError\u001b[0m: 'tuple' object does not support item assignment"
          ]
        }
      ]
    },
    {
      "cell_type": "code",
      "metadata": {
        "id": "puQJCdV1p3_4",
        "colab_type": "code",
        "colab": {}
      },
      "source": [
        "import time\n",
        "tic = time.time()\n",
        "print(tic)"
      ],
      "execution_count": 0,
      "outputs": []
    },
    {
      "cell_type": "code",
      "metadata": {
        "id": "YhGlCEc3qGwh",
        "colab_type": "code",
        "colab": {}
      },
      "source": [
        "time.time?"
      ],
      "execution_count": 0,
      "outputs": []
    },
    {
      "cell_type": "code",
      "metadata": {
        "id": "iFMj-efFqeJu",
        "colab_type": "code",
        "colab": {}
      },
      "source": [
        "tic = time.time()\n",
        "# Time elapsed in this comment is the difference between tic and toc\n",
        "toc = time.time()\n",
        "print('Elapsed time' , toc - tic)"
      ],
      "execution_count": 0,
      "outputs": []
    },
    {
      "cell_type": "code",
      "metadata": {
        "id": "H_qBUxFzq8ic",
        "colab_type": "code",
        "colab": {}
      },
      "source": [
        "my_list = list(range(1000000))\n",
        "tic = time.time()\n",
        "my_list_squared = map(lambda i: i**2, my_list)\n",
        "toc = time.time()\n",
        "print('Elapsed time in sec' , toc - tic)"
      ],
      "execution_count": 0,
      "outputs": []
    },
    {
      "cell_type": "code",
      "metadata": {
        "id": "X7w8cPnCrjqU",
        "colab_type": "code",
        "colab": {}
      },
      "source": [
        "my_tuple = tuple(range(1000000))\n",
        "tic = time.time()\n",
        "my_tuple_squared = map(lambda i: i**2, my_tuple)\n",
        "toc = time.time()\n",
        "print('Elapsed time in sec' , toc - tic)\n",
        "# Time taken in a tuple manipulation is less than the list manipulation\n"
      ],
      "execution_count": 0,
      "outputs": []
    },
    {
      "cell_type": "code",
      "metadata": {
        "id": "w0iyFw7nsQ1D",
        "colab_type": "code",
        "colab": {}
      },
      "source": [
        "my_set = set(my_life)\n",
        "print(my_set)"
      ],
      "execution_count": 0,
      "outputs": []
    },
    {
      "cell_type": "code",
      "metadata": {
        "id": "t4UlmM7FssS7",
        "colab_type": "code",
        "colab": {}
      },
      "source": [
        "my_list = list(range(1000000))\n",
        "tic = time.time()\n",
        "print (98731 in my_list)\n",
        "print (131581 in my_list)\n",
        "print (111111111111111 in my_list)\n",
        "toc = time.time()\n",
        "print('Elapsed time in sec' , toc - tic)"
      ],
      "execution_count": 0,
      "outputs": []
    },
    {
      "cell_type": "code",
      "metadata": {
        "id": "YYhnvRKPt056",
        "colab_type": "code",
        "colab": {}
      },
      "source": [
        "my_set = set(range(1000000))\n",
        "tic = time.time()\n",
        "print (98731 in my_list)\n",
        "print (131581 in my_list)\n",
        "print (111111111111111 in my_list)\n",
        "toc = time.time()\n",
        "print('Elapsed time in sec' , toc - tic)"
      ],
      "execution_count": 0,
      "outputs": []
    },
    {
      "cell_type": "code",
      "metadata": {
        "id": "8G2QRlDouaJj",
        "colab_type": "code",
        "colab": {}
      },
      "source": [
        "my_work_dict = {}\n",
        "type (my_work_dict)"
      ],
      "execution_count": 0,
      "outputs": []
    },
    {
      "cell_type": "code",
      "metadata": {
        "id": "PWwpswAkul1q",
        "colab_type": "code",
        "colab": {}
      },
      "source": [
        "my_work_dict['name'] = 'coding'\n",
        "my_work_dict['isActive'] = True\n",
        "my_work_dict['timeStamp'] =  12.19\n",
        "print(my_work_dict)"
      ],
      "execution_count": 0,
      "outputs": []
    },
    {
      "cell_type": "code",
      "metadata": {
        "id": "5nnWHF2gvGs1",
        "colab_type": "code",
        "colab": {}
      },
      "source": [
        "my_work_dict['name']"
      ],
      "execution_count": 0,
      "outputs": []
    },
    {
      "cell_type": "code",
      "metadata": {
        "id": "vczL_tbHvQKw",
        "colab_type": "code",
        "colab": {}
      },
      "source": [
        "print(my_work_dict.keys())\n",
        "print (my_work_dict.values())\n",
        "print(my_work_dict.items())"
      ],
      "execution_count": 0,
      "outputs": []
    },
    {
      "cell_type": "code",
      "metadata": {
        "id": "jWmRDa_yvmTC",
        "colab_type": "code",
        "colab": {}
      },
      "source": [
        "for key in my_work_dict.keys():\n",
        "  print(key, ':', my_work_dict[key])"
      ],
      "execution_count": 0,
      "outputs": []
    },
    {
      "cell_type": "markdown",
      "metadata": {
        "id": "E0rBsRVuwSNR",
        "colab_type": "text"
      },
      "source": [
        ""
      ]
    },
    {
      "cell_type": "markdown",
      "metadata": {
        "id": "GFxRXKwxwUbC",
        "colab_type": "text"
      },
      "source": [
        "# Python Packages\n",
        "\n"
      ]
    },
    {
      "cell_type": "code",
      "metadata": {
        "id": "Xhrqn1Dawhcj",
        "colab_type": "code",
        "colab": {}
      },
      "source": [
        "import math \n",
        "a = math.sqrt(100)\n",
        "print(a)"
      ],
      "execution_count": 0,
      "outputs": []
    },
    {
      "cell_type": "code",
      "metadata": {
        "id": "U6GdMp1hws-0",
        "colab_type": "code",
        "colab": {}
      },
      "source": [
        "a = math.pow(100, 0.5)\n",
        "print(a)"
      ],
      "execution_count": 0,
      "outputs": []
    },
    {
      "cell_type": "code",
      "metadata": {
        "id": "R93_vkwDw0is",
        "colab_type": "code",
        "colab": {}
      },
      "source": [
        "x = 100\n",
        "y = 1\n",
        "for i in range(1, x):\n",
        "  y *= i\n",
        "print('Factorial of', x, 'is', y)"
      ],
      "execution_count": 0,
      "outputs": []
    },
    {
      "cell_type": "code",
      "metadata": {
        "id": "bMffiBOXxQbM",
        "colab_type": "code",
        "colab": {}
      },
      "source": [
        "y = math.factorial(x)"
      ],
      "execution_count": 0,
      "outputs": []
    },
    {
      "cell_type": "code",
      "metadata": {
        "id": "TTa2HCXOxaVm",
        "colab_type": "code",
        "colab": {}
      },
      "source": [
        "import math as m \n",
        "y = m.factorial(x)"
      ],
      "execution_count": 0,
      "outputs": []
    },
    {
      "cell_type": "code",
      "metadata": {
        "id": "xxMcLE89xmBT",
        "colab_type": "code",
        "colab": {}
      },
      "source": [
        "from math import factorial\n",
        "y = factorial(x)"
      ],
      "execution_count": 0,
      "outputs": []
    },
    {
      "cell_type": "code",
      "metadata": {
        "id": "vg98Y5zwx6Ob",
        "colab_type": "code",
        "colab": {}
      },
      "source": [
        "val = list(range(1, 5))\n",
        "tic = time.time()\n",
        "y = 1\n",
        "for x in val:\n",
        "  y *= x\n",
        "  print (y) \n",
        "  toc = time.time()\n",
        "print('Elapsed time is ' , toc - tic) \n",
        "tic = time.time()\n",
        "# See the difference in time intervals\n",
        "for x in val:  \n",
        "  y1 = math.factorial(x)  \n",
        "  print(y1)\n",
        "  toc = time.time()\n",
        "print('Elapsed time is ' , toc - tic) \n"
      ],
      "execution_count": 0,
      "outputs": []
    },
    {
      "cell_type": "code",
      "metadata": {
        "id": "JMAN6Iie1ZBQ",
        "colab_type": "code",
        "colab": {}
      },
      "source": [
        "!echo 'def hello():' > my_first_module.py\n",
        "!echo '    print(\"Hello there.  It is another file\")' >> my_first_module.py\n",
        "!cat my_first_module.py"
      ],
      "execution_count": 0,
      "outputs": []
    },
    {
      "cell_type": "code",
      "metadata": {
        "id": "gJ02RK3M2Ezt",
        "colab_type": "code",
        "colab": {}
      },
      "source": [
        ""
      ],
      "execution_count": 0,
      "outputs": []
    },
    {
      "cell_type": "code",
      "metadata": {
        "id": "DCP5dVLR18si",
        "colab_type": "code",
        "colab": {}
      },
      "source": [
        "import my_first_module\n",
        "my_first_module.hello()"
      ],
      "execution_count": 0,
      "outputs": []
    },
    {
      "cell_type": "code",
      "metadata": {
        "id": "XU2q457-2Jh2",
        "colab_type": "code",
        "colab": {}
      },
      "source": [
        "from my_first_module import hello\n",
        "hello()"
      ],
      "execution_count": 0,
      "outputs": []
    },
    {
      "cell_type": "markdown",
      "metadata": {
        "id": "V7BfoiQfLfnj",
        "colab_type": "text"
      },
      "source": [
        "# File Handling"
      ]
    },
    {
      "cell_type": "code",
      "metadata": {
        "id": "2Km8TW-GLjz5",
        "colab_type": "code",
        "colab": {}
      },
      "source": [
        "!wget https://www.dropbox.com/s/w94odi4aq1k44lf/mobile_cleaned.csv"
      ],
      "execution_count": 0,
      "outputs": []
    },
    {
      "cell_type": "code",
      "metadata": {
        "id": "Ulfn-c0TMzMZ",
        "colab_type": "code",
        "colab": {}
      },
      "source": [
        "!wget https://onedrive.live.com/Edit.aspx?resid=A5151AA767C7DC0D!11701&wd=cpe"
      ],
      "execution_count": 0,
      "outputs": []
    },
    {
      "cell_type": "code",
      "metadata": {
        "id": "sPkknke8NCW7",
        "colab_type": "code",
        "colab": {}
      },
      "source": [
        "!ls"
      ],
      "execution_count": 0,
      "outputs": []
    },
    {
      "cell_type": "code",
      "metadata": {
        "id": "P7Zxad9yNG8Y",
        "colab_type": "code",
        "colab": {}
      },
      "source": [
        "file = open('mobile_cleaned.csv', 'r')"
      ],
      "execution_count": 0,
      "outputs": []
    },
    {
      "cell_type": "code",
      "metadata": {
        "id": "XjujjwWrNU73",
        "colab_type": "code",
        "colab": {}
      },
      "source": [
        "s = file.readline()"
      ],
      "execution_count": 0,
      "outputs": []
    },
    {
      "cell_type": "code",
      "metadata": {
        "id": "fGaF5FL_NZFv",
        "colab_type": "code",
        "colab": {}
      },
      "source": [
        "print(s)"
      ],
      "execution_count": 0,
      "outputs": []
    },
    {
      "cell_type": "code",
      "metadata": {
        "id": "a9gMvayxE8PA",
        "colab_type": "code",
        "colab": {}
      },
      "source": [
        "print(s.split(','))"
      ],
      "execution_count": 0,
      "outputs": []
    },
    {
      "cell_type": "code",
      "metadata": {
        "id": "nEftmJNHFHYK",
        "colab_type": "code",
        "colab": {}
      },
      "source": [
        "file.close()"
      ],
      "execution_count": 0,
      "outputs": []
    },
    {
      "cell_type": "code",
      "metadata": {
        "id": "kDDsW2__FLgQ",
        "colab_type": "code",
        "colab": {}
      },
      "source": [
        "file.readline()"
      ],
      "execution_count": 0,
      "outputs": []
    },
    {
      "cell_type": "code",
      "metadata": {
        "id": "icqaybexFRPW",
        "colab_type": "code",
        "colab": {}
      },
      "source": [
        "with open('mobile_cleaned.csv','r') as file:\n",
        "  print (file.readline())"
      ],
      "execution_count": 0,
      "outputs": []
    },
    {
      "cell_type": "code",
      "metadata": {
        "id": "l6YWaoV0G_Vy",
        "colab_type": "code",
        "colab": {}
      },
      "source": [
        "with open('mobile_cleaned.csv') as file:\n",
        "  print(file.read())"
      ],
      "execution_count": 0,
      "outputs": []
    },
    {
      "cell_type": "code",
      "metadata": {
        "id": "oyd05ogrHbkI",
        "colab_type": "code",
        "colab": {}
      },
      "source": [
        "with open('mobile_cleaned.csv', 'r') as file:\n",
        "  for line in file:\n",
        "    for word in line.split(','):\n",
        "      print(word)\n",
        "    print('--------')  "
      ],
      "execution_count": 0,
      "outputs": []
    },
    {
      "cell_type": "markdown",
      "metadata": {
        "id": "l6SJ_7sKOdHE",
        "colab_type": "text"
      },
      "source": [
        ""
      ]
    },
    {
      "cell_type": "code",
      "metadata": {
        "id": "DiKJ44CpIHHA",
        "colab_type": "code",
        "colab": {}
      },
      "source": [
        "with open('my_first_file_output.txt', 'w') as file:\n",
        "  file.write('Hello worldfrom python code')"
      ],
      "execution_count": 0,
      "outputs": []
    },
    {
      "cell_type": "code",
      "metadata": {
        "id": "yF96v4npIrCV",
        "colab_type": "code",
        "colab": {}
      },
      "source": [
        "!cat my_first_file_output.txt"
      ],
      "execution_count": 0,
      "outputs": []
    },
    {
      "cell_type": "markdown",
      "metadata": {
        "id": "PK4oy8sQOgNe",
        "colab_type": "text"
      },
      "source": [
        "# Python Classes"
      ]
    },
    {
      "cell_type": "code",
      "metadata": {
        "id": "fdSaIoAWOlNV",
        "colab_type": "code",
        "colab": {}
      },
      "source": [
        "class Test:\n",
        "  \"\"\"This is a sample class to illustrate how python classes work\"\"\"\n",
        "  def __init__(self, name, is_work = False, size = 4.3 ):\n",
        "    self.name = name\n",
        "    self.is_work = is_work\n",
        "    self.size = size\n",
        "    self.rating = -1\n",
        "\n",
        "  def has_rating(self) :\n",
        "    return self.rating > -1\n",
        "    \n",
        "  "
      ],
      "execution_count": 0,
      "outputs": []
    },
    {
      "cell_type": "code",
      "metadata": {
        "id": "fppt98stOE6p",
        "colab_type": "code",
        "colab": {}
      },
      "source": [
        "new_life = Test('Coding')\n",
        "type(new_life)"
      ],
      "execution_count": 0,
      "outputs": []
    },
    {
      "cell_type": "code",
      "metadata": {
        "id": "sWyk7YfFOiok",
        "colab_type": "code",
        "colab": {}
      },
      "source": [
        "print(new_life.name, new_life.is_work, new_life.size)"
      ],
      "execution_count": 0,
      "outputs": []
    },
    {
      "cell_type": "code",
      "metadata": {
        "id": "kE34PsMVO3qR",
        "colab_type": "code",
        "colab": {}
      },
      "source": [
        "new_life.size = 0"
      ],
      "execution_count": 0,
      "outputs": []
    },
    {
      "cell_type": "code",
      "metadata": {
        "id": "PBYiGbuOPAxo",
        "colab_type": "code",
        "colab": {}
      },
      "source": [
        "new_life.has_rating()"
      ],
      "execution_count": 0,
      "outputs": []
    },
    {
      "cell_type": "code",
      "metadata": {
        "id": "fuQ57xM3PGC6",
        "colab_type": "code",
        "colab": {}
      },
      "source": [
        "new_life.rating = 101"
      ],
      "execution_count": 0,
      "outputs": []
    },
    {
      "cell_type": "code",
      "metadata": {
        "id": "c52kSmoZPLh9",
        "colab_type": "code",
        "colab": {}
      },
      "source": [
        "new_life.has_rating()"
      ],
      "execution_count": 0,
      "outputs": []
    },
    {
      "cell_type": "code",
      "metadata": {
        "id": "sQnzclhEQuRX",
        "colab_type": "code",
        "colab": {}
      },
      "source": [
        "Test.__doc__"
      ],
      "execution_count": 0,
      "outputs": []
    },
    {
      "cell_type": "code",
      "metadata": {
        "id": "nQavjj7APPaJ",
        "colab_type": "code",
        "colab": {}
      },
      "source": [
        "class Play(Test):\n",
        "  def __init__(self, name):\n",
        "    Test.__init__(self, name, False, 4)\n",
        "\n",
        "  def __str__(self):\n",
        "    return self.name + \" \" + str(self.is_work) + \" \" +str(self.size)    "
      ],
      "execution_count": 0,
      "outputs": []
    },
    {
      "cell_type": "code",
      "metadata": {
        "id": "31UHqo0JQij4",
        "colab_type": "code",
        "colab": {}
      },
      "source": [
        "new_Life = Play('Code')\n",
        "new_Life.is_work"
      ],
      "execution_count": 0,
      "outputs": []
    },
    {
      "cell_type": "code",
      "metadata": {
        "id": "oG6ufTjyQf3M",
        "colab_type": "code",
        "colab": {}
      },
      "source": [
        ""
      ],
      "execution_count": 0,
      "outputs": []
    },
    {
      "cell_type": "markdown",
      "metadata": {
        "id": "6bY-DYdaPPKf",
        "colab_type": "text"
      },
      "source": [
        "# NumPy"
      ]
    },
    {
      "cell_type": "code",
      "metadata": {
        "id": "IQQp6B39PTIH",
        "colab_type": "code",
        "outputId": "7cd124eb-39b7-4ff8-8de9-bd95fda4ea27",
        "colab": {
          "base_uri": "https://localhost:8080/",
          "height": 35
        }
      },
      "source": [
        "import numpy as np\n",
        "X = np.array([1, 2, 3])\n",
        "print (X)"
      ],
      "execution_count": 0,
      "outputs": [
        {
          "output_type": "stream",
          "text": [
            "[1 2 3]\n"
          ],
          "name": "stdout"
        }
      ]
    },
    {
      "cell_type": "code",
      "metadata": {
        "id": "sLBczYLYPlYQ",
        "colab_type": "code",
        "outputId": "fda0322d-e0bb-4a9b-d520-161f6f5def66",
        "colab": {
          "base_uri": "https://localhost:8080/",
          "height": 35
        }
      },
      "source": [
        "type(X)"
      ],
      "execution_count": 0,
      "outputs": [
        {
          "output_type": "execute_result",
          "data": {
            "text/plain": [
              "numpy.ndarray"
            ]
          },
          "metadata": {
            "tags": []
          },
          "execution_count": 44
        }
      ]
    },
    {
      "cell_type": "code",
      "metadata": {
        "id": "RubbygWAPoMz",
        "colab_type": "code",
        "outputId": "c1783ac9-e0cb-4b03-9931-bac73acb92bc",
        "colab": {
          "base_uri": "https://localhost:8080/",
          "height": 35
        }
      },
      "source": [
        "L = [400, 510, 6]\n",
        "X = np.asarray(L)\n",
        "type(X)\n"
      ],
      "execution_count": 0,
      "outputs": [
        {
          "output_type": "execute_result",
          "data": {
            "text/plain": [
              "numpy.ndarray"
            ]
          },
          "metadata": {
            "tags": []
          },
          "execution_count": 48
        }
      ]
    },
    {
      "cell_type": "code",
      "metadata": {
        "id": "E33qyoROP9pQ",
        "colab_type": "code",
        "outputId": "b0b63d18-193b-4e06-be40-c53640a13f7f",
        "colab": {
          "base_uri": "https://localhost:8080/",
          "height": 35
        }
      },
      "source": [
        "print(X)"
      ],
      "execution_count": 0,
      "outputs": [
        {
          "output_type": "stream",
          "text": [
            "[400 510   6]\n"
          ],
          "name": "stdout"
        }
      ]
    },
    {
      "cell_type": "code",
      "metadata": {
        "id": "7rSUGWu8QICv",
        "colab_type": "code",
        "colab": {}
      },
      "source": [
        "np.asarray?"
      ],
      "execution_count": 0,
      "outputs": []
    },
    {
      "cell_type": "code",
      "metadata": {
        "id": "QJm2pfqOQg7S",
        "colab_type": "code",
        "outputId": "c1d7b30f-b68b-4d2a-ac0d-d86c8b915ecf",
        "colab": {
          "base_uri": "https://localhost:8080/",
          "height": 35
        }
      },
      "source": [
        "X = np.asarray(L, dtype=float )\n",
        "print(X)"
      ],
      "execution_count": 0,
      "outputs": [
        {
          "output_type": "stream",
          "text": [
            "[400. 510.   6.]\n"
          ],
          "name": "stdout"
        }
      ]
    },
    {
      "cell_type": "code",
      "metadata": {
        "id": "N1R_5HrRR1As",
        "colab_type": "code",
        "outputId": "5d5771d8-3cdf-4759-ffc6-ab987be03d37",
        "colab": {
          "base_uri": "https://localhost:8080/",
          "height": 35
        }
      },
      "source": [
        "X.shape"
      ],
      "execution_count": 0,
      "outputs": [
        {
          "output_type": "execute_result",
          "data": {
            "text/plain": [
              "(3,)"
            ]
          },
          "metadata": {
            "tags": []
          },
          "execution_count": 50
        }
      ]
    },
    {
      "cell_type": "code",
      "metadata": {
        "id": "9oprwMfeR7Nq",
        "colab_type": "code",
        "colab": {}
      },
      "source": [
        "X.shape?\n"
      ],
      "execution_count": 0,
      "outputs": []
    },
    {
      "cell_type": "code",
      "metadata": {
        "id": "dnWTIIFRSJZl",
        "colab_type": "code",
        "colab": {}
      },
      "source": [
        "np.array?"
      ],
      "execution_count": 0,
      "outputs": []
    },
    {
      "cell_type": "code",
      "metadata": {
        "id": "9xy5swEGSN0U",
        "colab_type": "code",
        "outputId": "1e2ea9b5-4a46-4bca-a64c-3f3b0dbaace9",
        "colab": {
          "base_uri": "https://localhost:8080/",
          "height": 89
        }
      },
      "source": [
        "X = np.array([[0,1,2,3],[1,4,5,6], [2,7,8,9]])\n",
        "print(X)\n",
        "X.shape"
      ],
      "execution_count": 0,
      "outputs": [
        {
          "output_type": "stream",
          "text": [
            "[[0 1 2 3]\n",
            " [1 4 5 6]\n",
            " [2 7 8 9]]\n"
          ],
          "name": "stdout"
        },
        {
          "output_type": "execute_result",
          "data": {
            "text/plain": [
              "(3, 4)"
            ]
          },
          "metadata": {
            "tags": []
          },
          "execution_count": 52
        }
      ]
    },
    {
      "cell_type": "code",
      "metadata": {
        "id": "YnlK1pZ9S7ox",
        "colab_type": "code",
        "outputId": "40513fee-66b2-44a4-8227-72a635099689",
        "colab": {
          "base_uri": "https://localhost:8080/",
          "height": 35
        }
      },
      "source": [
        "X[1,2]+X[2,0]"
      ],
      "execution_count": 0,
      "outputs": [
        {
          "output_type": "execute_result",
          "data": {
            "text/plain": [
              "7"
            ]
          },
          "metadata": {
            "tags": []
          },
          "execution_count": 55
        }
      ]
    },
    {
      "cell_type": "code",
      "metadata": {
        "id": "nTGrPae-TJyR",
        "colab_type": "code",
        "outputId": "8faaf1c5-041a-4907-9daf-422bf3d7cc70",
        "colab": {
          "base_uri": "https://localhost:8080/",
          "height": 35
        }
      },
      "source": [
        "X[0, 0:2]"
      ],
      "execution_count": 0,
      "outputs": [
        {
          "output_type": "execute_result",
          "data": {
            "text/plain": [
              "array([0, 1])"
            ]
          },
          "metadata": {
            "tags": []
          },
          "execution_count": 56
        }
      ]
    },
    {
      "cell_type": "code",
      "metadata": {
        "id": "m_10dy1YTarx",
        "colab_type": "code",
        "outputId": "f2f20493-ff5e-4a36-cad6-821d2073fda9",
        "colab": {
          "base_uri": "https://localhost:8080/",
          "height": 35
        }
      },
      "source": [
        "X[1, 0:2]"
      ],
      "execution_count": 0,
      "outputs": [
        {
          "output_type": "execute_result",
          "data": {
            "text/plain": [
              "array([1, 4])"
            ]
          },
          "metadata": {
            "tags": []
          },
          "execution_count": 57
        }
      ]
    },
    {
      "cell_type": "code",
      "metadata": {
        "id": "Fif7nvQ9Td7Y",
        "colab_type": "code",
        "outputId": "9256148c-aa90-4f46-b7a4-db2eccbf5995",
        "colab": {
          "base_uri": "https://localhost:8080/",
          "height": 35
        }
      },
      "source": [
        "X[0,:]"
      ],
      "execution_count": 0,
      "outputs": [
        {
          "output_type": "execute_result",
          "data": {
            "text/plain": [
              "array([0, 1, 2, 3])"
            ]
          },
          "metadata": {
            "tags": []
          },
          "execution_count": 58
        }
      ]
    },
    {
      "cell_type": "code",
      "metadata": {
        "id": "O4GTkEM5Tlbz",
        "colab_type": "code",
        "outputId": "3a1c98cf-0f85-4211-c082-378a4c60aaa0",
        "colab": {
          "base_uri": "https://localhost:8080/",
          "height": 71
        }
      },
      "source": [
        "X[0:]"
      ],
      "execution_count": 0,
      "outputs": [
        {
          "output_type": "execute_result",
          "data": {
            "text/plain": [
              "array([[0, 1, 2, 3],\n",
              "       [1, 4, 5, 6],\n",
              "       [2, 7, 8, 9]])"
            ]
          },
          "metadata": {
            "tags": []
          },
          "execution_count": 59
        }
      ]
    },
    {
      "cell_type": "code",
      "metadata": {
        "id": "7jPczlwHTnsv",
        "colab_type": "code",
        "outputId": "6ad0e183-988d-4a1c-e40b-a1bc9c6df84e",
        "colab": {
          "base_uri": "https://localhost:8080/",
          "height": 71
        }
      },
      "source": [
        "X[:3]"
      ],
      "execution_count": 0,
      "outputs": [
        {
          "output_type": "execute_result",
          "data": {
            "text/plain": [
              "array([[0, 1, 2, 3],\n",
              "       [1, 4, 5, 6],\n",
              "       [2, 7, 8, 9]])"
            ]
          },
          "metadata": {
            "tags": []
          },
          "execution_count": 60
        }
      ]
    },
    {
      "cell_type": "code",
      "metadata": {
        "id": "eeuZP1R9Tz-O",
        "colab_type": "code",
        "outputId": "bda9f987-288c-421b-b174-bea0edea80c1",
        "colab": {
          "base_uri": "https://localhost:8080/",
          "height": 89
        }
      },
      "source": [
        "X = np.zeros((4,5))\n",
        "print(X)\n",
        "# np.zeros?"
      ],
      "execution_count": 0,
      "outputs": [
        {
          "output_type": "stream",
          "text": [
            "[[0. 0. 0. 0. 0.]\n",
            " [0. 0. 0. 0. 0.]\n",
            " [0. 0. 0. 0. 0.]\n",
            " [0. 0. 0. 0. 0.]]\n"
          ],
          "name": "stdout"
        }
      ]
    },
    {
      "cell_type": "code",
      "metadata": {
        "id": "v9TUXY_vUM0L",
        "colab_type": "code",
        "outputId": "14133ceb-6e30-42e2-f367-42d2c746d09b",
        "colab": {
          "base_uri": "https://localhost:8080/",
          "height": 89
        }
      },
      "source": [
        "X = np.eye(4,4)\n",
        "print(X)"
      ],
      "execution_count": 0,
      "outputs": [
        {
          "output_type": "stream",
          "text": [
            "[[1. 0. 0. 0.]\n",
            " [0. 1. 0. 0.]\n",
            " [0. 0. 1. 0.]\n",
            " [0. 0. 0. 1.]]\n"
          ],
          "name": "stdout"
        }
      ]
    },
    {
      "cell_type": "code",
      "metadata": {
        "id": "yYBG4ZvUUfZ8",
        "colab_type": "code",
        "outputId": "ea0cf017-4dfd-438a-aaba-2658e76dcea5",
        "colab": {
          "base_uri": "https://localhost:8080/",
          "height": 89
        }
      },
      "source": [
        "X = np.random.random((4,5))\n",
        "print(X)"
      ],
      "execution_count": 0,
      "outputs": [
        {
          "output_type": "stream",
          "text": [
            "[[0.10164559 0.76230083 0.12252071 0.48014589 0.1703636 ]\n",
            " [0.6068754  0.43070082 0.92302058 0.73746276 0.82238765]\n",
            " [0.28152666 0.79479663 0.53265091 0.70466053 0.42127354]\n",
            " [0.23272573 0.00240298 0.87292811 0.12435509 0.83357477]]\n"
          ],
          "name": "stdout"
        }
      ]
    },
    {
      "cell_type": "code",
      "metadata": {
        "id": "XBe_Q9AyDkMr",
        "colab_type": "code",
        "outputId": "bdbd9e3c-7dd0-45d2-b3c5-05fcafb12f98",
        "colab": {
          "base_uri": "https://localhost:8080/",
          "height": 107
        }
      },
      "source": [
        "Z = X.T\n",
        "print(Z)"
      ],
      "execution_count": 0,
      "outputs": [
        {
          "output_type": "stream",
          "text": [
            "[[0.10164559 0.6068754  0.28152666 0.23272573]\n",
            " [0.76230083 0.43070082 0.79479663 0.00240298]\n",
            " [0.12252071 0.92302058 0.53265091 0.87292811]\n",
            " [0.48014589 0.73746276 0.70466053 0.12435509]\n",
            " [0.1703636  0.82238765 0.42127354 0.83357477]]\n"
          ],
          "name": "stdout"
        }
      ]
    },
    {
      "cell_type": "code",
      "metadata": {
        "id": "N0dxUzCZD0FH",
        "colab_type": "code",
        "outputId": "c6611b97-d4b0-4a82-f9ab-e1abc8e9caed",
        "colab": {
          "base_uri": "https://localhost:8080/",
          "height": 377
        }
      },
      "source": [
        "Y = X.reshape(20, 1)\n",
        "print(Y)"
      ],
      "execution_count": 0,
      "outputs": [
        {
          "output_type": "stream",
          "text": [
            "[[0.10164559]\n",
            " [0.76230083]\n",
            " [0.12252071]\n",
            " [0.48014589]\n",
            " [0.1703636 ]\n",
            " [0.6068754 ]\n",
            " [0.43070082]\n",
            " [0.92302058]\n",
            " [0.73746276]\n",
            " [0.82238765]\n",
            " [0.28152666]\n",
            " [0.79479663]\n",
            " [0.53265091]\n",
            " [0.70466053]\n",
            " [0.42127354]\n",
            " [0.23272573]\n",
            " [0.00240298]\n",
            " [0.87292811]\n",
            " [0.12435509]\n",
            " [0.83357477]]\n"
          ],
          "name": "stdout"
        }
      ]
    },
    {
      "cell_type": "code",
      "metadata": {
        "id": "yLVc9sC6D_gY",
        "colab_type": "code",
        "outputId": "afb0538e-a1a2-47eb-e881-fa15d2557809",
        "colab": {
          "base_uri": "https://localhost:8080/",
          "height": 35
        }
      },
      "source": [
        "A = np.arange(5)\n",
        "print(A)"
      ],
      "execution_count": 0,
      "outputs": [
        {
          "output_type": "stream",
          "text": [
            "[0 1 2 3 4]\n"
          ],
          "name": "stdout"
        }
      ]
    },
    {
      "cell_type": "code",
      "metadata": {
        "id": "017suBkxEJvg",
        "colab_type": "code",
        "colab": {}
      },
      "source": [
        "B = np.arange(5)"
      ],
      "execution_count": 0,
      "outputs": []
    },
    {
      "cell_type": "code",
      "metadata": {
        "id": "SC8sjupPEYiW",
        "colab_type": "code",
        "outputId": "a4a504d8-89fd-4292-f933-fd12ddf171f1",
        "colab": {
          "base_uri": "https://localhost:8080/",
          "height": 35
        }
      },
      "source": [
        "C = A + B\n",
        "D = A - B\n",
        "E = A * B\n",
        "print (C, D, E)"
      ],
      "execution_count": 0,
      "outputs": [
        {
          "output_type": "stream",
          "text": [
            "[0 2 4 6 8] [0 0 0 0 0] [ 0  1  4  9 16]\n"
          ],
          "name": "stdout"
        }
      ]
    },
    {
      "cell_type": "code",
      "metadata": {
        "id": "fZgWQMYYEubS",
        "colab_type": "code",
        "outputId": "00607354-b764-448a-af5e-27683687637c",
        "colab": {
          "base_uri": "https://localhost:8080/",
          "height": 35
        }
      },
      "source": [
        "print(A, A + 1)"
      ],
      "execution_count": 0,
      "outputs": [
        {
          "output_type": "stream",
          "text": [
            "[0 1 2 3 4] [1 2 3 4 5]\n"
          ],
          "name": "stdout"
        }
      ]
    },
    {
      "cell_type": "code",
      "metadata": {
        "id": "aSp-KNihE3Fs",
        "colab_type": "code",
        "outputId": "c4c14b9f-6bbf-4f34-8b76-f35ed2037fa7",
        "colab": {
          "base_uri": "https://localhost:8080/",
          "height": 89
        }
      },
      "source": [
        "A = np.random.random((2, 3))\n",
        "print (A)\n",
        "print (A + 1)"
      ],
      "execution_count": 0,
      "outputs": [
        {
          "output_type": "stream",
          "text": [
            "[[0.41901376 0.30802462 0.02685475]\n",
            " [0.99706848 0.49809028 0.50008813]]\n",
            "[[1.41901376 1.30802462 1.02685475]\n",
            " [1.99706848 1.49809028 1.50008813]]\n"
          ],
          "name": "stdout"
        }
      ]
    },
    {
      "cell_type": "code",
      "metadata": {
        "id": "fKdBNYcJFSc5",
        "colab_type": "code",
        "outputId": "72a9befb-06b0-42fe-a867-7a83a64630f7",
        "colab": {
          "base_uri": "https://localhost:8080/",
          "height": 53
        }
      },
      "source": [
        "A = np.floor(np.random.random((2, 3)) * 10)\n",
        "print (A)"
      ],
      "execution_count": 0,
      "outputs": [
        {
          "output_type": "stream",
          "text": [
            "[[3. 3. 4.]\n",
            " [3. 4. 2.]]\n"
          ],
          "name": "stdout"
        }
      ]
    },
    {
      "cell_type": "code",
      "metadata": {
        "id": "XbsostnnFn21",
        "colab_type": "code",
        "outputId": "ca272664-6c35-4e6c-8b29-4f3a0908215b",
        "colab": {
          "base_uri": "https://localhost:8080/",
          "height": 35
        }
      },
      "source": [
        "u = [1, 2, 3]\n",
        "v = [-1, 0, 1]\n",
        "p1 = np.inner(u, v)\n",
        "print (p1)"
      ],
      "execution_count": 0,
      "outputs": [
        {
          "output_type": "stream",
          "text": [
            "2\n"
          ],
          "name": "stdout"
        }
      ]
    },
    {
      "cell_type": "code",
      "metadata": {
        "id": "cNa0LmdYF6FP",
        "colab_type": "code",
        "outputId": "e288211b-bf7f-40ec-cfb0-9ca75f2731dd",
        "colab": {
          "base_uri": "https://localhost:8080/",
          "height": 71
        }
      },
      "source": [
        "p2 = np.outer(u, v)\n",
        "print (p2)"
      ],
      "execution_count": 0,
      "outputs": [
        {
          "output_type": "stream",
          "text": [
            "[[-1  0  1]\n",
            " [-2  0  2]\n",
            " [-3  0  3]]\n"
          ],
          "name": "stdout"
        }
      ]
    },
    {
      "cell_type": "code",
      "metadata": {
        "id": "kEda0PTfRRdd",
        "colab_type": "code",
        "colab": {
          "base_uri": "https://localhost:8080/",
          "height": 107
        },
        "outputId": "7ed53aae-b59e-422f-901d-a2d8f10c9a2c"
      },
      "source": [
        "A = np.ones((2,3))\n",
        "B = np.ones((3,2))\n",
        "print (A)\n",
        "print (B)"
      ],
      "execution_count": 79,
      "outputs": [
        {
          "output_type": "stream",
          "text": [
            "[[1. 1. 1.]\n",
            " [1. 1. 1.]]\n",
            "[[1. 1.]\n",
            " [1. 1.]\n",
            " [1. 1.]]\n"
          ],
          "name": "stdout"
        }
      ]
    },
    {
      "cell_type": "code",
      "metadata": {
        "id": "hL26S7R5RogG",
        "colab_type": "code",
        "colab": {
          "base_uri": "https://localhost:8080/",
          "height": 53
        },
        "outputId": "7e7bee78-9612-4aba-8983-8f18c40baaf4"
      },
      "source": [
        "np.dot(A, B)"
      ],
      "execution_count": 80,
      "outputs": [
        {
          "output_type": "execute_result",
          "data": {
            "text/plain": [
              "array([[3., 3.],\n",
              "       [3., 3.]])"
            ]
          },
          "metadata": {
            "tags": []
          },
          "execution_count": 80
        }
      ]
    },
    {
      "cell_type": "code",
      "metadata": {
        "id": "XM9hXmooR9Nw",
        "colab_type": "code",
        "colab": {}
      },
      "source": [
        "np.dot?"
      ],
      "execution_count": 0,
      "outputs": []
    },
    {
      "cell_type": "code",
      "metadata": {
        "id": "HoiT-QCZSaaV",
        "colab_type": "code",
        "colab": {}
      },
      "source": [
        "np.inner?"
      ],
      "execution_count": 0,
      "outputs": []
    },
    {
      "cell_type": "code",
      "metadata": {
        "id": "oO-hCEdFSm9c",
        "colab_type": "code",
        "colab": {
          "base_uri": "https://localhost:8080/",
          "height": 53
        },
        "outputId": "354bb992-9f95-4630-fd67-f8c5a8694f13"
      },
      "source": [
        "np.dot(B.T, A.T)"
      ],
      "execution_count": 83,
      "outputs": [
        {
          "output_type": "execute_result",
          "data": {
            "text/plain": [
              "array([[3., 3.],\n",
              "       [3., 3.]])"
            ]
          },
          "metadata": {
            "tags": []
          },
          "execution_count": 83
        }
      ]
    },
    {
      "cell_type": "code",
      "metadata": {
        "id": "HBVTNt2ySxRK",
        "colab_type": "code",
        "colab": {
          "base_uri": "https://localhost:8080/",
          "height": 53
        },
        "outputId": "e0c3df6e-134f-4c70-a310-b96c29794ca7"
      },
      "source": [
        "A = np.ones((2, 3))\n",
        "print (A)"
      ],
      "execution_count": 84,
      "outputs": [
        {
          "output_type": "stream",
          "text": [
            "[[1. 1. 1.]\n",
            " [1. 1. 1.]]\n"
          ],
          "name": "stdout"
        }
      ]
    },
    {
      "cell_type": "code",
      "metadata": {
        "id": "cMoA6QBHS-dO",
        "colab_type": "code",
        "colab": {
          "base_uri": "https://localhost:8080/",
          "height": 35
        },
        "outputId": "c35fcd69-57fe-4097-ee76-43081f126c4d"
      },
      "source": [
        "A.sum()"
      ],
      "execution_count": 85,
      "outputs": [
        {
          "output_type": "execute_result",
          "data": {
            "text/plain": [
              "6.0"
            ]
          },
          "metadata": {
            "tags": []
          },
          "execution_count": 85
        }
      ]
    },
    {
      "cell_type": "code",
      "metadata": {
        "id": "jWNYWStoTE-Z",
        "colab_type": "code",
        "colab": {
          "base_uri": "https://localhost:8080/",
          "height": 35
        },
        "outputId": "7b0aaf43-a8a5-4d01-d0d7-b3d59af3e2c4"
      },
      "source": [
        "A.sum(axis = 0)"
      ],
      "execution_count": 86,
      "outputs": [
        {
          "output_type": "execute_result",
          "data": {
            "text/plain": [
              "array([2., 2., 2.])"
            ]
          },
          "metadata": {
            "tags": []
          },
          "execution_count": 86
        }
      ]
    },
    {
      "cell_type": "code",
      "metadata": {
        "id": "PCmP29mpTLG1",
        "colab_type": "code",
        "colab": {
          "base_uri": "https://localhost:8080/",
          "height": 35
        },
        "outputId": "de2e4120-3359-49bc-da96-b53b0cc6b59b"
      },
      "source": [
        "A.sum(axis = 1)"
      ],
      "execution_count": 87,
      "outputs": [
        {
          "output_type": "execute_result",
          "data": {
            "text/plain": [
              "array([3., 3.])"
            ]
          },
          "metadata": {
            "tags": []
          },
          "execution_count": 87
        }
      ]
    },
    {
      "cell_type": "code",
      "metadata": {
        "id": "9lvEzdvrSNiY",
        "colab_type": "code",
        "colab": {
          "base_uri": "https://localhost:8080/",
          "height": 318
        },
        "outputId": "41ff9556-c976-4ced-87b0-39f4870dd97e"
      },
      "source": [
        "A.sum(axis = 3)"
      ],
      "execution_count": 88,
      "outputs": [
        {
          "output_type": "error",
          "ename": "AxisError",
          "evalue": "ignored",
          "traceback": [
            "\u001b[0;31m---------------------------------------------------------------------------\u001b[0m",
            "\u001b[0;31mAxisError\u001b[0m                                 Traceback (most recent call last)",
            "\u001b[0;32m<ipython-input-88-831103c69707>\u001b[0m in \u001b[0;36m<module>\u001b[0;34m()\u001b[0m\n\u001b[0;32m----> 1\u001b[0;31m \u001b[0mA\u001b[0m\u001b[0;34m.\u001b[0m\u001b[0msum\u001b[0m\u001b[0;34m(\u001b[0m\u001b[0maxis\u001b[0m \u001b[0;34m=\u001b[0m \u001b[0;36m3\u001b[0m\u001b[0;34m)\u001b[0m\u001b[0;34m\u001b[0m\u001b[0;34m\u001b[0m\u001b[0m\n\u001b[0m",
            "\u001b[0;32m/usr/local/lib/python3.6/dist-packages/numpy/core/_methods.py\u001b[0m in \u001b[0;36m_sum\u001b[0;34m(a, axis, dtype, out, keepdims, initial, where)\u001b[0m\n\u001b[1;32m     36\u001b[0m def _sum(a, axis=None, dtype=None, out=None, keepdims=False,\n\u001b[1;32m     37\u001b[0m          initial=_NoValue, where=True):\n\u001b[0;32m---> 38\u001b[0;31m     \u001b[0;32mreturn\u001b[0m \u001b[0mumr_sum\u001b[0m\u001b[0;34m(\u001b[0m\u001b[0ma\u001b[0m\u001b[0;34m,\u001b[0m \u001b[0maxis\u001b[0m\u001b[0;34m,\u001b[0m \u001b[0mdtype\u001b[0m\u001b[0;34m,\u001b[0m \u001b[0mout\u001b[0m\u001b[0;34m,\u001b[0m \u001b[0mkeepdims\u001b[0m\u001b[0;34m,\u001b[0m \u001b[0minitial\u001b[0m\u001b[0;34m,\u001b[0m \u001b[0mwhere\u001b[0m\u001b[0;34m)\u001b[0m\u001b[0;34m\u001b[0m\u001b[0;34m\u001b[0m\u001b[0m\n\u001b[0m\u001b[1;32m     39\u001b[0m \u001b[0;34m\u001b[0m\u001b[0m\n\u001b[1;32m     40\u001b[0m def _prod(a, axis=None, dtype=None, out=None, keepdims=False,\n",
            "\u001b[0;31mAxisError\u001b[0m: axis 3 is out of bounds for array of dimension 2"
          ]
        }
      ]
    },
    {
      "cell_type": "code",
      "metadata": {
        "id": "oJh0eWDyTWX8",
        "colab_type": "code",
        "colab": {
          "base_uri": "https://localhost:8080/",
          "height": 35
        },
        "outputId": "cdcaf234-c0e0-4fc8-d83e-5d6942a00e2d"
      },
      "source": [
        "A.max()"
      ],
      "execution_count": 89,
      "outputs": [
        {
          "output_type": "execute_result",
          "data": {
            "text/plain": [
              "1.0"
            ]
          },
          "metadata": {
            "tags": []
          },
          "execution_count": 89
        }
      ]
    },
    {
      "cell_type": "markdown",
      "metadata": {
        "id": "nL5VE6KdTbpC",
        "colab_type": "text"
      },
      "source": [
        "# Plotting"
      ]
    },
    {
      "cell_type": "code",
      "metadata": {
        "id": "sxzvJ4C_Tgep",
        "colab_type": "code",
        "colab": {}
      },
      "source": [
        ""
      ],
      "execution_count": 0,
      "outputs": []
    }
  ]
}